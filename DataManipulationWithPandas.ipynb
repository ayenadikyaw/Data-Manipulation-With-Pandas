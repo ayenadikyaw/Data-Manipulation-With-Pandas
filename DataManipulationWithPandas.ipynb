{
 "cells": [
  {
   "cell_type": "markdown",
   "source": "# Data Manipulation Techniques using Pandas",
   "metadata": {
    "tags": [],
    "is_collapsed": false,
    "cell_id": "00000-e3bbb1c1-2618-43de-a06e-fc687c7ab510",
    "deepnote_cell_type": "text-cell-h1"
   }
  },
  {
   "cell_type": "markdown",
   "source": "## Introduction to Pandas",
   "metadata": {
    "tags": [],
    "is_collapsed": false,
    "cell_id": "00001-d4267655-630c-454c-98e3-2bf7d25509db",
    "deepnote_cell_type": "text-cell-h2"
   }
  },
  {
   "cell_type": "markdown",
   "source": "Pandas is an open source python library for data analysis and manipulation. It is fast, powerful and easy to use. Pandas provides a fast and efficient DataFrame object for data manipulation with integrated indexing. There are a variety of tools for reading and writing data for different data formats such as CSV and text files, Microsoft Excel, SQL databases, etc. It also support flexible reshaping and pivoting data sets. It can handles well for missing data as well. Aggregating or transforming data with a powerful group by engine allowing split-apply-combine operations on data sets. Merging and joining of data sets with high performance can be applied well with Pandas.",
   "metadata": {
    "tags": [],
    "is_collapsed": false,
    "cell_id": "00002-eef71291-9525-4e0a-a84f-6e6157f4c540",
    "deepnote_cell_type": "text-cell-p"
   }
  },
  {
   "cell_type": "markdown",
   "source": "In this article, you will going to learn Reading and Writing data files, Grouping , Pivoting , , and Categorical.",
   "metadata": {
    "tags": [],
    "is_collapsed": false,
    "cell_id": "00003-93a1b36e-9293-4889-a8e4-bfa22adab8f6",
    "deepnote_cell_type": "text-cell-p"
   }
  },
  {
   "cell_type": "markdown",
   "source": "### Reading  and Writing data files with Pandas",
   "metadata": {
    "tags": [],
    "is_collapsed": false,
    "cell_id": "00004-2ea9e9ae-7ea0-49cd-af81-a58ef5e69959",
    "deepnote_cell_type": "text-cell-h3"
   }
  },
  {
   "cell_type": "markdown",
   "source": "In this section, some useful methods to read and write data file with pandas are described. Even though Pandas supports multiple file types, this tutorial only focus on the most commonly used data file type: csv.",
   "metadata": {
    "tags": [],
    "is_collapsed": false,
    "cell_id": "00005-7f3153b2-7f73-415f-9cbb-387700fa4846",
    "deepnote_cell_type": "text-cell-p"
   }
  },
  {
   "cell_type": "markdown",
   "source": "### Reading and Writing CSV file",
   "metadata": {
    "tags": [],
    "is_collapsed": false,
    "cell_id": "00006-a50c4154-0c8c-40c0-84ad-66d255fdb337",
    "deepnote_cell_type": "text-cell-h3"
   }
  },
  {
   "cell_type": "markdown",
   "source": "CSV stands for comma separated values and this file type is one of the most simple and commonly used text based flat file type. Each line is a row, and within each row, each value is assigned a column by a&nbsp;separator. Pandas supports on both reading and writhing csv file. &nbsp;",
   "metadata": {
    "tags": [],
    "is_collapsed": false,
    "cell_id": "00007-3803d992-aa56-44bb-b49d-526ae1e04f49",
    "deepnote_cell_type": "text-cell-p"
   }
  },
  {
   "cell_type": "markdown",
   "source": "### Reading CSV files with read_csv()",
   "metadata": {
    "tags": [],
    "is_collapsed": false,
    "cell_id": "00008-db2a5385-3ae2-4788-af15-f0ed2ce89333",
    "deepnote_cell_type": "text-cell-h3"
   }
  },
  {
   "cell_type": "code",
   "metadata": {
    "tags": [],
    "cell_id": "00009-15416a60-d07b-4a74-b250-fa36651f6b47",
    "deepnote_to_be_reexecuted": false,
    "source_hash": "90984738",
    "execution_start": 1637404189511,
    "execution_millis": 128,
    "deepnote_cell_type": "code"
   },
   "source": "# importing pandas first\nimport pandas as pd\ndf= pd.read_csv('IceCreamData.csv')\n# view the first few rows\ndf.head()",
   "execution_count": 1,
   "outputs": [
    {
     "output_type": "execute_result",
     "execution_count": 1,
     "data": {
      "application/vnd.deepnote.dataframe.v2+json": {
       "row_count": 5,
       "column_count": 2,
       "columns": [
        {
         "name": "Temperature",
         "dtype": "float64",
         "stats": {
          "unique_count": 5,
          "nan_count": 0,
          "min": "11.50349764",
          "max": "27.79055388",
          "histogram": [
           {
            "bin_start": 11.50349764,
            "bin_end": 13.132203264000001,
            "count": 1
           },
           {
            "bin_start": 13.132203264000001,
            "bin_end": 14.760908888,
            "count": 0
           },
           {
            "bin_start": 14.760908888,
            "bin_end": 16.389614512,
            "count": 0
           },
           {
            "bin_start": 16.389614512,
            "bin_end": 18.018320136,
            "count": 0
           },
           {
            "bin_start": 18.018320136,
            "bin_end": 19.64702576,
            "count": 0
           },
           {
            "bin_start": 19.64702576,
            "bin_end": 21.275731383999997,
            "count": 1
           },
           {
            "bin_start": 21.275731383999997,
            "bin_end": 22.904437008,
            "count": 0
           },
           {
            "bin_start": 22.904437008,
            "bin_end": 24.533142632,
            "count": 0
           },
           {
            "bin_start": 24.533142632,
            "bin_end": 26.161848256,
            "count": 2
           },
           {
            "bin_start": 26.161848256,
            "bin_end": 27.79055388,
            "count": 1
           }
          ]
         }
        },
        {
         "name": "Revenue",
         "dtype": "float64",
         "stats": {
          "unique_count": 5,
          "nan_count": 0,
          "min": "316.2401944",
          "max": "660.6322888",
          "histogram": [
           {
            "bin_start": 316.2401944,
            "bin_end": 350.67940384,
            "count": 1
           },
           {
            "bin_start": 350.67940384,
            "bin_end": 385.11861328,
            "count": 0
           },
           {
            "bin_start": 385.11861328,
            "bin_end": 419.55782272,
            "count": 0
           },
           {
            "bin_start": 419.55782272,
            "bin_end": 453.99703216,
            "count": 0
           },
           {
            "bin_start": 453.99703216,
            "bin_end": 488.4362416,
            "count": 1
           },
           {
            "bin_start": 488.4362416,
            "bin_end": 522.87545104,
            "count": 0
           },
           {
            "bin_start": 522.87545104,
            "bin_end": 557.3146604799999,
            "count": 1
           },
           {
            "bin_start": 557.3146604799999,
            "bin_end": 591.7538699199999,
            "count": 0
           },
           {
            "bin_start": 591.7538699199999,
            "bin_end": 626.19307936,
            "count": 1
           },
           {
            "bin_start": 626.19307936,
            "bin_end": 660.6322888,
            "count": 1
           }
          ]
         }
        },
        {
         "name": "_deepnote_index_column",
         "dtype": "int64"
        }
       ],
       "rows_top": [
        {
         "Temperature": 24.56688442,
         "Revenue": 534.7990284,
         "_deepnote_index_column": 0
        },
        {
         "Temperature": 26.00519115,
         "Revenue": 625.1901215,
         "_deepnote_index_column": 1
        },
        {
         "Temperature": 27.79055388,
         "Revenue": 660.6322888,
         "_deepnote_index_column": 2
        },
        {
         "Temperature": 20.59533505,
         "Revenue": 487.7069603,
         "_deepnote_index_column": 3
        },
        {
         "Temperature": 11.50349764,
         "Revenue": 316.2401944,
         "_deepnote_index_column": 4
        }
       ],
       "rows_bottom": null
      },
      "text/plain": "   Temperature     Revenue\n0    24.566884  534.799028\n1    26.005191  625.190122\n2    27.790554  660.632289\n3    20.595335  487.706960\n4    11.503498  316.240194",
      "text/html": "<div>\n<style scoped>\n    .dataframe tbody tr th:only-of-type {\n        vertical-align: middle;\n    }\n\n    .dataframe tbody tr th {\n        vertical-align: top;\n    }\n\n    .dataframe thead th {\n        text-align: right;\n    }\n</style>\n<table border=\"1\" class=\"dataframe\">\n  <thead>\n    <tr style=\"text-align: right;\">\n      <th></th>\n      <th>Temperature</th>\n      <th>Revenue</th>\n    </tr>\n  </thead>\n  <tbody>\n    <tr>\n      <th>0</th>\n      <td>24.566884</td>\n      <td>534.799028</td>\n    </tr>\n    <tr>\n      <th>1</th>\n      <td>26.005191</td>\n      <td>625.190122</td>\n    </tr>\n    <tr>\n      <th>2</th>\n      <td>27.790554</td>\n      <td>660.632289</td>\n    </tr>\n    <tr>\n      <th>3</th>\n      <td>20.595335</td>\n      <td>487.706960</td>\n    </tr>\n    <tr>\n      <th>4</th>\n      <td>11.503498</td>\n      <td>316.240194</td>\n    </tr>\n  </tbody>\n</table>\n</div>"
     },
     "metadata": {}
    }
   ]
  },
  {
   "cell_type": "markdown",
   "source": "Pandas will search the file in the current directory where your script has. So that you have to put the data file in your working directory or you have to include the whole path of the file. Now, we can see that IcrCreamData.csv ( form Kaggles) is imported successfully. ",
   "metadata": {
    "tags": [],
    "is_collapsed": false,
    "cell_id": "00011-0a932dd0-2e7b-4e11-a1d1-fc0928b9955e",
    "deepnote_cell_type": "text-cell-p"
   }
  },
  {
   "cell_type": "code",
   "metadata": {
    "tags": [],
    "cell_id": "00011-02b45de6-2a02-4317-8ca3-8351050f9516",
    "deepnote_to_be_reexecuted": false,
    "source_hash": "ee0fa7e3",
    "execution_start": 1637404189638,
    "execution_millis": 0,
    "deepnote_cell_type": "code"
   },
   "source": "print(type(df))",
   "execution_count": 2,
   "outputs": [
    {
     "name": "stdout",
     "text": "<class 'pandas.core.frame.DataFrame'>\n",
     "output_type": "stream"
    }
   ]
  },
  {
   "cell_type": "markdown",
   "source": "Note: pandas read_csv file always returns the dataframe object.",
   "metadata": {
    "tags": [],
    "is_collapsed": false,
    "cell_id": "00012-b2e6b39f-6562-4e9e-8d56-54bc9a619ccb",
    "deepnote_cell_type": "text-cell-p"
   }
  },
  {
   "cell_type": "markdown",
   "source": "Alternatively, you can also read csv files Alternatively, you can also read CSV files from online resources, such as GitHub, simply by passing in the URL of the resource to the&nbsp;read_csv()&nbsp;function.",
   "metadata": {
    "tags": [],
    "is_collapsed": false,
    "cell_id": "00011-c96a35e7-18b0-4a4f-a982-ee3d0ea3b3a7",
    "deepnote_cell_type": "text-cell-p"
   }
  },
  {
   "cell_type": "code",
   "metadata": {
    "tags": [],
    "cell_id": "00012-10c449fc-90f5-41bf-9f1b-25a2556ccc58",
    "deepnote_to_be_reexecuted": false,
    "source_hash": "689812bf",
    "execution_start": 1637404189639,
    "execution_millis": 94,
    "deepnote_cell_type": "code"
   },
   "source": "df2=pd.read_csv(r'https://raw.githubusercontent.com/ayenadikyaw/IceCreamDataFile/main/IceCreamData.csv')\ndf2.head()\n",
   "execution_count": 3,
   "outputs": [
    {
     "output_type": "execute_result",
     "execution_count": 3,
     "data": {
      "application/vnd.deepnote.dataframe.v2+json": {
       "row_count": 5,
       "column_count": 2,
       "columns": [
        {
         "name": "Temperature",
         "dtype": "float64",
         "stats": {
          "unique_count": 5,
          "nan_count": 0,
          "min": "11.50349764",
          "max": "27.79055388",
          "histogram": [
           {
            "bin_start": 11.50349764,
            "bin_end": 13.132203264000001,
            "count": 1
           },
           {
            "bin_start": 13.132203264000001,
            "bin_end": 14.760908888,
            "count": 0
           },
           {
            "bin_start": 14.760908888,
            "bin_end": 16.389614512,
            "count": 0
           },
           {
            "bin_start": 16.389614512,
            "bin_end": 18.018320136,
            "count": 0
           },
           {
            "bin_start": 18.018320136,
            "bin_end": 19.64702576,
            "count": 0
           },
           {
            "bin_start": 19.64702576,
            "bin_end": 21.275731383999997,
            "count": 1
           },
           {
            "bin_start": 21.275731383999997,
            "bin_end": 22.904437008,
            "count": 0
           },
           {
            "bin_start": 22.904437008,
            "bin_end": 24.533142632,
            "count": 0
           },
           {
            "bin_start": 24.533142632,
            "bin_end": 26.161848256,
            "count": 2
           },
           {
            "bin_start": 26.161848256,
            "bin_end": 27.79055388,
            "count": 1
           }
          ]
         }
        },
        {
         "name": "Revenue",
         "dtype": "float64",
         "stats": {
          "unique_count": 5,
          "nan_count": 0,
          "min": "316.2401944",
          "max": "660.6322888",
          "histogram": [
           {
            "bin_start": 316.2401944,
            "bin_end": 350.67940384,
            "count": 1
           },
           {
            "bin_start": 350.67940384,
            "bin_end": 385.11861328,
            "count": 0
           },
           {
            "bin_start": 385.11861328,
            "bin_end": 419.55782272,
            "count": 0
           },
           {
            "bin_start": 419.55782272,
            "bin_end": 453.99703216,
            "count": 0
           },
           {
            "bin_start": 453.99703216,
            "bin_end": 488.4362416,
            "count": 1
           },
           {
            "bin_start": 488.4362416,
            "bin_end": 522.87545104,
            "count": 0
           },
           {
            "bin_start": 522.87545104,
            "bin_end": 557.3146604799999,
            "count": 1
           },
           {
            "bin_start": 557.3146604799999,
            "bin_end": 591.7538699199999,
            "count": 0
           },
           {
            "bin_start": 591.7538699199999,
            "bin_end": 626.19307936,
            "count": 1
           },
           {
            "bin_start": 626.19307936,
            "bin_end": 660.6322888,
            "count": 1
           }
          ]
         }
        },
        {
         "name": "_deepnote_index_column",
         "dtype": "int64"
        }
       ],
       "rows_top": [
        {
         "Temperature": 24.56688442,
         "Revenue": 534.7990284,
         "_deepnote_index_column": 0
        },
        {
         "Temperature": 26.00519115,
         "Revenue": 625.1901215,
         "_deepnote_index_column": 1
        },
        {
         "Temperature": 27.79055388,
         "Revenue": 660.6322888,
         "_deepnote_index_column": 2
        },
        {
         "Temperature": 20.59533505,
         "Revenue": 487.7069603,
         "_deepnote_index_column": 3
        },
        {
         "Temperature": 11.50349764,
         "Revenue": 316.2401944,
         "_deepnote_index_column": 4
        }
       ],
       "rows_bottom": null
      },
      "text/plain": "   Temperature     Revenue\n0    24.566884  534.799028\n1    26.005191  625.190122\n2    27.790554  660.632289\n3    20.595335  487.706960\n4    11.503498  316.240194",
      "text/html": "<div>\n<style scoped>\n    .dataframe tbody tr th:only-of-type {\n        vertical-align: middle;\n    }\n\n    .dataframe tbody tr th {\n        vertical-align: top;\n    }\n\n    .dataframe thead th {\n        text-align: right;\n    }\n</style>\n<table border=\"1\" class=\"dataframe\">\n  <thead>\n    <tr style=\"text-align: right;\">\n      <th></th>\n      <th>Temperature</th>\n      <th>Revenue</th>\n    </tr>\n  </thead>\n  <tbody>\n    <tr>\n      <th>0</th>\n      <td>24.566884</td>\n      <td>534.799028</td>\n    </tr>\n    <tr>\n      <th>1</th>\n      <td>26.005191</td>\n      <td>625.190122</td>\n    </tr>\n    <tr>\n      <th>2</th>\n      <td>27.790554</td>\n      <td>660.632289</td>\n    </tr>\n    <tr>\n      <th>3</th>\n      <td>20.595335</td>\n      <td>487.706960</td>\n    </tr>\n    <tr>\n      <th>4</th>\n      <td>11.503498</td>\n      <td>316.240194</td>\n    </tr>\n  </tbody>\n</table>\n</div>"
     },
     "metadata": {}
    }
   ]
  },
  {
   "cell_type": "markdown",
   "source": "Now, you can see the same data file that I uploaded to my github repo is successfully loaded. However, there is one thing you have to aware of. To successfully load the file, you have to convert the URL to raw format first. You can convert here. (Convert a github file URL to a raw.githubusercontent.com URL (that can be directly accessed for things like view.qiime2.org or wget)) ",
   "metadata": {
    "tags": [],
    "is_collapsed": false,
    "cell_id": "00013-2774c99d-dd69-40b4-aaab-5d57103055eb",
    "deepnote_cell_type": "text-cell-p"
   }
  },
  {
   "cell_type": "markdown",
   "source": "We can also customize headers. By default, the read_csv() method uses the first row of the CSV file as the column headers. When necessary, you can set your own headers like below. ",
   "metadata": {
    "tags": [],
    "is_collapsed": false,
    "cell_id": "00014-4b071340-09d2-499d-9e70-827f24006302",
    "deepnote_cell_type": "text-cell-p"
   }
  },
  {
   "cell_type": "code",
   "metadata": {
    "tags": [],
    "cell_id": "00017-7982d480-9f2f-48fa-b83e-d2be99955ee4",
    "deepnote_to_be_reexecuted": false,
    "source_hash": "edc1141c",
    "execution_start": 1637404189737,
    "execution_millis": 40,
    "deepnote_cell_type": "code"
   },
   "source": "col_names=['Temp','Income']\ndf3=pd.read_csv('IceCreamData.csv',names=col_names)\ndf3.head()",
   "execution_count": 4,
   "outputs": [
    {
     "output_type": "execute_result",
     "execution_count": 4,
     "data": {
      "application/vnd.deepnote.dataframe.v2+json": {
       "row_count": 5,
       "column_count": 2,
       "columns": [
        {
         "name": "Temp",
         "dtype": "object",
         "stats": {
          "unique_count": 5,
          "nan_count": 0,
          "categories": [
           {
            "name": "Temperature",
            "count": 1
           },
           {
            "name": "24.56688442",
            "count": 1
           },
           {
            "name": "3 others",
            "count": 3
           }
          ]
         }
        },
        {
         "name": "Income",
         "dtype": "object",
         "stats": {
          "unique_count": 5,
          "nan_count": 0,
          "categories": [
           {
            "name": "Revenue",
            "count": 1
           },
           {
            "name": "534.7990284",
            "count": 1
           },
           {
            "name": "3 others",
            "count": 3
           }
          ]
         }
        },
        {
         "name": "_deepnote_index_column",
         "dtype": "int64"
        }
       ],
       "rows_top": [
        {
         "Temp": "Temperature",
         "Income": "Revenue",
         "_deepnote_index_column": 0
        },
        {
         "Temp": "24.56688442",
         "Income": "534.7990284",
         "_deepnote_index_column": 1
        },
        {
         "Temp": "26.00519115",
         "Income": "625.1901215",
         "_deepnote_index_column": 2
        },
        {
         "Temp": "27.79055388",
         "Income": "660.6322888",
         "_deepnote_index_column": 3
        },
        {
         "Temp": "20.59533505",
         "Income": "487.7069603",
         "_deepnote_index_column": 4
        }
       ],
       "rows_bottom": null
      },
      "text/plain": "          Temp       Income\n0  Temperature      Revenue\n1  24.56688442  534.7990284\n2  26.00519115  625.1901215\n3  27.79055388  660.6322888\n4  20.59533505  487.7069603",
      "text/html": "<div>\n<style scoped>\n    .dataframe tbody tr th:only-of-type {\n        vertical-align: middle;\n    }\n\n    .dataframe tbody tr th {\n        vertical-align: top;\n    }\n\n    .dataframe thead th {\n        text-align: right;\n    }\n</style>\n<table border=\"1\" class=\"dataframe\">\n  <thead>\n    <tr style=\"text-align: right;\">\n      <th></th>\n      <th>Temp</th>\n      <th>Income</th>\n    </tr>\n  </thead>\n  <tbody>\n    <tr>\n      <th>0</th>\n      <td>Temperature</td>\n      <td>Revenue</td>\n    </tr>\n    <tr>\n      <th>1</th>\n      <td>24.56688442</td>\n      <td>534.7990284</td>\n    </tr>\n    <tr>\n      <th>2</th>\n      <td>26.00519115</td>\n      <td>625.1901215</td>\n    </tr>\n    <tr>\n      <th>3</th>\n      <td>27.79055388</td>\n      <td>660.6322888</td>\n    </tr>\n    <tr>\n      <th>4</th>\n      <td>20.59533505</td>\n      <td>487.7069603</td>\n    </tr>\n  </tbody>\n</table>\n</div>"
     },
     "metadata": {}
    }
   ]
  },
  {
   "cell_type": "markdown",
   "source": "Here, we get our own custom headers, but the first row which was originally used to set the column names is also included in dataframe. So, let's address this issue by using skiprows  argument.",
   "metadata": {
    "tags": [],
    "is_collapsed": false,
    "cell_id": "00018-7d48fb10-1f83-454d-9216-19a80c095406",
    "deepnote_cell_type": "text-cell-p"
   }
  },
  {
   "cell_type": "code",
   "metadata": {
    "tags": [],
    "cell_id": "00019-af40abcc-ce88-4c87-9ec0-978b3fa9617f",
    "deepnote_to_be_reexecuted": false,
    "source_hash": "a249b9c2",
    "execution_start": 1637404189786,
    "execution_millis": 35,
    "deepnote_cell_type": "code"
   },
   "source": "df3=pd.read_csv('IceCreamData.csv',names=col_names,skiprows=[0])\ndf3.head()",
   "execution_count": 5,
   "outputs": [
    {
     "output_type": "execute_result",
     "execution_count": 5,
     "data": {
      "application/vnd.deepnote.dataframe.v2+json": {
       "row_count": 5,
       "column_count": 2,
       "columns": [
        {
         "name": "Temp",
         "dtype": "float64",
         "stats": {
          "unique_count": 5,
          "nan_count": 0,
          "min": "11.50349764",
          "max": "27.79055388",
          "histogram": [
           {
            "bin_start": 11.50349764,
            "bin_end": 13.132203264000001,
            "count": 1
           },
           {
            "bin_start": 13.132203264000001,
            "bin_end": 14.760908888,
            "count": 0
           },
           {
            "bin_start": 14.760908888,
            "bin_end": 16.389614512,
            "count": 0
           },
           {
            "bin_start": 16.389614512,
            "bin_end": 18.018320136,
            "count": 0
           },
           {
            "bin_start": 18.018320136,
            "bin_end": 19.64702576,
            "count": 0
           },
           {
            "bin_start": 19.64702576,
            "bin_end": 21.275731383999997,
            "count": 1
           },
           {
            "bin_start": 21.275731383999997,
            "bin_end": 22.904437008,
            "count": 0
           },
           {
            "bin_start": 22.904437008,
            "bin_end": 24.533142632,
            "count": 0
           },
           {
            "bin_start": 24.533142632,
            "bin_end": 26.161848256,
            "count": 2
           },
           {
            "bin_start": 26.161848256,
            "bin_end": 27.79055388,
            "count": 1
           }
          ]
         }
        },
        {
         "name": "Income",
         "dtype": "float64",
         "stats": {
          "unique_count": 5,
          "nan_count": 0,
          "min": "316.2401944",
          "max": "660.6322888",
          "histogram": [
           {
            "bin_start": 316.2401944,
            "bin_end": 350.67940384,
            "count": 1
           },
           {
            "bin_start": 350.67940384,
            "bin_end": 385.11861328,
            "count": 0
           },
           {
            "bin_start": 385.11861328,
            "bin_end": 419.55782272,
            "count": 0
           },
           {
            "bin_start": 419.55782272,
            "bin_end": 453.99703216,
            "count": 0
           },
           {
            "bin_start": 453.99703216,
            "bin_end": 488.4362416,
            "count": 1
           },
           {
            "bin_start": 488.4362416,
            "bin_end": 522.87545104,
            "count": 0
           },
           {
            "bin_start": 522.87545104,
            "bin_end": 557.3146604799999,
            "count": 1
           },
           {
            "bin_start": 557.3146604799999,
            "bin_end": 591.7538699199999,
            "count": 0
           },
           {
            "bin_start": 591.7538699199999,
            "bin_end": 626.19307936,
            "count": 1
           },
           {
            "bin_start": 626.19307936,
            "bin_end": 660.6322888,
            "count": 1
           }
          ]
         }
        },
        {
         "name": "_deepnote_index_column",
         "dtype": "int64"
        }
       ],
       "rows_top": [
        {
         "Temp": 24.56688442,
         "Income": 534.7990284,
         "_deepnote_index_column": 0
        },
        {
         "Temp": 26.00519115,
         "Income": 625.1901215,
         "_deepnote_index_column": 1
        },
        {
         "Temp": 27.79055388,
         "Income": 660.6322888,
         "_deepnote_index_column": 2
        },
        {
         "Temp": 20.59533505,
         "Income": 487.7069603,
         "_deepnote_index_column": 3
        },
        {
         "Temp": 11.50349764,
         "Income": 316.2401944,
         "_deepnote_index_column": 4
        }
       ],
       "rows_bottom": null
      },
      "text/plain": "        Temp      Income\n0  24.566884  534.799028\n1  26.005191  625.190122\n2  27.790554  660.632289\n3  20.595335  487.706960\n4  11.503498  316.240194",
      "text/html": "<div>\n<style scoped>\n    .dataframe tbody tr th:only-of-type {\n        vertical-align: middle;\n    }\n\n    .dataframe tbody tr th {\n        vertical-align: top;\n    }\n\n    .dataframe thead th {\n        text-align: right;\n    }\n</style>\n<table border=\"1\" class=\"dataframe\">\n  <thead>\n    <tr style=\"text-align: right;\">\n      <th></th>\n      <th>Temp</th>\n      <th>Income</th>\n    </tr>\n  </thead>\n  <tbody>\n    <tr>\n      <th>0</th>\n      <td>24.566884</td>\n      <td>534.799028</td>\n    </tr>\n    <tr>\n      <th>1</th>\n      <td>26.005191</td>\n      <td>625.190122</td>\n    </tr>\n    <tr>\n      <th>2</th>\n      <td>27.790554</td>\n      <td>660.632289</td>\n    </tr>\n    <tr>\n      <th>3</th>\n      <td>20.595335</td>\n      <td>487.706960</td>\n    </tr>\n    <tr>\n      <th>4</th>\n      <td>11.503498</td>\n      <td>316.240194</td>\n    </tr>\n  </tbody>\n</table>\n</div>"
     },
     "metadata": {}
    }
   ]
  },
  {
   "cell_type": "markdown",
   "source": "Sometimes your data file is so large you can’t load it into memory at all, even. So how do you process it quickly? By loading and then processing the data in chunks, you can load only part of the file into memory at any given time. And that means you can process files that don’t fit in memory. Let’s see how you can do this with Pandas.",
   "metadata": {
    "tags": [],
    "is_collapsed": false,
    "cell_id": "00020-653694bf-c2e4-4677-a567-04ff5de37f55",
    "deepnote_cell_type": "text-cell-p"
   }
  },
  {
   "cell_type": "code",
   "metadata": {
    "tags": [],
    "cell_id": "00021-d8ab52b2-43dc-49e1-9614-22286af25ba7",
    "deepnote_to_be_reexecuted": false,
    "source_hash": "f7acaf48",
    "execution_start": 1637404189829,
    "execution_millis": 20,
    "deepnote_cell_type": "code"
   },
   "source": "tp=pd.read_csv('IceCreamData.csv',iterator=True,chunksize=1000)\ndf4=pd.concat(tp,ignore_index=True)\ndf4.info()\n",
   "execution_count": 6,
   "outputs": [
    {
     "name": "stdout",
     "text": "<class 'pandas.core.frame.DataFrame'>\nRangeIndex: 500 entries, 0 to 499\nData columns (total 2 columns):\n #   Column       Non-Null Count  Dtype  \n---  ------       --------------  -----  \n 0   Temperature  500 non-null    float64\n 1   Revenue      500 non-null    float64\ndtypes: float64(2)\nmemory usage: 7.9 KB\n",
     "output_type": "stream"
    }
   ]
  },
  {
   "cell_type": "markdown",
   "source": "The above example is just a simple introduction of how to read data file in chunk by chunk. If you would like to know more about why we should read large data by chunk by chunk. You can read more in (1. python - Large, persistent DataFrame in pandas - Stack Overflow) (2. Reducing Pandas memory usage #3: Reading in chunks (pythonspeed.com)",
   "metadata": {
    "tags": [],
    "is_collapsed": false,
    "cell_id": "00022-d950ca72-ec14-4b2b-91e2-71447e96654a",
    "deepnote_cell_type": "text-cell-p"
   }
  },
  {
   "cell_type": "code",
   "metadata": {
    "tags": [],
    "cell_id": "00023-7abf405a-dc13-4129-92b6-dc6720ca8504",
    "deepnote_to_be_reexecuted": false,
    "source_hash": "b623e53d",
    "execution_start": 1637404189897,
    "execution_millis": 1,
    "deepnote_cell_type": "code"
   },
   "source": "",
   "execution_count": 6,
   "outputs": []
  },
  {
   "cell_type": "markdown",
   "source": "### Writing CSV with to_csv()",
   "metadata": {
    "tags": [],
    "is_collapsed": false,
    "cell_id": "00023-7e22d87b-8f5b-418e-97ad-43d6e62ea25b",
    "deepnote_cell_type": "text-cell-h3"
   }
  },
  {
   "cell_type": "markdown",
   "source": "You can save your Pandas&nbsp;DataFrame&nbsp;as a CSV file with&nbsp;.to_csv(): ",
   "metadata": {
    "tags": [],
    "is_collapsed": false,
    "cell_id": "00024-7e193fae-4f46-4ba5-853f-4231d17af8e7",
    "deepnote_cell_type": "text-cell-p"
   }
  },
  {
   "cell_type": "code",
   "metadata": {
    "tags": [],
    "cell_id": "00025-8207aca7-27b5-46ad-aae6-adf11fac70bc",
    "deepnote_to_be_reexecuted": false,
    "source_hash": "c0a1cfa3",
    "execution_start": 1637404189898,
    "execution_millis": 0,
    "deepnote_cell_type": "code"
   },
   "source": "df.to_csv('NewIceCreamData.csv')",
   "execution_count": 7,
   "outputs": []
  },
  {
   "cell_type": "markdown",
   "source": "That's it! Now, you will see NewIceCreamData.csv file in your working directory.",
   "metadata": {
    "tags": [],
    "is_collapsed": false,
    "cell_id": "00026-dacce1ae-5e5d-4225-a414-decc60cde077",
    "deepnote_cell_type": "text-cell-p"
   }
  },
  {
   "cell_type": "markdown",
   "source": "You can also use some arguments depending on your needs. Below are some useful arguments that we should know.",
   "metadata": {
    "tags": [],
    "is_collapsed": false,
    "cell_id": "00029-6d383c81-f49a-4637-8a5d-e0a1b4f4cee6",
    "deepnote_cell_type": "text-cell-p"
   }
  },
  {
   "cell_type": "markdown",
   "source": "path: The path of the location. If only the name of the file is provided, it will be save in your working directory. ",
   "metadata": {
    "tags": [],
    "is_collapsed": false,
    "cell_id": "00029-214dcc68-db0f-4a52-b89f-475b389fe5d3",
    "deepnote_cell_type": "text-cell-p"
   }
  },
  {
   "cell_type": "markdown",
   "source": "sep: Delimiter to be used while saving the file.",
   "metadata": {
    "tags": [],
    "is_collapsed": false,
    "cell_id": "00030-411efb5a-95c4-4a9c-b5d5-fb913a6a33f4",
    "deepnote_cell_type": "text-cell-p"
   }
  },
  {
   "cell_type": "markdown",
   "source": "columns: Names to the columns from the data to write in the file.",
   "metadata": {
    "tags": [],
    "is_collapsed": false,
    "cell_id": "00031-aa1f75fe-e99d-4db3-b95b-6f45bce30c95",
    "deepnote_cell_type": "text-cell-p"
   }
  },
  {
   "cell_type": "markdown",
   "source": "header: The name to be give to the columns when writing the file. ",
   "metadata": {
    "tags": [],
    "is_collapsed": false,
    "cell_id": "00032-3654d165-4cbf-40fe-a808-1c3609ed32fe",
    "deepnote_cell_type": "text-cell-p"
   }
  },
  {
   "cell_type": "markdown",
   "source": "index&nbsp;– A Boolean value which determines whether the column index to be included or not in the output file",
   "metadata": {
    "tags": [],
    "is_collapsed": false,
    "cell_id": "00033-189fd40b-9e09-46ff-8389-d4165de59a61",
    "deepnote_cell_type": "text-cell-p"
   }
  },
  {
   "cell_type": "markdown",
   "source": "encoding&nbsp;– String representing the encoding to use in the output file, the default value is ‘utf-8’",
   "metadata": {
    "tags": [],
    "is_collapsed": false,
    "cell_id": "00035-b0019bab-0428-4567-a652-578260d2c5d9",
    "deepnote_cell_type": "text-cell-p"
   }
  },
  {
   "cell_type": "markdown",
   "source": "## Grouping ",
   "metadata": {
    "tags": [],
    "is_collapsed": false,
    "cell_id": "00035-6e2dd9e0-4da7-470c-b08f-3ba95743d7af",
    "deepnote_cell_type": "text-cell-h2"
   }
  },
  {
   "cell_type": "markdown",
   "source": "Grouping  is a pretty simple concept. We can create a grouping of categories and apply a function to the categories using python groupby. It’s a simple concept but it’s an extremely valuable technique that’s widely used in data science.  Groupby concept is really important because it’s ability to aggregate data efficiently, both in performance and the amount code is magnificent. Groupby mainly refers to a process involving one or more of the following steps they are: splitting, applying and combining.",
   "metadata": {
    "tags": [],
    "is_collapsed": false,
    "cell_id": "00036-c40df108-ae64-458a-bc05-72ead01cd596",
    "deepnote_cell_type": "text-cell-p"
   }
  },
  {
   "cell_type": "markdown",
   "source": "Splitting is a process in which we split the data into groups based on some criteria.",
   "metadata": {
    "tags": [],
    "is_collapsed": false,
    "cell_id": "00037-d237f05d-3566-40af-b335-15566ba04213",
    "deepnote_cell_type": "text-cell-p"
   }
  },
  {
   "cell_type": "markdown",
   "source": "Applying is a process in which we apply a function to each group independently.",
   "metadata": {
    "tags": [],
    "is_collapsed": false,
    "cell_id": "00038-67b8a527-c2e7-4cac-98e9-0240b9f3025e",
    "deepnote_cell_type": "text-cell-p"
   }
  },
  {
   "cell_type": "markdown",
   "source": "Combining is a process in which we combine different datasets after applying groupby and results into a data structure. ",
   "metadata": {
    "tags": [],
    "is_collapsed": false,
    "cell_id": "00039-425ec8f2-6ae8-4b87-b896-de2c4ed7814f",
    "deepnote_cell_type": "text-cell-p"
   }
  },
  {
   "cell_type": "markdown",
   "source": "# Splitting",
   "metadata": {
    "tags": [],
    "is_collapsed": false,
    "cell_id": "00040-bdd2baf5-02c8-4d6e-99ef-531575068c94",
    "deepnote_cell_type": "text-cell-h1"
   }
  },
  {
   "cell_type": "markdown",
   "source": "Out of the three steps, splitting is the most straightforward. Now, let's see an example of how we can split SalesByFlavor1.csv data set into groups. You can download the data from Kaggle's and it is about the the amount of ice-cream and smooth for a total of 52 weeks which are sold according to four flavors: chocolate, lemon, strawberry and chocolate.",
   "metadata": {
    "tags": [],
    "is_collapsed": false,
    "cell_id": "00041-a1e8c58e-c167-4376-ae6c-4016ef332e6a",
    "deepnote_cell_type": "text-cell-p"
   }
  },
  {
   "cell_type": "code",
   "metadata": {
    "tags": [],
    "cell_id": "00042-b036e763-3279-4bf9-800e-8ca74194ef36",
    "deepnote_to_be_reexecuted": false,
    "source_hash": "934424d9",
    "execution_start": 1637404189899,
    "execution_millis": 43,
    "deepnote_cell_type": "code"
   },
   "source": "#import necessary libraries\nimport pandas as pd\nimport numpy as np\n\nflavors=pd.read_csv('SalesByFlavor1.csv')\nflavors.head()",
   "execution_count": 8,
   "outputs": [
    {
     "output_type": "execute_result",
     "execution_count": 8,
     "data": {
      "application/vnd.deepnote.dataframe.v2+json": {
       "row_count": 5,
       "column_count": 4,
       "columns": [
        {
         "name": "week",
         "dtype": "int64",
         "stats": {
          "unique_count": 2,
          "nan_count": 0,
          "min": "1",
          "max": "2",
          "histogram": [
           {
            "bin_start": 1,
            "bin_end": 1.1,
            "count": 4
           },
           {
            "bin_start": 1.1,
            "bin_end": 1.2,
            "count": 0
           },
           {
            "bin_start": 1.2,
            "bin_end": 1.3,
            "count": 0
           },
           {
            "bin_start": 1.3,
            "bin_end": 1.4,
            "count": 0
           },
           {
            "bin_start": 1.4,
            "bin_end": 1.5,
            "count": 0
           },
           {
            "bin_start": 1.5,
            "bin_end": 1.6,
            "count": 0
           },
           {
            "bin_start": 1.6,
            "bin_end": 1.7000000000000002,
            "count": 0
           },
           {
            "bin_start": 1.7000000000000002,
            "bin_end": 1.8,
            "count": 0
           },
           {
            "bin_start": 1.8,
            "bin_end": 1.9,
            "count": 0
           },
           {
            "bin_start": 1.9,
            "bin_end": 2,
            "count": 1
           }
          ]
         }
        },
        {
         "name": "Flavor",
         "dtype": "object",
         "stats": {
          "unique_count": 4,
          "nan_count": 0,
          "categories": [
           {
            "name": "chocolate",
            "count": 2
           },
           {
            "name": "lemon",
            "count": 1
           },
           {
            "name": "2 others",
            "count": 2
           }
          ]
         }
        },
        {
         "name": "icreamsold",
         "dtype": "int64",
         "stats": {
          "unique_count": 4,
          "nan_count": 0,
          "min": "6",
          "max": "16",
          "histogram": [
           {
            "bin_start": 6,
            "bin_end": 7,
            "count": 2
           },
           {
            "bin_start": 7,
            "bin_end": 8,
            "count": 0
           },
           {
            "bin_start": 8,
            "bin_end": 9,
            "count": 0
           },
           {
            "bin_start": 9,
            "bin_end": 10,
            "count": 0
           },
           {
            "bin_start": 10,
            "bin_end": 11,
            "count": 0
           },
           {
            "bin_start": 11,
            "bin_end": 12,
            "count": 0
           },
           {
            "bin_start": 12,
            "bin_end": 13,
            "count": 1
           },
           {
            "bin_start": 13,
            "bin_end": 14,
            "count": 0
           },
           {
            "bin_start": 14,
            "bin_end": 15,
            "count": 0
           },
           {
            "bin_start": 15,
            "bin_end": 16,
            "count": 2
           }
          ]
         }
        },
        {
         "name": "smoothesold",
         "dtype": "int64",
         "stats": {
          "unique_count": 5,
          "nan_count": 0,
          "min": "2",
          "max": "14",
          "histogram": [
           {
            "bin_start": 2,
            "bin_end": 3.2,
            "count": 2
           },
           {
            "bin_start": 3.2,
            "bin_end": 4.4,
            "count": 0
           },
           {
            "bin_start": 4.4,
            "bin_end": 5.6,
            "count": 1
           },
           {
            "bin_start": 5.6,
            "bin_end": 6.8,
            "count": 0
           },
           {
            "bin_start": 6.8,
            "bin_end": 8,
            "count": 0
           },
           {
            "bin_start": 8,
            "bin_end": 9.2,
            "count": 0
           },
           {
            "bin_start": 9.2,
            "bin_end": 10.4,
            "count": 1
           },
           {
            "bin_start": 10.4,
            "bin_end": 11.6,
            "count": 0
           },
           {
            "bin_start": 11.6,
            "bin_end": 12.799999999999999,
            "count": 0
           },
           {
            "bin_start": 12.799999999999999,
            "bin_end": 14,
            "count": 1
           }
          ]
         }
        },
        {
         "name": "_deepnote_index_column",
         "dtype": "int64"
        }
       ],
       "rows_top": [
        {
         "week": 1,
         "Flavor": "chocolate",
         "icreamsold": 6,
         "smoothesold": 5,
         "_deepnote_index_column": 0
        },
        {
         "week": 1,
         "Flavor": "lemon",
         "icreamsold": 15,
         "smoothesold": 3,
         "_deepnote_index_column": 1
        },
        {
         "week": 1,
         "Flavor": "strawberry",
         "icreamsold": 12,
         "smoothesold": 10,
         "_deepnote_index_column": 2
        },
        {
         "week": 1,
         "Flavor": "vanilla",
         "icreamsold": 6,
         "smoothesold": 2,
         "_deepnote_index_column": 3
        },
        {
         "week": 2,
         "Flavor": "chocolate",
         "icreamsold": 16,
         "smoothesold": 14,
         "_deepnote_index_column": 4
        }
       ],
       "rows_bottom": null
      },
      "text/plain": "   week      Flavor  icreamsold  smoothesold\n0     1   chocolate           6            5\n1     1       lemon          15            3\n2     1  strawberry          12           10\n3     1     vanilla           6            2\n4     2   chocolate          16           14",
      "text/html": "<div>\n<style scoped>\n    .dataframe tbody tr th:only-of-type {\n        vertical-align: middle;\n    }\n\n    .dataframe tbody tr th {\n        vertical-align: top;\n    }\n\n    .dataframe thead th {\n        text-align: right;\n    }\n</style>\n<table border=\"1\" class=\"dataframe\">\n  <thead>\n    <tr style=\"text-align: right;\">\n      <th></th>\n      <th>week</th>\n      <th>Flavor</th>\n      <th>icreamsold</th>\n      <th>smoothesold</th>\n    </tr>\n  </thead>\n  <tbody>\n    <tr>\n      <th>0</th>\n      <td>1</td>\n      <td>chocolate</td>\n      <td>6</td>\n      <td>5</td>\n    </tr>\n    <tr>\n      <th>1</th>\n      <td>1</td>\n      <td>lemon</td>\n      <td>15</td>\n      <td>3</td>\n    </tr>\n    <tr>\n      <th>2</th>\n      <td>1</td>\n      <td>strawberry</td>\n      <td>12</td>\n      <td>10</td>\n    </tr>\n    <tr>\n      <th>3</th>\n      <td>1</td>\n      <td>vanilla</td>\n      <td>6</td>\n      <td>2</td>\n    </tr>\n    <tr>\n      <th>4</th>\n      <td>2</td>\n      <td>chocolate</td>\n      <td>16</td>\n      <td>14</td>\n    </tr>\n  </tbody>\n</table>\n</div>"
     },
     "metadata": {}
    }
   ]
  },
  {
   "cell_type": "code",
   "source": "flavors.tail()",
   "metadata": {
    "tags": [],
    "cell_id": "00043-84179c9e-2e84-4fc5-a294-2c9b20e934e3",
    "deepnote_to_be_reexecuted": false,
    "source_hash": "d46000d0",
    "execution_start": 1637404189997,
    "execution_millis": 10,
    "deepnote_cell_type": "code"
   },
   "outputs": [
    {
     "output_type": "execute_result",
     "execution_count": 9,
     "data": {
      "application/vnd.deepnote.dataframe.v2+json": {
       "row_count": 5,
       "column_count": 4,
       "columns": [
        {
         "name": "week",
         "dtype": "int64",
         "stats": {
          "unique_count": 2,
          "nan_count": 0,
          "min": "51",
          "max": "52",
          "histogram": [
           {
            "bin_start": 51,
            "bin_end": 51.1,
            "count": 1
           },
           {
            "bin_start": 51.1,
            "bin_end": 51.2,
            "count": 0
           },
           {
            "bin_start": 51.2,
            "bin_end": 51.3,
            "count": 0
           },
           {
            "bin_start": 51.3,
            "bin_end": 51.4,
            "count": 0
           },
           {
            "bin_start": 51.4,
            "bin_end": 51.5,
            "count": 0
           },
           {
            "bin_start": 51.5,
            "bin_end": 51.6,
            "count": 0
           },
           {
            "bin_start": 51.6,
            "bin_end": 51.7,
            "count": 0
           },
           {
            "bin_start": 51.7,
            "bin_end": 51.8,
            "count": 0
           },
           {
            "bin_start": 51.8,
            "bin_end": 51.9,
            "count": 0
           },
           {
            "bin_start": 51.9,
            "bin_end": 52,
            "count": 4
           }
          ]
         }
        },
        {
         "name": "Flavor",
         "dtype": "object",
         "stats": {
          "unique_count": 4,
          "nan_count": 0,
          "categories": [
           {
            "name": "vanilla",
            "count": 2
           },
           {
            "name": "chocolate",
            "count": 1
           },
           {
            "name": "2 others",
            "count": 2
           }
          ]
         }
        },
        {
         "name": "icreamsold",
         "dtype": "int64",
         "stats": {
          "unique_count": 5,
          "nan_count": 0,
          "min": "1",
          "max": "20",
          "histogram": [
           {
            "bin_start": 1,
            "bin_end": 2.9,
            "count": 1
           },
           {
            "bin_start": 2.9,
            "bin_end": 4.8,
            "count": 0
           },
           {
            "bin_start": 4.8,
            "bin_end": 6.699999999999999,
            "count": 0
           },
           {
            "bin_start": 6.699999999999999,
            "bin_end": 8.6,
            "count": 0
           },
           {
            "bin_start": 8.6,
            "bin_end": 10.5,
            "count": 2
           },
           {
            "bin_start": 10.5,
            "bin_end": 12.399999999999999,
            "count": 0
           },
           {
            "bin_start": 12.399999999999999,
            "bin_end": 14.299999999999999,
            "count": 0
           },
           {
            "bin_start": 14.299999999999999,
            "bin_end": 16.2,
            "count": 0
           },
           {
            "bin_start": 16.2,
            "bin_end": 18.099999999999998,
            "count": 1
           },
           {
            "bin_start": 18.099999999999998,
            "bin_end": 20,
            "count": 1
           }
          ]
         }
        },
        {
         "name": "smoothesold",
         "dtype": "int64",
         "stats": {
          "unique_count": 4,
          "nan_count": 0,
          "min": "1",
          "max": "7",
          "histogram": [
           {
            "bin_start": 1,
            "bin_end": 1.6,
            "count": 2
           },
           {
            "bin_start": 1.6,
            "bin_end": 2.2,
            "count": 1
           },
           {
            "bin_start": 2.2,
            "bin_end": 2.8,
            "count": 0
           },
           {
            "bin_start": 2.8,
            "bin_end": 3.4,
            "count": 0
           },
           {
            "bin_start": 3.4,
            "bin_end": 4,
            "count": 0
           },
           {
            "bin_start": 4,
            "bin_end": 4.6,
            "count": 0
           },
           {
            "bin_start": 4.6,
            "bin_end": 5.2,
            "count": 0
           },
           {
            "bin_start": 5.2,
            "bin_end": 5.8,
            "count": 0
           },
           {
            "bin_start": 5.8,
            "bin_end": 6.3999999999999995,
            "count": 1
           },
           {
            "bin_start": 6.3999999999999995,
            "bin_end": 7,
            "count": 1
           }
          ]
         }
        },
        {
         "name": "_deepnote_index_column",
         "dtype": "int64"
        }
       ],
       "rows_top": [
        {
         "week": 51,
         "Flavor": "vanilla",
         "icreamsold": 20,
         "smoothesold": 6,
         "_deepnote_index_column": 203
        },
        {
         "week": 52,
         "Flavor": "chocolate",
         "icreamsold": 10,
         "smoothesold": 7,
         "_deepnote_index_column": 204
        },
        {
         "week": 52,
         "Flavor": "lemon",
         "icreamsold": 9,
         "smoothesold": 1,
         "_deepnote_index_column": 205
        },
        {
         "week": 52,
         "Flavor": "strawberry",
         "icreamsold": 1,
         "smoothesold": 2,
         "_deepnote_index_column": 206
        },
        {
         "week": 52,
         "Flavor": "vanilla",
         "icreamsold": 18,
         "smoothesold": 1,
         "_deepnote_index_column": 207
        }
       ],
       "rows_bottom": null
      },
      "text/plain": "     week      Flavor  icreamsold  smoothesold\n203    51     vanilla          20            6\n204    52   chocolate          10            7\n205    52       lemon           9            1\n206    52  strawberry           1            2\n207    52     vanilla          18            1",
      "text/html": "<div>\n<style scoped>\n    .dataframe tbody tr th:only-of-type {\n        vertical-align: middle;\n    }\n\n    .dataframe tbody tr th {\n        vertical-align: top;\n    }\n\n    .dataframe thead th {\n        text-align: right;\n    }\n</style>\n<table border=\"1\" class=\"dataframe\">\n  <thead>\n    <tr style=\"text-align: right;\">\n      <th></th>\n      <th>week</th>\n      <th>Flavor</th>\n      <th>icreamsold</th>\n      <th>smoothesold</th>\n    </tr>\n  </thead>\n  <tbody>\n    <tr>\n      <th>203</th>\n      <td>51</td>\n      <td>vanilla</td>\n      <td>20</td>\n      <td>6</td>\n    </tr>\n    <tr>\n      <th>204</th>\n      <td>52</td>\n      <td>chocolate</td>\n      <td>10</td>\n      <td>7</td>\n    </tr>\n    <tr>\n      <th>205</th>\n      <td>52</td>\n      <td>lemon</td>\n      <td>9</td>\n      <td>1</td>\n    </tr>\n    <tr>\n      <th>206</th>\n      <td>52</td>\n      <td>strawberry</td>\n      <td>1</td>\n      <td>2</td>\n    </tr>\n    <tr>\n      <th>207</th>\n      <td>52</td>\n      <td>vanilla</td>\n      <td>18</td>\n      <td>1</td>\n    </tr>\n  </tbody>\n</table>\n</div>"
     },
     "metadata": {}
    }
   ],
   "execution_count": 9
  },
  {
   "cell_type": "markdown",
   "source": "In SalesByFlavor data set, there are a total of four columns: week, Flavor, icreamsold, and smoothesold. The data is all about the amount of sales for ice-cream and smoothe which has four flavors from week 1 to week 52.",
   "metadata": {
    "tags": [],
    "is_collapsed": false,
    "cell_id": "00043-0b8226b7-3f9e-4d17-afb4-916c3c2e44d0",
    "deepnote_cell_type": "text-cell-p"
   }
  },
  {
   "cell_type": "markdown",
   "source": "Now, let's try to group the data according to flavor first.",
   "metadata": {
    "tags": [],
    "is_collapsed": false,
    "cell_id": "00045-7c5bef2e-cfe3-40cb-8bb6-90750567559a",
    "deepnote_cell_type": "text-cell-p"
   }
  },
  {
   "cell_type": "code",
   "metadata": {
    "tags": [],
    "cell_id": "00043-3f97f5cf-b471-4a48-bfab-fd5aa211161a",
    "deepnote_to_be_reexecuted": false,
    "source_hash": "5de035cc",
    "execution_start": 1637404190028,
    "execution_millis": 3,
    "deepnote_cell_type": "code"
   },
   "source": "flavors_grouped=flavors.groupby('Flavor')\n# print out all the groups\nprint(flavors.groupby('Flavor').groups)\n",
   "execution_count": 10,
   "outputs": [
    {
     "name": "stdout",
     "text": "{'chocolate': [0, 4, 8, 12, 16, 20, 24, 28, 32, 36, 40, 44, 48, 52, 56, 60, 64, 68, 72, 76, 80, 84, 88, 92, 96, 100, 104, 108, 112, 116, 120, 124, 128, 132, 136, 140, 144, 148, 152, 156, 160, 164, 168, 172, 176, 180, 184, 188, 192, 196, 200, 204], 'lemon': [1, 5, 9, 13, 17, 21, 25, 29, 33, 37, 41, 45, 49, 53, 57, 61, 65, 69, 73, 77, 81, 85, 89, 93, 97, 101, 105, 109, 113, 117, 121, 125, 129, 133, 137, 141, 145, 149, 153, 157, 161, 165, 169, 173, 177, 181, 185, 189, 193, 197, 201, 205], 'strawberry': [2, 6, 10, 14, 18, 22, 26, 30, 34, 38, 42, 46, 50, 54, 58, 62, 66, 70, 74, 78, 82, 86, 90, 94, 98, 102, 106, 110, 114, 118, 122, 126, 130, 134, 138, 142, 146, 150, 154, 158, 162, 166, 170, 174, 178, 182, 186, 190, 194, 198, 202, 206], 'vanilla': [3, 7, 11, 15, 19, 23, 27, 31, 35, 39, 43, 47, 51, 55, 59, 63, 67, 71, 75, 79, 83, 87, 91, 95, 99, 103, 107, 111, 115, 119, 123, 127, 131, 135, 139, 143, 147, 151, 155, 159, 163, 167, 171, 175, 179, 183, 187, 191, 195, 199, 203, 207]}\n",
     "output_type": "stream"
    }
   ]
  },
  {
   "cell_type": "markdown",
   "source": "Now, you can see there are a total of four groups because the Flavor column has four different flavors: chocolate, lemon, strawberry, and vanilla. But it's not quite obvious. Now, let's print out the the first group .",
   "metadata": {
    "tags": [],
    "is_collapsed": false,
    "cell_id": "00047-c881680a-a71f-4208-86ce-3112468de76c",
    "deepnote_cell_type": "text-cell-p"
   }
  },
  {
   "cell_type": "code",
   "metadata": {
    "tags": [],
    "cell_id": "00044-15375e8c-ef20-4dd4-88f4-531816d242d4",
    "deepnote_to_be_reexecuted": false,
    "source_hash": "100ca2",
    "execution_start": 1637404190081,
    "execution_millis": 2,
    "deepnote_cell_type": "code"
   },
   "source": "# check the first group\nprint(flavors_grouped.first())",
   "execution_count": 11,
   "outputs": [
    {
     "name": "stdout",
     "text": "            week  icreamsold  smoothesold\nFlavor                                   \nchocolate      1           6            5\nlemon          1          15            3\nstrawberry     1          12           10\nvanilla        1           6            2\n",
     "output_type": "stream"
    }
   ]
  },
  {
   "cell_type": "markdown",
   "source": "Here, we can see that the first group ( week1) sold by four flavors.  ",
   "metadata": {
    "tags": [],
    "is_collapsed": false,
    "cell_id": "00049-5f83c88e-23a7-4058-879a-bb4b093ca921",
    "deepnote_cell_type": "text-cell-p"
   }
  },
  {
   "cell_type": "code",
   "source": "# check the last group\nprint(flavors_grouped.last())",
   "metadata": {
    "tags": [],
    "cell_id": "00050-9b1d6fd5-22a6-4b41-9592-285686b73b3f",
    "deepnote_to_be_reexecuted": false,
    "source_hash": "b2498e8b",
    "execution_start": 1637404190082,
    "execution_millis": 43,
    "deepnote_cell_type": "code"
   },
   "outputs": [
    {
     "name": "stdout",
     "text": "            week  icreamsold  smoothesold\nFlavor                                   \nchocolate     52          10            7\nlemon         52           9            1\nstrawberry    52           1            2\nvanilla       52          18            1\n",
     "output_type": "stream"
    }
   ],
   "execution_count": 12
  },
  {
   "cell_type": "markdown",
   "source": "This is the last group (week 52) sold by flavors. ",
   "metadata": {
    "tags": [],
    "is_collapsed": false,
    "cell_id": "00051-dc2712bc-4a48-4218-83e3-cf5b4c399fdb",
    "deepnote_cell_type": "text-cell-p"
   }
  },
  {
   "cell_type": "markdown",
   "source": "Pandas also support to group by multiple columns. Let's check it out!",
   "metadata": {
    "tags": [],
    "is_collapsed": false,
    "cell_id": "00052-53779ee4-f32e-421a-ae08-217ac1e72df1",
    "deepnote_cell_type": "text-cell-p"
   }
  },
  {
   "cell_type": "code",
   "metadata": {
    "tags": [],
    "cell_id": "00046-4fcf7893-fae4-4395-8539-3de8a02d61bc",
    "deepnote_to_be_reexecuted": false,
    "source_hash": "89955219",
    "execution_start": 1637404190125,
    "execution_millis": 29,
    "deepnote_cell_type": "code"
   },
   "source": "flavors_grouped_multi=flavors.groupby(['Flavor','week'])\nprint(flavors.groupby(['Flavor','week']).groups)",
   "execution_count": 13,
   "outputs": [
    {
     "name": "stdout",
     "text": "{('chocolate', 1): [0], ('chocolate', 2): [4], ('chocolate', 3): [8], ('chocolate', 4): [12], ('chocolate', 5): [16], ('chocolate', 6): [20], ('chocolate', 7): [24], ('chocolate', 8): [28], ('chocolate', 9): [32], ('chocolate', 10): [36], ('chocolate', 11): [40], ('chocolate', 12): [44], ('chocolate', 13): [48], ('chocolate', 14): [52], ('chocolate', 15): [56], ('chocolate', 16): [60], ('chocolate', 17): [64], ('chocolate', 18): [68], ('chocolate', 19): [72], ('chocolate', 20): [76], ('chocolate', 21): [80], ('chocolate', 22): [84], ('chocolate', 23): [88], ('chocolate', 24): [92], ('chocolate', 25): [96], ('chocolate', 26): [100], ('chocolate', 27): [104], ('chocolate', 28): [108], ('chocolate', 29): [112], ('chocolate', 30): [116], ('chocolate', 31): [120], ('chocolate', 32): [124], ('chocolate', 33): [128], ('chocolate', 34): [132], ('chocolate', 35): [136], ('chocolate', 36): [140], ('chocolate', 37): [144], ('chocolate', 38): [148], ('chocolate', 39): [152], ('chocolate', 40): [156], ('chocolate', 41): [160], ('chocolate', 42): [164], ('chocolate', 43): [168], ('chocolate', 44): [172], ('chocolate', 45): [176], ('chocolate', 46): [180], ('chocolate', 47): [184], ('chocolate', 48): [188], ('chocolate', 49): [192], ('chocolate', 50): [196], ('chocolate', 51): [200], ('chocolate', 52): [204], ('lemon', 1): [1], ('lemon', 2): [5], ('lemon', 3): [9], ('lemon', 4): [13], ('lemon', 5): [17], ('lemon', 6): [21], ('lemon', 7): [25], ('lemon', 8): [29], ('lemon', 9): [33], ('lemon', 10): [37], ('lemon', 11): [41], ('lemon', 12): [45], ('lemon', 13): [49], ('lemon', 14): [53], ('lemon', 15): [57], ('lemon', 16): [61], ('lemon', 17): [65], ('lemon', 18): [69], ('lemon', 19): [73], ('lemon', 20): [77], ('lemon', 21): [81], ('lemon', 22): [85], ('lemon', 23): [89], ('lemon', 24): [93], ('lemon', 25): [97], ('lemon', 26): [101], ('lemon', 27): [105], ('lemon', 28): [109], ('lemon', 29): [113], ('lemon', 30): [117], ('lemon', 31): [121], ('lemon', 32): [125], ('lemon', 33): [129], ('lemon', 34): [133], ('lemon', 35): [137], ('lemon', 36): [141], ('lemon', 37): [145], ('lemon', 38): [149], ('lemon', 39): [153], ('lemon', 40): [157], ('lemon', 41): [161], ('lemon', 42): [165], ('lemon', 43): [169], ('lemon', 44): [173], ('lemon', 45): [177], ('lemon', 46): [181], ('lemon', 47): [185], ('lemon', 48): [189], ...}\n",
     "output_type": "stream"
    }
   ]
  },
  {
   "cell_type": "code",
   "metadata": {
    "tags": [],
    "cell_id": "00047-c9bc323d-dc9f-456f-82b0-ebf2bb1e30e9",
    "deepnote_to_be_reexecuted": false,
    "source_hash": "d732f5f7",
    "execution_start": 1637404190158,
    "execution_millis": 17,
    "deepnote_cell_type": "code"
   },
   "source": "print(flavors_grouped_multi.first())",
   "execution_count": 14,
   "outputs": [
    {
     "name": "stdout",
     "text": "                icreamsold  smoothesold\nFlavor    week                         \nchocolate 1              6            5\n          2             16           14\n          3              5            4\n          4             20           11\n          5              4            3\n...                    ...          ...\nvanilla   48            13           12\n          49             8           18\n          50             4           14\n          51            20            6\n          52            18            1\n\n[208 rows x 2 columns]\n",
     "output_type": "stream"
    }
   ]
  },
  {
   "cell_type": "markdown",
   "source": "## Applying",
   "metadata": {
    "tags": [],
    "is_collapsed": false,
    "cell_id": "00049-6108b0b8-1115-433d-9e14-02a272872c48",
    "deepnote_cell_type": "text-cell-h2"
   }
  },
  {
   "cell_type": "markdown",
   "source": "In the applying step, we usually do one of these steps: Aggregation, Transformation and Filtration.",
   "metadata": {
    "tags": [],
    "is_collapsed": false,
    "cell_id": "00049-be29029c-7c06-48d9-b314-1171c43b0832",
    "deepnote_cell_type": "text-cell-p"
   }
  },
  {
   "cell_type": "markdown",
   "source": "### Aggregation",
   "metadata": {
    "tags": [],
    "is_collapsed": false,
    "cell_id": "00050-e314fbce-3b6a-4855-b05b-d047e7453ce5",
    "deepnote_cell_type": "text-cell-h3"
   }
  },
  {
   "cell_type": "markdown",
   "source": "Aggregation: In this process, you can compute a summary statistic (or statistics) for each group. For example, you can compute group sums or means or compute group sizes or counts.",
   "metadata": {
    "tags": [],
    "is_collapsed": false,
    "cell_id": "00051-fbad6d53-3952-4004-9918-0fb70d689c67",
    "deepnote_cell_type": "text-cell-p"
   }
  },
  {
   "cell_type": "markdown",
   "source": "Now, let's check out the total sales according to flavors.",
   "metadata": {
    "tags": [],
    "is_collapsed": false,
    "cell_id": "00059-8e9c8756-9096-4b1c-a9dc-a2785ae8b478",
    "deepnote_cell_type": "text-cell-p"
   }
  },
  {
   "cell_type": "code",
   "metadata": {
    "tags": [],
    "cell_id": "00051-a1a4578b-2d91-4fef-97aa-8af2aabc25a3",
    "deepnote_to_be_reexecuted": false,
    "source_hash": "9960fa5c",
    "execution_start": 1637404190245,
    "execution_millis": 2,
    "deepnote_cell_type": "code"
   },
   "source": "flavors_grouped[['icreamsold','smoothesold']].aggregate(np.sum)",
   "execution_count": 15,
   "outputs": [
    {
     "output_type": "execute_result",
     "execution_count": 15,
     "data": {
      "application/vnd.deepnote.dataframe.v2+json": {
       "row_count": 4,
       "column_count": 2,
       "columns": [
        {
         "name": "icreamsold",
         "dtype": "int64",
         "stats": {
          "unique_count": 4,
          "nan_count": 0,
          "min": "399",
          "max": "713",
          "histogram": [
           {
            "bin_start": 399,
            "bin_end": 430.4,
            "count": 1
           },
           {
            "bin_start": 430.4,
            "bin_end": 461.8,
            "count": 1
           },
           {
            "bin_start": 461.8,
            "bin_end": 493.2,
            "count": 0
           },
           {
            "bin_start": 493.2,
            "bin_end": 524.6,
            "count": 0
           },
           {
            "bin_start": 524.6,
            "bin_end": 556,
            "count": 1
           },
           {
            "bin_start": 556,
            "bin_end": 587.4,
            "count": 0
           },
           {
            "bin_start": 587.4,
            "bin_end": 618.8,
            "count": 0
           },
           {
            "bin_start": 618.8,
            "bin_end": 650.2,
            "count": 0
           },
           {
            "bin_start": 650.2,
            "bin_end": 681.5999999999999,
            "count": 0
           },
           {
            "bin_start": 681.5999999999999,
            "bin_end": 713,
            "count": 1
           }
          ]
         }
        },
        {
         "name": "smoothesold",
         "dtype": "int64",
         "stats": {
          "unique_count": 4,
          "nan_count": 0,
          "min": "435",
          "max": "459",
          "histogram": [
           {
            "bin_start": 435,
            "bin_end": 437.4,
            "count": 1
           },
           {
            "bin_start": 437.4,
            "bin_end": 439.8,
            "count": 0
           },
           {
            "bin_start": 439.8,
            "bin_end": 442.2,
            "count": 0
           },
           {
            "bin_start": 442.2,
            "bin_end": 444.6,
            "count": 0
           },
           {
            "bin_start": 444.6,
            "bin_end": 447,
            "count": 0
           },
           {
            "bin_start": 447,
            "bin_end": 449.4,
            "count": 1
           },
           {
            "bin_start": 449.4,
            "bin_end": 451.8,
            "count": 0
           },
           {
            "bin_start": 451.8,
            "bin_end": 454.2,
            "count": 0
           },
           {
            "bin_start": 454.2,
            "bin_end": 456.6,
            "count": 1
           },
           {
            "bin_start": 456.6,
            "bin_end": 459,
            "count": 1
           }
          ]
         }
        },
        {
         "name": "_deepnote_index_column",
         "dtype": "object"
        }
       ],
       "rows_top": [
        {
         "icreamsold": 460,
         "smoothesold": 435,
         "_deepnote_index_column": "chocolate"
        },
        {
         "icreamsold": 713,
         "smoothesold": 448,
         "_deepnote_index_column": "lemon"
        },
        {
         "icreamsold": 399,
         "smoothesold": 459,
         "_deepnote_index_column": "strawberry"
        },
        {
         "icreamsold": 527,
         "smoothesold": 456,
         "_deepnote_index_column": "vanilla"
        }
       ],
       "rows_bottom": null
      },
      "text/plain": "            icreamsold  smoothesold\nFlavor                             \nchocolate          460          435\nlemon              713          448\nstrawberry         399          459\nvanilla            527          456",
      "text/html": "<div>\n<style scoped>\n    .dataframe tbody tr th:only-of-type {\n        vertical-align: middle;\n    }\n\n    .dataframe tbody tr th {\n        vertical-align: top;\n    }\n\n    .dataframe thead th {\n        text-align: right;\n    }\n</style>\n<table border=\"1\" class=\"dataframe\">\n  <thead>\n    <tr style=\"text-align: right;\">\n      <th></th>\n      <th>icreamsold</th>\n      <th>smoothesold</th>\n    </tr>\n    <tr>\n      <th>Flavor</th>\n      <th></th>\n      <th></th>\n    </tr>\n  </thead>\n  <tbody>\n    <tr>\n      <th>chocolate</th>\n      <td>460</td>\n      <td>435</td>\n    </tr>\n    <tr>\n      <th>lemon</th>\n      <td>713</td>\n      <td>448</td>\n    </tr>\n    <tr>\n      <th>strawberry</th>\n      <td>399</td>\n      <td>459</td>\n    </tr>\n    <tr>\n      <th>vanilla</th>\n      <td>527</td>\n      <td>456</td>\n    </tr>\n  </tbody>\n</table>\n</div>"
     },
     "metadata": {}
    }
   ]
  },
  {
   "cell_type": "markdown",
   "source": "Now, we get the total sales for each flavor. Lemon is the most buying for ice-cream and strawberry is the most buying for smoothe. ",
   "metadata": {
    "tags": [],
    "is_collapsed": false,
    "cell_id": "00061-16c32188-4abb-452a-86fe-59f0deb41f0f",
    "deepnote_cell_type": "text-cell-p"
   }
  },
  {
   "cell_type": "markdown",
   "source": "Moreover, pandas also support to apply multiple functions at the same time. And also supports applying different functions to different folumns.",
   "metadata": {
    "tags": [],
    "is_collapsed": false,
    "cell_id": "00062-34f3ba87-b5d8-4efd-bab0-ab7a5d77020d",
    "deepnote_cell_type": "text-cell-p"
   }
  },
  {
   "cell_type": "markdown",
   "source": "Applying multi-functions at once.",
   "metadata": {
    "tags": [],
    "is_collapsed": false,
    "cell_id": "00052-c525aa2b-06ad-424f-aa1c-b717ab754fd8",
    "deepnote_cell_type": "text-cell-p"
   }
  },
  {
   "cell_type": "code",
   "metadata": {
    "tags": [],
    "cell_id": "00053-9e31901b-c7e9-4850-9458-53ae879cd7fd",
    "deepnote_to_be_reexecuted": false,
    "source_hash": "f7287487",
    "execution_start": 1637404190246,
    "execution_millis": 44,
    "deepnote_cell_type": "code"
   },
   "source": "flavors_grouped['icreamsold'].agg([np.sum,np.mean,np.std])",
   "execution_count": 16,
   "outputs": [
    {
     "output_type": "execute_result",
     "execution_count": 16,
     "data": {
      "application/vnd.deepnote.dataframe.v2+json": {
       "row_count": 4,
       "column_count": 3,
       "columns": [
        {
         "name": "sum",
         "dtype": "int64",
         "stats": {
          "unique_count": 4,
          "nan_count": 0,
          "min": "399",
          "max": "713",
          "histogram": [
           {
            "bin_start": 399,
            "bin_end": 430.4,
            "count": 1
           },
           {
            "bin_start": 430.4,
            "bin_end": 461.8,
            "count": 1
           },
           {
            "bin_start": 461.8,
            "bin_end": 493.2,
            "count": 0
           },
           {
            "bin_start": 493.2,
            "bin_end": 524.6,
            "count": 0
           },
           {
            "bin_start": 524.6,
            "bin_end": 556,
            "count": 1
           },
           {
            "bin_start": 556,
            "bin_end": 587.4,
            "count": 0
           },
           {
            "bin_start": 587.4,
            "bin_end": 618.8,
            "count": 0
           },
           {
            "bin_start": 618.8,
            "bin_end": 650.2,
            "count": 0
           },
           {
            "bin_start": 650.2,
            "bin_end": 681.5999999999999,
            "count": 0
           },
           {
            "bin_start": 681.5999999999999,
            "bin_end": 713,
            "count": 1
           }
          ]
         }
        },
        {
         "name": "mean",
         "dtype": "float64",
         "stats": {
          "unique_count": 4,
          "nan_count": 0,
          "min": "7.673076923076923",
          "max": "13.711538461538462",
          "histogram": [
           {
            "bin_start": 7.673076923076923,
            "bin_end": 8.276923076923078,
            "count": 1
           },
           {
            "bin_start": 8.276923076923078,
            "bin_end": 8.88076923076923,
            "count": 1
           },
           {
            "bin_start": 8.88076923076923,
            "bin_end": 9.484615384615385,
            "count": 0
           },
           {
            "bin_start": 9.484615384615385,
            "bin_end": 10.088461538461539,
            "count": 0
           },
           {
            "bin_start": 10.088461538461539,
            "bin_end": 10.692307692307693,
            "count": 1
           },
           {
            "bin_start": 10.692307692307693,
            "bin_end": 11.296153846153846,
            "count": 0
           },
           {
            "bin_start": 11.296153846153846,
            "bin_end": 11.9,
            "count": 0
           },
           {
            "bin_start": 11.9,
            "bin_end": 12.503846153846155,
            "count": 0
           },
           {
            "bin_start": 12.503846153846155,
            "bin_end": 13.107692307692307,
            "count": 0
           },
           {
            "bin_start": 13.107692307692307,
            "bin_end": 13.711538461538462,
            "count": 1
           }
          ]
         }
        },
        {
         "name": "std",
         "dtype": "float64",
         "stats": {
          "unique_count": 4,
          "nan_count": 0,
          "min": "4.486740982667768",
          "max": "5.7475812999379725",
          "histogram": [
           {
            "bin_start": 4.486740982667768,
            "bin_end": 4.612825014394788,
            "count": 1
           },
           {
            "bin_start": 4.612825014394788,
            "bin_end": 4.738909046121809,
            "count": 0
           },
           {
            "bin_start": 4.738909046121809,
            "bin_end": 4.864993077848829,
            "count": 0
           },
           {
            "bin_start": 4.864993077848829,
            "bin_end": 4.9910771095758495,
            "count": 0
           },
           {
            "bin_start": 4.9910771095758495,
            "bin_end": 5.11716114130287,
            "count": 0
           },
           {
            "bin_start": 5.11716114130287,
            "bin_end": 5.243245173029891,
            "count": 1
           },
           {
            "bin_start": 5.243245173029891,
            "bin_end": 5.3693292047569114,
            "count": 0
           },
           {
            "bin_start": 5.3693292047569114,
            "bin_end": 5.495413236483932,
            "count": 1
           },
           {
            "bin_start": 5.495413236483932,
            "bin_end": 5.621497268210952,
            "count": 0
           },
           {
            "bin_start": 5.621497268210952,
            "bin_end": 5.7475812999379725,
            "count": 1
           }
          ]
         }
        },
        {
         "name": "_deepnote_index_column",
         "dtype": "object"
        }
       ],
       "rows_top": [
        {
         "sum": 460,
         "mean": 8.846153846153847,
         "std": 5.7475812999379725,
         "_deepnote_index_column": "chocolate"
        },
        {
         "sum": 713,
         "mean": 13.711538461538462,
         "std": 4.486740982667768,
         "_deepnote_index_column": "lemon"
        },
        {
         "sum": 399,
         "mean": 7.673076923076923,
         "std": 5.181873209057814,
         "_deepnote_index_column": "strawberry"
        },
        {
         "sum": 527,
         "mean": 10.134615384615385,
         "std": 5.423365737952938,
         "_deepnote_index_column": "vanilla"
        }
       ],
       "rows_bottom": null
      },
      "text/plain": "            sum       mean       std\nFlavor                              \nchocolate   460   8.846154  5.747581\nlemon       713  13.711538  4.486741\nstrawberry  399   7.673077  5.181873\nvanilla     527  10.134615  5.423366",
      "text/html": "<div>\n<style scoped>\n    .dataframe tbody tr th:only-of-type {\n        vertical-align: middle;\n    }\n\n    .dataframe tbody tr th {\n        vertical-align: top;\n    }\n\n    .dataframe thead th {\n        text-align: right;\n    }\n</style>\n<table border=\"1\" class=\"dataframe\">\n  <thead>\n    <tr style=\"text-align: right;\">\n      <th></th>\n      <th>sum</th>\n      <th>mean</th>\n      <th>std</th>\n    </tr>\n    <tr>\n      <th>Flavor</th>\n      <th></th>\n      <th></th>\n      <th></th>\n    </tr>\n  </thead>\n  <tbody>\n    <tr>\n      <th>chocolate</th>\n      <td>460</td>\n      <td>8.846154</td>\n      <td>5.747581</td>\n    </tr>\n    <tr>\n      <th>lemon</th>\n      <td>713</td>\n      <td>13.711538</td>\n      <td>4.486741</td>\n    </tr>\n    <tr>\n      <th>strawberry</th>\n      <td>399</td>\n      <td>7.673077</td>\n      <td>5.181873</td>\n    </tr>\n    <tr>\n      <th>vanilla</th>\n      <td>527</td>\n      <td>10.134615</td>\n      <td>5.423366</td>\n    </tr>\n  </tbody>\n</table>\n</div>"
     },
     "metadata": {}
    }
   ]
  },
  {
   "cell_type": "markdown",
   "source": "Applying different functions to columns",
   "metadata": {
    "tags": [],
    "is_collapsed": false,
    "cell_id": "00055-d07be6ae-98ce-487e-990c-1a599bc6e8a6",
    "deepnote_cell_type": "text-cell-p"
   }
  },
  {
   "cell_type": "code",
   "metadata": {
    "tags": [],
    "cell_id": "00056-7fd72fbd-4087-4b39-ada4-79e4ea1d4200",
    "deepnote_to_be_reexecuted": false,
    "source_hash": "3802d325",
    "execution_start": 1637404190290,
    "execution_millis": 44,
    "deepnote_cell_type": "code"
   },
   "source": "flavors_grouped.agg({'icreamsold':np.sum,'smoothesold':np.mean})",
   "execution_count": 17,
   "outputs": [
    {
     "output_type": "execute_result",
     "execution_count": 17,
     "data": {
      "application/vnd.deepnote.dataframe.v2+json": {
       "row_count": 4,
       "column_count": 2,
       "columns": [
        {
         "name": "icreamsold",
         "dtype": "int64",
         "stats": {
          "unique_count": 4,
          "nan_count": 0,
          "min": "399",
          "max": "713",
          "histogram": [
           {
            "bin_start": 399,
            "bin_end": 430.4,
            "count": 1
           },
           {
            "bin_start": 430.4,
            "bin_end": 461.8,
            "count": 1
           },
           {
            "bin_start": 461.8,
            "bin_end": 493.2,
            "count": 0
           },
           {
            "bin_start": 493.2,
            "bin_end": 524.6,
            "count": 0
           },
           {
            "bin_start": 524.6,
            "bin_end": 556,
            "count": 1
           },
           {
            "bin_start": 556,
            "bin_end": 587.4,
            "count": 0
           },
           {
            "bin_start": 587.4,
            "bin_end": 618.8,
            "count": 0
           },
           {
            "bin_start": 618.8,
            "bin_end": 650.2,
            "count": 0
           },
           {
            "bin_start": 650.2,
            "bin_end": 681.5999999999999,
            "count": 0
           },
           {
            "bin_start": 681.5999999999999,
            "bin_end": 713,
            "count": 1
           }
          ]
         }
        },
        {
         "name": "smoothesold",
         "dtype": "float64",
         "stats": {
          "unique_count": 4,
          "nan_count": 0,
          "min": "8.365384615384615",
          "max": "8.826923076923077",
          "histogram": [
           {
            "bin_start": 8.365384615384615,
            "bin_end": 8.411538461538461,
            "count": 1
           },
           {
            "bin_start": 8.411538461538461,
            "bin_end": 8.457692307692307,
            "count": 0
           },
           {
            "bin_start": 8.457692307692307,
            "bin_end": 8.503846153846153,
            "count": 0
           },
           {
            "bin_start": 8.503846153846153,
            "bin_end": 8.549999999999999,
            "count": 0
           },
           {
            "bin_start": 8.549999999999999,
            "bin_end": 8.596153846153847,
            "count": 0
           },
           {
            "bin_start": 8.596153846153847,
            "bin_end": 8.642307692307693,
            "count": 1
           },
           {
            "bin_start": 8.642307692307693,
            "bin_end": 8.688461538461539,
            "count": 0
           },
           {
            "bin_start": 8.688461538461539,
            "bin_end": 8.734615384615385,
            "count": 0
           },
           {
            "bin_start": 8.734615384615385,
            "bin_end": 8.78076923076923,
            "count": 1
           },
           {
            "bin_start": 8.78076923076923,
            "bin_end": 8.826923076923077,
            "count": 1
           }
          ]
         }
        },
        {
         "name": "_deepnote_index_column",
         "dtype": "object"
        }
       ],
       "rows_top": [
        {
         "icreamsold": 460,
         "smoothesold": 8.365384615384615,
         "_deepnote_index_column": "chocolate"
        },
        {
         "icreamsold": 713,
         "smoothesold": 8.615384615384615,
         "_deepnote_index_column": "lemon"
        },
        {
         "icreamsold": 399,
         "smoothesold": 8.826923076923077,
         "_deepnote_index_column": "strawberry"
        },
        {
         "icreamsold": 527,
         "smoothesold": 8.76923076923077,
         "_deepnote_index_column": "vanilla"
        }
       ],
       "rows_bottom": null
      },
      "text/plain": "            icreamsold  smoothesold\nFlavor                             \nchocolate          460     8.365385\nlemon              713     8.615385\nstrawberry         399     8.826923\nvanilla            527     8.769231",
      "text/html": "<div>\n<style scoped>\n    .dataframe tbody tr th:only-of-type {\n        vertical-align: middle;\n    }\n\n    .dataframe tbody tr th {\n        vertical-align: top;\n    }\n\n    .dataframe thead th {\n        text-align: right;\n    }\n</style>\n<table border=\"1\" class=\"dataframe\">\n  <thead>\n    <tr style=\"text-align: right;\">\n      <th></th>\n      <th>icreamsold</th>\n      <th>smoothesold</th>\n    </tr>\n    <tr>\n      <th>Flavor</th>\n      <th></th>\n      <th></th>\n    </tr>\n  </thead>\n  <tbody>\n    <tr>\n      <th>chocolate</th>\n      <td>460</td>\n      <td>8.365385</td>\n    </tr>\n    <tr>\n      <th>lemon</th>\n      <td>713</td>\n      <td>8.615385</td>\n    </tr>\n    <tr>\n      <th>strawberry</th>\n      <td>399</td>\n      <td>8.826923</td>\n    </tr>\n    <tr>\n      <th>vanilla</th>\n      <td>527</td>\n      <td>8.769231</td>\n    </tr>\n  </tbody>\n</table>\n</div>"
     },
     "metadata": {}
    }
   ]
  },
  {
   "cell_type": "markdown",
   "source": "### Transforming",
   "metadata": {
    "tags": [],
    "is_collapsed": false,
    "cell_id": "00054-76cd7aea-4e53-420c-a063-19abc87e8269",
    "deepnote_cell_type": "text-cell-h3"
   }
  },
  {
   "cell_type": "markdown",
   "source": "This is the process in which we usually perform some group-specific computations and return like-indexed object. For example, standardizing data (zscore) within a group and filling NAs within groups with a value derived from each group.",
   "metadata": {
    "tags": [],
    "is_collapsed": false,
    "cell_id": "00055-a64ee397-244e-4980-881b-968d56d55188",
    "deepnote_cell_type": "text-cell-p"
   }
  },
  {
   "cell_type": "code",
   "metadata": {
    "tags": [],
    "cell_id": "00056-ad6d804f-dec0-44d2-99c9-fb671e5b9ed5",
    "deepnote_to_be_reexecuted": false,
    "source_hash": "7573c52d",
    "execution_start": 1637404190334,
    "execution_millis": 80,
    "deepnote_cell_type": "code"
   },
   "source": "#compute z-score\nsc=lambda x: (x-x.mean())/x.std()#10\nflavors_grouped.transform(sc)",
   "execution_count": 18,
   "outputs": [
    {
     "output_type": "execute_result",
     "execution_count": 18,
     "data": {
      "application/vnd.deepnote.dataframe.v2+json": {
       "row_count": 208,
       "column_count": 3,
       "columns": [
        {
         "name": "week",
         "dtype": "float64",
         "stats": {
          "unique_count": 52,
          "nan_count": 0,
          "min": "-1.6826399535707826",
          "max": "1.6826399535707826",
          "histogram": [
           {
            "bin_start": -1.6826399535707826,
            "bin_end": -1.346111962856626,
            "count": 24
           },
           {
            "bin_start": -1.346111962856626,
            "bin_end": -1.0095839721424695,
            "count": 20
           },
           {
            "bin_start": -1.0095839721424695,
            "bin_end": -0.673055981428313,
            "count": 20
           },
           {
            "bin_start": -0.673055981428313,
            "bin_end": -0.3365279907141565,
            "count": 20
           },
           {
            "bin_start": -0.3365279907141565,
            "bin_end": 0,
            "count": 20
           },
           {
            "bin_start": 0,
            "bin_end": 0.3365279907141565,
            "count": 20
           },
           {
            "bin_start": 0.3365279907141565,
            "bin_end": 0.6730559814283132,
            "count": 20
           },
           {
            "bin_start": 0.6730559814283132,
            "bin_end": 1.0095839721424695,
            "count": 20
           },
           {
            "bin_start": 1.0095839721424695,
            "bin_end": 1.3461119628566258,
            "count": 20
           },
           {
            "bin_start": 1.3461119628566258,
            "bin_end": 1.6826399535707826,
            "count": 24
           }
          ]
         }
        },
        {
         "name": "icreamsold",
         "dtype": "float64",
         "stats": {
          "unique_count": 73,
          "nan_count": 0,
          "min": "-2.833134007655668",
          "max": "1.9928938166360024",
          "histogram": [
           {
            "bin_start": -2.833134007655668,
            "bin_end": -2.3505312252265007,
            "count": 1
           },
           {
            "bin_start": -2.3505312252265007,
            "bin_end": -1.867928442797334,
            "count": 1
           },
           {
            "bin_start": -1.867928442797334,
            "bin_end": -1.3853256603681667,
            "count": 7
           },
           {
            "bin_start": -1.3853256603681667,
            "bin_end": -0.9027228779389997,
            "count": 37
           },
           {
            "bin_start": -0.9027228779389997,
            "bin_end": -0.42012009550983276,
            "count": 32
           },
           {
            "bin_start": -0.42012009550983276,
            "bin_end": 0.06248268691933445,
            "count": 26
           },
           {
            "bin_start": 0.06248268691933445,
            "bin_end": 0.5450854693485012,
            "count": 41
           },
           {
            "bin_start": 0.5450854693485012,
            "bin_end": 1.0276882517776684,
            "count": 24
           },
           {
            "bin_start": 1.0276882517776684,
            "bin_end": 1.5102910342068356,
            "count": 27
           },
           {
            "bin_start": 1.5102910342068356,
            "bin_end": 1.9928938166360024,
            "count": 12
           }
          ]
         }
        },
        {
         "name": "smoothesold",
         "dtype": "float64",
         "stats": {
          "unique_count": 74,
          "nan_count": 0,
          "min": "-1.5869750498814532",
          "max": "3.3742038662937874",
          "histogram": [
           {
            "bin_start": -1.5869750498814532,
            "bin_end": -1.0908571582639293,
            "count": 36
           },
           {
            "bin_start": -1.0908571582639293,
            "bin_end": -0.5947392666464051,
            "count": 39
           },
           {
            "bin_start": -0.5947392666464051,
            "bin_end": -0.09862137502888113,
            "count": 19
           },
           {
            "bin_start": -0.09862137502888113,
            "bin_end": 0.39749651658864305,
            "count": 38
           },
           {
            "bin_start": 0.39749651658864305,
            "bin_end": 0.8936144082061672,
            "count": 35
           },
           {
            "bin_start": 0.8936144082061672,
            "bin_end": 1.389732299823691,
            "count": 22
           },
           {
            "bin_start": 1.389732299823691,
            "bin_end": 1.8858501914412151,
            "count": 13
           },
           {
            "bin_start": 1.8858501914412151,
            "bin_end": 2.381968083058739,
            "count": 5
           },
           {
            "bin_start": 2.381968083058739,
            "bin_end": 2.878085974676263,
            "count": 0
           },
           {
            "bin_start": 2.878085974676263,
            "bin_end": 3.3742038662937874,
            "count": 1
           }
          ]
         }
        },
        {
         "name": "_deepnote_index_column",
         "dtype": "int64"
        }
       ],
       "rows_top": [
        {
         "week": -1.6826399535707826,
         "icreamsold": -0.49519157670454567,
         "smoothesold": -0.5884563578512896,
         "_deepnote_index_column": 0
        },
        {
         "week": -1.6826399535707826,
         "icreamsold": 0.2871709205944474,
         "smoothesold": -0.8993377004258107,
         "_deepnote_index_column": 1
        },
        {
         "week": -1.6826399535707826,
         "icreamsold": 0.8350113756854758,
         "smoothesold": 0.17081032020242415,
         "_deepnote_index_column": 2
        },
        {
         "week": -1.6826399535707826,
         "icreamsold": -0.762370746210453,
         "smoothesold": -1.2250333718383146,
         "_deepnote_index_column": 3
        },
        {
         "week": -1.616654073038595,
         "icreamsold": 1.2446707198249387,
         "smoothesold": 0.9852440734310165,
         "_deepnote_index_column": 4
        },
        {
         "week": -1.616654073038595,
         "icreamsold": -1.495860466977047,
         "smoothesold": -1.0594937292687634,
         "_deepnote_index_column": 5
        },
        {
         "week": -1.616654073038595,
         "icreamsold": -0.12989065843996297,
         "smoothesold": -0.9940600601944353,
         "_deepnote_index_column": 6
        },
        {
         "week": -1.616654073038595,
         "icreamsold": 1.4502773730236058,
         "smoothesold": 0.5846750183773772,
         "_deepnote_index_column": 7
        },
        {
         "week": -1.5506681925064074,
         "icreamsold": -0.6691778063574941,
         "smoothesold": -0.7633119613271013,
         "_deepnote_index_column": 8
        },
        {
         "week": -1.5506681925064074,
         "icreamsold": -1.2729815435306102,
         "smoothesold": -0.5790256427399055,
         "_deepnote_index_column": 9
        },
        {
         "week": -1.5506681925064074,
         "icreamsold": -0.7088318789152263,
         "smoothesold": -0.8484512626448278,
         "_deepnote_index_column": 10
        },
        {
         "week": -1.5506681925064074,
         "icreamsold": -0.20920871640193833,
         "smoothesold": -1.2250333718383146,
         "_deepnote_index_column": 11
        },
        {
         "week": -1.4846823119742198,
         "icreamsold": 1.9406156384367326,
         "smoothesold": 0.46067726300358114,
         "_deepnote_index_column": 12
        },
        {
         "week": -1.4846823119742198,
         "icreamsold": -0.38146584974486303,
         "smoothesold": 1.5030027322184782,
         "_deepnote_index_column": 13
        },
        {
         "week": -1.4846823119742198,
         "icreamsold": -1.2877730993904895,
         "smoothesold": -0.9940600601944353,
         "_deepnote_index_column": 14
        },
        {
         "week": -1.4846823119742198,
         "icreamsold": 0.7127279999455861,
         "smoothesold": 2.0324417305499307,
         "_deepnote_index_column": 15
        },
        {
         "week": -1.4186964314420323,
         "icreamsold": -0.8431640360104425,
         "smoothesold": -0.9381675648029132,
         "_deepnote_index_column": 16
        },
        {
         "week": -1.4186964314420323,
         "icreamsold": 1.4015655378266314,
         "smoothesold": -1.0594937292687634,
         "_deepnote_index_column": 17
        },
        {
         "week": -1.4186964314420323,
         "icreamsold": 1.9928938166360024,
         "smoothesold": 0.17081032020242415,
         "_deepnote_index_column": 18
        },
        {
         "week": -1.4186964314420323,
         "icreamsold": -0.5779834029409481,
         "smoothesold": 1.1275875354420848,
         "_deepnote_index_column": 19
        },
        {
         "week": -1.3527105509098447,
         "icreamsold": -0.6691778063574941,
         "smoothesold": -0.7633119613271013,
         "_deepnote_index_column": 20
        },
        {
         "week": -1.3527105509098447,
         "icreamsold": -1.7187393904234838,
         "smoothesold": -0.2587135850540003,
         "_deepnote_index_column": 21
        },
        {
         "week": -1.3527105509098447,
         "icreamsold": -0.7088318789152263,
         "smoothesold": 0.02520152265281671,
         "_deepnote_index_column": 22
        },
        {
         "week": -1.3527105509098447,
         "icreamsold": 0.15956597013707147,
         "smoothesold": 0.5846750183773772,
         "_deepnote_index_column": 23
        },
        {
         "week": -1.2867246703776571,
         "icreamsold": 0.7227120308660934,
         "smoothesold": 0.46067726300358114,
         "_deepnote_index_column": 24
        },
        {
         "week": -1.2867246703776571,
         "icreamsold": -1.9416183138699206,
         "smoothesold": -1.0594937292687634,
         "_deepnote_index_column": 25
        },
        {
         "week": -1.2867246703776571,
         "icreamsold": 0.25607015521021254,
         "smoothesold": -1.2852776552936502,
         "_deepnote_index_column": 26
        },
        {
         "week": -1.2867246703776571,
         "icreamsold": -1.3155327760189677,
         "smoothesold": -0.32017917673046875,
         "_deepnote_index_column": 27
        },
        {
         "week": -1.2207387898454696,
         "icreamsold": -0.6691778063574941,
         "smoothesold": -0.5884563578512896,
         "_deepnote_index_column": 28
        },
        {
         "week": -1.2207387898454696,
         "icreamsold": 0.9558076909337577,
         "smoothesold": 0.2217545014748575,
         "_deepnote_index_column": 29
        },
        {
         "week": -1.2207387898454696,
         "icreamsold": 0.25607015521021254,
         "smoothesold": 0.3164191177520316,
         "_deepnote_index_column": 30
        },
        {
         "week": -1.2207387898454696,
         "icreamsold": 1.265890029754101,
         "smoothesold": 0.7656458573989464,
         "_deepnote_index_column": 31
        },
        {
         "week": -1.154752909313282,
         "icreamsold": -1.1911364953163395,
         "smoothesold": 2.209233297761699,
         "_deepnote_index_column": 32
        },
        {
         "week": -1.154752909313282,
         "icreamsold": -1.0501026200841734,
         "smoothesold": -1.2196497581117158,
         "_deepnote_index_column": 33
        },
        {
         "week": -1.154752909313282,
         "icreamsold": 0.642030968860388,
         "smoothesold": -1.1396688577440428,
         "_deepnote_index_column": 34
        },
        {
         "week": -1.154752909313282,
         "icreamsold": 0.34395331340657637,
         "smoothesold": -1.4060042108598838,
         "_deepnote_index_column": 35
        },
        {
         "week": -1.0887670287810944,
         "icreamsold": -0.3212053470515972,
         "smoothesold": -1.1130231682787248,
         "_deepnote_index_column": 36
        },
        {
         "week": -1.0887670287810944,
         "icreamsold": 0.06429199714801058,
         "smoothesold": -0.8993377004258107,
         "_deepnote_index_column": 37
        },
        {
         "week": -1.0887670287810944,
         "icreamsold": 1.9928938166360024,
         "smoothesold": -0.7028424650952204,
         "_deepnote_index_column": 38
        },
        {
         "week": -1.0887670287810944,
         "icreamsold": -1.1311454327494628,
         "smoothesold": -0.32017917673046875,
         "_deepnote_index_column": 39
        },
        {
         "week": -1.022781148248907,
         "icreamsold": 0.7227120308660934,
         "smoothesold": 0.11096605605195756,
         "_deepnote_index_column": 40
        },
        {
         "week": -1.022781148248907,
         "icreamsold": 0.9558076909337577,
         "smoothesold": 0.5420665591607627,
         "_deepnote_index_column": 41
        },
        {
         "week": -1.022781148248907,
         "icreamsold": 0.25607015521021254,
         "smoothesold": 0.462027915301639,
         "_deepnote_index_column": 42
        },
        {
         "week": -1.022781148248907,
         "icreamsold": -0.9467580894799579,
         "smoothesold": -0.8630916937951764,
         "_deepnote_index_column": 43
        },
        {
         "week": -0.9567952677167194,
         "icreamsold": -0.49519157670454567,
         "smoothesold": -0.5884563578512896,
         "_deepnote_index_column": 44
        },
        {
         "week": -0.9567952677167194,
         "icreamsold": 0.5100498440408842,
         "smoothesold": 0.2217545014748575,
         "_deepnote_index_column": 45
        },
        {
         "week": -0.9567952677167194,
         "icreamsold": 0.4490505620353003,
         "smoothesold": -0.12040727489679072,
         "_deepnote_index_column": 46
        },
        {
         "week": -0.9567952677167194,
         "icreamsold": 0.34395331340657637,
         "smoothesold": -0.5011500157520379,
         "_deepnote_index_column": 47
        },
        {
         "week": -0.8908093871845318,
         "icreamsold": -1.3651227249692879,
         "smoothesold": -1.2878787717545368,
         "_deepnote_index_column": 48
        },
        {
         "week": -0.8908093871845318,
         "icreamsold": 0.2871709205944474,
         "smoothesold": 0.2217545014748575,
         "_deepnote_index_column": 49
        },
        {
         "week": -0.8908093871845318,
         "icreamsold": -0.7088318789152263,
         "smoothesold": -0.9940600601944353,
         "_deepnote_index_column": 50
        },
        {
         "week": -0.8908093871845318,
         "icreamsold": 0.5283406566760812,
         "smoothesold": 0.5846750183773772,
         "_deepnote_index_column": 51
        },
        {
         "week": -0.8248235066523444,
         "icreamsold": -0.8431640360104425,
         "smoothesold": -1.2878787717545368,
         "_deepnote_index_column": 52
        },
        {
         "week": -0.8248235066523444,
         "icreamsold": 0.06429199714801058,
         "smoothesold": 1.9834708187473362,
         "_deepnote_index_column": 53
        },
        {
         "week": -0.8248235066523444,
         "icreamsold": -0.7088318789152263,
         "smoothesold": 0.17081032020242415,
         "_deepnote_index_column": 54
        },
        {
         "week": -0.8248235066523444,
         "icreamsold": -0.024821373132433426,
         "smoothesold": -1.4060042108598838,
         "_deepnote_index_column": 55
        },
        {
         "week": -0.7588376261201568,
         "icreamsold": 1.9406156384367326,
         "smoothesold": 0.6355328664793929,
         "_deepnote_index_column": 56
        },
        {
         "week": -0.7588376261201568,
         "icreamsold": 0.9558076909337577,
         "smoothesold": -0.8993377004258107,
         "_deepnote_index_column": 57
        },
        {
         "week": -0.7588376261201568,
         "icreamsold": -1.2877730993904895,
         "smoothesold": -0.9940600601944353,
         "_deepnote_index_column": 58
        },
        {
         "week": -0.7588376261201568,
         "icreamsold": 0.34395331340657637,
         "smoothesold": 0.22273334033423886,
         "_deepnote_index_column": 59
        },
        {
         "week": -0.6928517455879692,
         "icreamsold": -1.1911364953163395,
         "smoothesold": -0.06388954742385423,
         "_deepnote_index_column": 60
        },
        {
         "week": -0.6928517455879692,
         "icreamsold": -0.15858692629842622,
         "smoothesold": -0.4188696138969529,
         "_deepnote_index_column": 61
        },
        {
         "week": -0.6928517455879692,
         "icreamsold": 1.7999134098109146,
         "smoothesold": -1.1396688577440428,
         "_deepnote_index_column": 62
        },
        {
         "week": -0.6928517455879692,
         "icreamsold": 1.4502773730236058,
         "smoothesold": 0.22273334033423886,
         "_deepnote_index_column": 63
        },
        {
         "week": -0.6268658650557817,
         "icreamsold": -0.6691778063574941,
         "smoothesold": -1.1130231682787248,
         "_deepnote_index_column": 64
        },
        {
         "week": -0.6268658650557817,
         "icreamsold": 0.5100498440408842,
         "smoothesold": 0.5420665591607627,
         "_deepnote_index_column": 65
        },
        {
         "week": -0.6268658650557817,
         "icreamsold": -1.0947926925654017,
         "smoothesold": -1.1396688577440428,
         "_deepnote_index_column": 66
        },
        {
         "week": -0.6268658650557817,
         "icreamsold": 0.15956597013707147,
         "smoothesold": 2.2134125695715,
         "_deepnote_index_column": 67
        },
        {
         "week": -0.5608799845235941,
         "icreamsold": -1.3651227249692879,
         "smoothesold": 0.28582165952776933,
         "_deepnote_index_column": 68
        },
        {
         "week": -0.5608799845235941,
         "icreamsold": 1.4015655378266314,
         "smoothesold": -1.2196497581117158,
         "_deepnote_index_column": 69
        },
        {
         "week": -0.5608799845235941,
         "icreamsold": 1.2209721893356513,
         "smoothesold": 0.462027915301639,
         "_deepnote_index_column": 70
        },
        {
         "week": -0.5608799845235941,
         "icreamsold": -1.3155327760189677,
         "smoothesold": -1.0440625328167454,
         "_deepnote_index_column": 71
        },
        {
         "week": -0.4948941039914066,
         "icreamsold": -1.1911364953163395,
         "smoothesold": -0.7633119613271013,
         "_deepnote_index_column": 72
        },
        {
         "week": -0.4948941039914066,
         "icreamsold": 0.9558076909337577,
         "smoothesold": 0.38191053031781014,
         "_deepnote_index_column": 73
        },
        {
         "week": -0.4948941039914066,
         "icreamsold": 1.6069330029858269,
         "smoothesold": 0.6076367128512464,
         "_deepnote_index_column": 74
        },
        {
         "week": -0.4948941039914066,
         "icreamsold": 1.4502773730236058,
         "smoothesold": -0.6821208547736072,
         "_deepnote_index_column": 75
        },
        {
         "week": -0.4289082234592191,
         "icreamsold": 0.37473957156019655,
         "smoothesold": 0.11096605605195756,
         "_deepnote_index_column": 76
        },
        {
         "week": -0.4289082234592191,
         "icreamsold": -0.15858692629842622,
         "smoothesold": -0.8993377004258107,
         "_deepnote_index_column": 77
        },
        {
         "week": -0.4289082234592191,
         "icreamsold": 0.25607015521021254,
         "smoothesold": -0.557233667545613,
         "_deepnote_index_column": 78
        },
        {
         "week": -0.4289082234592191,
         "icreamsold": -0.39359605967144323,
         "smoothesold": 1.6705000525067923,
         "_deepnote_index_column": 79
        },
        {
         "week": -0.3629223429270315,
         "icreamsold": -0.49519157670454567,
         "smoothesold": 0.11096605605195756,
         "_deepnote_index_column": 80
        },
        {
         "week": -0.3629223429270315,
         "icreamsold": 0.9558076909337577,
         "smoothesold": 1.3428467033755258,
         "_deepnote_index_column": 81
        },
        {
         "week": -0.3629223429270315,
         "icreamsold": -1.2877730993904895,
         "smoothesold": -0.9940600601944353,
         "_deepnote_index_column": 82
        },
        {
         "week": -0.3629223429270315,
         "icreamsold": 0.15956597013707147,
         "smoothesold": 0.04176250131266967,
         "_deepnote_index_column": 83
        },
        {
         "week": -0.29693646239484395,
         "icreamsold": -1.017150265663391,
         "smoothesold": 0.46067726300358114,
         "_deepnote_index_column": 84
        },
        {
         "week": -0.29693646239484395,
         "icreamsold": 0.9558076909337577,
         "smoothesold": 0.7022225880037153,
         "_deepnote_index_column": 85
        },
        {
         "week": -0.29693646239484395,
         "icreamsold": 1.0279917825105636,
         "smoothesold": 1.3356807005992837,
         "_deepnote_index_column": 86
        },
        {
         "week": -0.29693646239484395,
         "icreamsold": -0.762370746210453,
         "smoothesold": -1.0440625328167454,
         "_deepnote_index_column": 87
        },
        {
         "week": -0.2309505818626564,
         "icreamsold": 1.0706844901719903,
         "smoothesold": 1.8595220908100754,
         "_deepnote_index_column": 88
        },
        {
         "week": -0.2309505818626564,
         "icreamsold": -0.38146584974486303,
         "smoothesold": 0.862378616846668,
         "_deepnote_index_column": 89
        },
        {
         "week": -0.2309505818626564,
         "icreamsold": 0.4490505620353003,
         "smoothesold": 0.7532455104008539,
         "_deepnote_index_column": 90
        },
        {
         "week": -0.2309505818626564,
         "icreamsold": -0.9467580894799579,
         "smoothesold": -1.2250333718383146,
         "_deepnote_index_column": 91
        },
        {
         "week": -0.16496470133046887,
         "icreamsold": 1.766629408783784,
         "smoothesold": 1.6846664873342636,
         "_deepnote_index_column": 92
        },
        {
         "week": -0.16496470133046887,
         "icreamsold": -1.2729815435306102,
         "smoothesold": -0.2587135850540003,
         "_deepnote_index_column": 93
        },
        {
         "week": -0.16496470133046887,
         "icreamsold": 0.25607015521021254,
         "smoothesold": 0.8988543079504613,
         "_deepnote_index_column": 94
        },
        {
         "week": -0.16496470133046887,
         "icreamsold": -1.4999201192884726,
         "smoothesold": 0.04176250131266967,
         "_deepnote_index_column": 95
        },
        {
         "week": -0.09897882079828133,
         "icreamsold": 0.7227120308660934,
         "smoothesold": 0.6355328664793929,
         "_deepnote_index_column": 96
        },
        {
         "week": -0.09897882079828133,
         "icreamsold": 0.5100498440408842,
         "smoothesold": 0.5420665591607627,
         "_deepnote_index_column": 97
        },
        {
         "week": -0.09897882079828133,
         "icreamsold": -1.2877730993904895,
         "smoothesold": -0.7028424650952204,
         "_deepnote_index_column": 98
        },
        {
         "week": -0.09897882079828133,
         "icreamsold": -1.6843074625579775,
         "smoothesold": -0.6821208547736072,
         "_deepnote_index_column": 99
        },
        {
         "week": -0.03299294026609377,
         "icreamsold": 0.37473957156019655,
         "smoothesold": -0.9381675648029132,
         "_deepnote_index_column": 100
        },
        {
         "week": -0.03299294026609377,
         "icreamsold": -2.833134007655668,
         "smoothesold": -1.0594937292687634,
         "_deepnote_index_column": 101
        },
        {
         "week": -0.03299294026609377,
         "icreamsold": -1.2877730993904895,
         "smoothesold": 1.3356807005992837,
         "_deepnote_index_column": 102
        },
        {
         "week": -0.03299294026609377,
         "icreamsold": -0.024821373132433426,
         "smoothesold": 1.308558374463654,
         "_deepnote_index_column": 103
        },
        {
         "week": 0.03299294026609377,
         "icreamsold": 0.026767112254299664,
         "smoothesold": 1.6846664873342636,
         "_deepnote_index_column": 104
        },
        {
         "week": 0.03299294026609377,
         "icreamsold": -1.7187393904234838,
         "smoothesold": 0.38191053031781014,
         "_deepnote_index_column": 105
        },
        {
         "week": 0.03299294026609377,
         "icreamsold": 1.2209721893356513,
         "smoothesold": -0.557233667545613,
         "_deepnote_index_column": 106
        },
        {
         "week": 0.03299294026609377,
         "icreamsold": -0.9467580894799579,
         "smoothesold": 0.04176250131266967,
         "_deepnote_index_column": 107
        },
        {
         "week": 0.09897882079828133,
         "icreamsold": -0.8431640360104425,
         "smoothesold": -0.06388954742385423,
         "_deepnote_index_column": 108
        },
        {
         "week": 0.09897882079828133,
         "icreamsold": -0.38146584974486303,
         "smoothesold": -0.7391816715828581,
         "_deepnote_index_column": 109
        },
        {
         "week": 0.09897882079828133,
         "icreamsold": 0.0630897483851248,
         "smoothesold": 0.3164191177520316,
         "_deepnote_index_column": 110
        },
        {
         "week": 0.09897882079828133,
         "icreamsold": 0.5283406566760812,
         "smoothesold": 0.40370417935580805,
         "_deepnote_index_column": 111
        },
        {
         "week": 0.16496470133046887,
         "icreamsold": 1.0706844901719903,
         "smoothesold": -0.7633119613271013,
         "_deepnote_index_column": 112
        },
        {
         "week": 0.16496470133046887,
         "icreamsold": 0.9558076909337577,
         "smoothesold": 1.3428467033755258,
         "_deepnote_index_column": 113
        },
        {
         "week": 0.16496470133046887,
         "icreamsold": -0.3228710652650507,
         "smoothesold": 1.1900719030496762,
         "_deepnote_index_column": 114
        },
        {
         "week": 0.16496470133046887,
         "icreamsold": -1.1311454327494628,
         "smoothesold": -0.32017917673046875,
         "_deepnote_index_column": 115
        },
        {
         "week": 0.2309505818626564,
         "icreamsold": 1.4186569494778871,
         "smoothesold": 2.034377694285887,
         "_deepnote_index_column": 116
        },
        {
         "week": 0.2309505818626564,
         "icreamsold": 0.7329287674873209,
         "smoothesold": -1.2196497581117158,
         "_deepnote_index_column": 117
        },
        {
         "week": 0.2309505818626564,
         "icreamsold": -0.12989065843996297,
         "smoothesold": 1.0444631055000688,
         "_deepnote_index_column": 118
        },
        {
         "week": 0.2309505818626564,
         "icreamsold": 1.8190520595626156,
         "smoothesold": -1.2250333718383146,
         "_deepnote_index_column": 119
        },
        {
         "week": 0.29693646239484395,
         "icreamsold": -1.3651227249692879,
         "smoothesold": 0.8103884699552046,
         "_deepnote_index_column": 120
        },
        {
         "week": 0.29693646239484395,
         "icreamsold": 0.5100498440408842,
         "smoothesold": -1.0594937292687634,
         "_deepnote_index_column": 121
        },
        {
         "week": 0.29693646239484395,
         "icreamsold": -1.0947926925654017,
         "smoothesold": 1.1900719030496762,
         "_deepnote_index_column": 122
        },
        {
         "week": 0.29693646239484395,
         "icreamsold": 0.5283406566760812,
         "smoothesold": 0.04176250131266967,
         "_deepnote_index_column": 123
        },
        {
         "week": 0.3629223429270315,
         "icreamsold": -1.1911364953163395,
         "smoothesold": -0.7633119613271013,
         "_deepnote_index_column": 124
        },
        {
         "week": 0.3629223429270315,
         "icreamsold": 0.7329287674873209,
         "smoothesold": 0.38191053031781014,
         "_deepnote_index_column": 125
        },
        {
         "week": 0.3629223429270315,
         "icreamsold": 0.25607015521021254,
         "smoothesold": 0.462027915301639,
         "_deepnote_index_column": 126
        },
        {
         "week": 0.3629223429270315,
         "icreamsold": -1.1311454327494628,
         "smoothesold": 1.308558374463654,
         "_deepnote_index_column": 127
        },
        {
         "week": 0.4289082234592191,
         "icreamsold": 0.37473957156019655,
         "smoothesold": -0.06388954742385423,
         "_deepnote_index_column": 128
        },
        {
         "week": 0.4289082234592191,
         "icreamsold": -0.38146584974486303,
         "smoothesold": 1.0225346456896205,
         "_deepnote_index_column": 129
        },
        {
         "week": 0.4289082234592191,
         "icreamsold": 1.6069330029858269,
         "smoothesold": 1.481289498148891,
         "_deepnote_index_column": 130
        },
        {
         "week": 0.4289082234592191,
         "icreamsold": -0.39359605967144323,
         "smoothesold": 0.7656458573989464,
         "_deepnote_index_column": 131
        },
        {
         "week": 0.4948941039914066,
         "icreamsold": 1.0706844901719903,
         "smoothesold": 1.6846664873342636,
         "_deepnote_index_column": 132
        },
        {
         "week": 0.4948941039914066,
         "icreamsold": 1.1786866143801946,
         "smoothesold": -0.8993377004258107,
         "_deepnote_index_column": 133
        },
        {
         "week": 0.4948941039914066,
         "icreamsold": -0.7088318789152263,
         "smoothesold": 1.481289498148891,
         "_deepnote_index_column": 134
        },
        {
         "week": 0.4948941039914066,
         "icreamsold": -0.5779834029409481,
         "smoothesold": 0.9466166964205156,
         "_deepnote_index_column": 135
        },
        {
         "week": 0.5608799845235941,
         "icreamsold": 1.5926431791308355,
         "smoothesold": 0.9852440734310165,
         "_deepnote_index_column": 136
        },
        {
         "week": 0.5608799845235941,
         "icreamsold": -0.15858692629842622,
         "smoothesold": -1.0594937292687634,
         "_deepnote_index_column": 137
        },
        {
         "week": 0.5608799845235941,
         "icreamsold": 0.25607015521021254,
         "smoothesold": 1.3356807005992837,
         "_deepnote_index_column": 138
        },
        {
         "week": 0.5608799845235941,
         "icreamsold": -0.9467580894799579,
         "smoothesold": 0.40370417935580805,
         "_deepnote_index_column": 139
        },
        {
         "week": 0.6268658650557817,
         "icreamsold": 1.0706844901719903,
         "smoothesold": 0.6355328664793929,
         "_deepnote_index_column": 140
        },
        {
         "week": 0.6268658650557817,
         "icreamsold": 0.7329287674873209,
         "smoothesold": 1.8233147899043836,
         "_deepnote_index_column": 141
        },
        {
         "week": 0.6268658650557817,
         "icreamsold": -0.7088318789152263,
         "smoothesold": 0.17081032020242415,
         "_deepnote_index_column": 142
        },
        {
         "week": 0.6268658650557817,
         "icreamsold": 1.4502773730236058,
         "smoothesold": 0.04176250131266967,
         "_deepnote_index_column": 143
        },
        {
         "week": 0.6928517455879692,
         "icreamsold": -0.49519157670454567,
         "smoothesold": -1.2878787717545368,
         "_deepnote_index_column": 144
        },
        {
         "week": 0.6928517455879692,
         "icreamsold": -0.38146584974486303,
         "smoothesold": 1.5030027322184782,
         "_deepnote_index_column": 145
        },
        {
         "week": 0.6928517455879692,
         "icreamsold": -1.0947926925654017,
         "smoothesold": -1.1396688577440428,
         "_deepnote_index_column": 146
        },
        {
         "week": 0.6928517455879692,
         "icreamsold": 1.081502686484596,
         "smoothesold": -1.2250333718383146,
         "_deepnote_index_column": 147
        },
        {
         "week": 0.7588376261201568,
         "icreamsold": -1.3651227249692879,
         "smoothesold": -1.2878787717545368,
         "_deepnote_index_column": 148
        },
        {
         "week": 0.7588376261201568,
         "icreamsold": -0.6043447731912998,
         "smoothesold": 0.5420665591607627,
         "_deepnote_index_column": 149
        },
        {
         "week": 0.7588376261201568,
         "icreamsold": 0.4490505620353003,
         "smoothesold": -0.9940600601944353,
         "_deepnote_index_column": 150
        },
        {
         "week": 0.7588376261201568,
         "icreamsold": -0.39359605967144323,
         "smoothesold": -1.2250333718383146,
         "_deepnote_index_column": 151
        },
        {
         "week": 0.8248235066523444,
         "icreamsold": 1.0706844901719903,
         "smoothesold": -1.1130231682787248,
         "_deepnote_index_column": 152
        },
        {
         "week": 0.8248235066523444,
         "icreamsold": -0.38146584974486303,
         "smoothesold": -0.8993377004258107,
         "_deepnote_index_column": 153
        },
        {
         "week": 0.8248235066523444,
         "icreamsold": -0.901812285740314,
         "smoothesold": -0.8484512626448278,
         "_deepnote_index_column": 154
        },
        {
         "week": 0.8248235066523444,
         "icreamsold": 0.897115343215091,
         "smoothesold": -1.0440625328167454,
         "_deepnote_index_column": 155
        },
        {
         "week": 0.8908093871845318,
         "icreamsold": -1.1911364953163395,
         "smoothesold": 0.28582165952776933,
         "_deepnote_index_column": 156
        },
        {
         "week": 0.8908093871845318,
         "icreamsold": 1.4015655378266314,
         "smoothesold": 0.2217545014748575,
         "_deepnote_index_column": 157
        },
        {
         "week": 0.8908093871845318,
         "icreamsold": -1.0947926925654017,
         "smoothesold": 0.8988543079504613,
         "_deepnote_index_column": 158
        },
        {
         "week": 0.8908093871845318,
         "icreamsold": 0.15956597013707147,
         "smoothesold": 0.40370417935580805,
         "_deepnote_index_column": 159
        },
        {
         "week": 0.9567952677167194,
         "icreamsold": -0.8431640360104425,
         "smoothesold": -1.2878787717545368,
         "_deepnote_index_column": 160
        },
        {
         "week": 0.9567952677167194,
         "icreamsold": -0.15858692629842622,
         "smoothesold": -1.0594937292687634,
         "_deepnote_index_column": 161
        },
        {
         "week": 0.9567952677167194,
         "icreamsold": 1.2209721893356513,
         "smoothesold": -0.557233667545613,
         "_deepnote_index_column": 162
        },
        {
         "week": 0.9567952677167194,
         "icreamsold": -0.39359605967144323,
         "smoothesold": 0.22273334033423886,
         "_deepnote_index_column": 163
        },
        {
         "week": 1.022781148248907,
         "icreamsold": 0.548725801213145,
         "smoothesold": 0.6355328664793929,
         "_deepnote_index_column": 164
        },
        {
         "week": 1.022781148248907,
         "icreamsold": 0.7329287674873209,
         "smoothesold": 0.5420665591607627,
         "_deepnote_index_column": 165
        },
        {
         "week": 1.022781148248907,
         "icreamsold": -0.5158514720901385,
         "smoothesold": 3.3742038662937874,
         "_deepnote_index_column": 166
        },
        {
         "week": 1.022781148248907,
         "icreamsold": -1.4999201192884726,
         "smoothesold": 0.22273334033423886,
         "_deepnote_index_column": 167
        },
        {
         "week": 1.0887670287810944,
         "icreamsold": -0.8431640360104425,
         "smoothesold": -1.1130231682787248,
         "_deepnote_index_column": 168
        },
        {
         "week": 1.0887670287810944,
         "icreamsold": 0.7329287674873209,
         "smoothesold": -1.2196497581117158,
         "_deepnote_index_column": 169
        },
        {
         "week": 1.0887670287810944,
         "icreamsold": 1.2209721893356513,
         "smoothesold": -1.1396688577440428,
         "_deepnote_index_column": 170
        },
        {
         "week": 1.0887670287810944,
         "icreamsold": -0.762370746210453,
         "smoothesold": -1.2250333718383146,
         "_deepnote_index_column": 171
        },
        {
         "week": 1.154752909313282,
         "icreamsold": -0.3212053470515972,
         "smoothesold": 0.28582165952776933,
         "_deepnote_index_column": 172
        },
        {
         "week": 1.154752909313282,
         "icreamsold": 1.4015655378266314,
         "smoothesold": 1.0225346456896205,
         "_deepnote_index_column": 173
        },
        {
         "week": 1.154752909313282,
         "icreamsold": -1.0947926925654017,
         "smoothesold": 0.17081032020242415,
         "_deepnote_index_column": 174
        },
        {
         "week": 1.154752909313282,
         "icreamsold": 0.34395331340657637,
         "smoothesold": 1.1275875354420848,
         "_deepnote_index_column": 175
        },
        {
         "week": 1.2207387898454696,
         "icreamsold": 0.2007533419072481,
         "smoothesold": 0.6355328664793929,
         "_deepnote_index_column": 176
        },
        {
         "week": 1.2207387898454696,
         "icreamsold": -0.15858692629842622,
         "smoothesold": 1.3428467033755258,
         "_deepnote_index_column": 177
        },
        {
         "week": 1.2207387898454696,
         "icreamsold": 1.413952596160739,
         "smoothesold": 0.17081032020242415,
         "_deepnote_index_column": 178
        },
        {
         "week": 1.2207387898454696,
         "icreamsold": -0.762370746210453,
         "smoothesold": 0.5846750183773772,
         "_deepnote_index_column": 179
        },
        {
         "week": 1.2867246703776571,
         "icreamsold": 0.7227120308660934,
         "smoothesold": 0.8103884699552046,
         "_deepnote_index_column": 180
        },
        {
         "week": 1.2867246703776571,
         "icreamsold": 0.9558076909337577,
         "smoothesold": 0.38191053031781014,
         "_deepnote_index_column": 181
        },
        {
         "week": 1.2867246703776571,
         "icreamsold": -0.901812285740314,
         "smoothesold": -1.1396688577440428,
         "_deepnote_index_column": 182
        },
        {
         "week": 1.2867246703776571,
         "icreamsold": 1.6346647162931107,
         "smoothesold": 0.5846750183773772,
         "_deepnote_index_column": 183
        },
        {
         "week": 1.3527105509098447,
         "icreamsold": 0.8966982605190419,
         "smoothesold": -1.1130231682787248,
         "_deepnote_index_column": 184
        },
        {
         "week": 1.3527105509098447,
         "icreamsold": 0.06429199714801058,
         "smoothesold": -1.2196497581117158,
         "_deepnote_index_column": 185
        },
        {
         "week": 1.3527105509098447,
         "icreamsold": -1.0947926925654017,
         "smoothesold": -1.1396688577440428,
         "_deepnote_index_column": 186
        },
        {
         "week": 1.3527105509098447,
         "icreamsold": 1.4502773730236058,
         "smoothesold": -1.5869750498814532,
         "_deepnote_index_column": 187
        },
        {
         "week": 1.4186964314420323,
         "icreamsold": -0.3212053470515972,
         "smoothesold": 1.1600996769068284,
         "_deepnote_index_column": 188
        },
        {
         "week": 1.4186964314420323,
         "icreamsold": 0.2871709205944474,
         "smoothesold": 0.2217545014748575,
         "_deepnote_index_column": 189
        },
        {
         "week": 1.4186964314420323,
         "icreamsold": -0.7088318789152263,
         "smoothesold": 0.3164191177520316,
         "_deepnote_index_column": 190
        },
        {
         "week": 1.4186964314420323,
         "icreamsold": 0.5283406566760812,
         "smoothesold": 0.5846750183773772,
         "_deepnote_index_column": 191
        },
        {
         "week": 1.4846823119742198,
         "icreamsold": 1.4186569494778871,
         "smoothesold": 0.28582165952776933,
         "_deepnote_index_column": 192
        },
        {
         "week": 1.4846823119742198,
         "icreamsold": -1.495860466977047,
         "smoothesold": -0.5790256427399055,
         "_deepnote_index_column": 193
        },
        {
         "week": 1.4846823119742198,
         "icreamsold": 0.25607015521021254,
         "smoothesold": 0.6076367128512464,
         "_deepnote_index_column": 194
        },
        {
         "week": 1.4846823119742198,
         "icreamsold": -0.39359605967144323,
         "smoothesold": 1.6705000525067923,
         "_deepnote_index_column": 195
        },
        {
         "week": 1.5506681925064074,
         "icreamsold": -0.6691778063574941,
         "smoothesold": -0.9381675648029132,
         "_deepnote_index_column": 196
        },
        {
         "week": 1.5506681925064074,
         "icreamsold": -1.0501026200841734,
         "smoothesold": 1.663158761061431,
         "_deepnote_index_column": 197
        },
        {
         "week": 1.5506681925064074,
         "icreamsold": 0.0630897483851248,
         "smoothesold": 0.7532455104008539,
         "_deepnote_index_column": 198
        },
        {
         "week": 1.5506681925064074,
         "icreamsold": -1.1311454327494628,
         "smoothesold": 0.9466166964205156,
         "_deepnote_index_column": 199
        },
        {
         "week": 1.616654073038595,
         "icreamsold": 0.37473957156019655,
         "smoothesold": -1.1130231682787248,
         "_deepnote_index_column": 200
        },
        {
         "week": 1.616654073038595,
         "icreamsold": -0.6043447731912998,
         "smoothesold": 1.5030027322184782,
         "_deepnote_index_column": 201
        },
        {
         "week": 1.616654073038595,
         "icreamsold": 0.8350113756854758,
         "smoothesold": -0.557233667545613,
         "_deepnote_index_column": 202
        },
        {
         "week": 1.616654073038595,
         "icreamsold": 1.8190520595626156,
         "smoothesold": -0.5011500157520379,
         "_deepnote_index_column": 203
        },
        {
         "week": 1.6826399535707826,
         "icreamsold": 0.2007533419072481,
         "smoothesold": -0.23874515089966603,
         "_deepnote_index_column": 204
        },
        {
         "week": 1.6826399535707826,
         "icreamsold": -1.0501026200841734,
         "smoothesold": -1.2196497581117158,
         "_deepnote_index_column": 205
        },
        {
         "week": 1.6826399535707826,
         "icreamsold": -1.2877730993904895,
         "smoothesold": -0.9940600601944353,
         "_deepnote_index_column": 206
        },
        {
         "week": 1.6826399535707826,
         "icreamsold": 1.4502773730236058,
         "smoothesold": -1.4060042108598838,
         "_deepnote_index_column": 207
        }
       ],
       "rows_bottom": null
      },
      "text/plain": "         week  icreamsold  smoothesold\n0   -1.682640   -0.495192    -0.588456\n1   -1.682640    0.287171    -0.899338\n2   -1.682640    0.835011     0.170810\n3   -1.682640   -0.762371    -1.225033\n4   -1.616654    1.244671     0.985244\n..        ...         ...          ...\n203  1.616654    1.819052    -0.501150\n204  1.682640    0.200753    -0.238745\n205  1.682640   -1.050103    -1.219650\n206  1.682640   -1.287773    -0.994060\n207  1.682640    1.450277    -1.406004\n\n[208 rows x 3 columns]",
      "text/html": "<div>\n<style scoped>\n    .dataframe tbody tr th:only-of-type {\n        vertical-align: middle;\n    }\n\n    .dataframe tbody tr th {\n        vertical-align: top;\n    }\n\n    .dataframe thead th {\n        text-align: right;\n    }\n</style>\n<table border=\"1\" class=\"dataframe\">\n  <thead>\n    <tr style=\"text-align: right;\">\n      <th></th>\n      <th>week</th>\n      <th>icreamsold</th>\n      <th>smoothesold</th>\n    </tr>\n  </thead>\n  <tbody>\n    <tr>\n      <th>0</th>\n      <td>-1.682640</td>\n      <td>-0.495192</td>\n      <td>-0.588456</td>\n    </tr>\n    <tr>\n      <th>1</th>\n      <td>-1.682640</td>\n      <td>0.287171</td>\n      <td>-0.899338</td>\n    </tr>\n    <tr>\n      <th>2</th>\n      <td>-1.682640</td>\n      <td>0.835011</td>\n      <td>0.170810</td>\n    </tr>\n    <tr>\n      <th>3</th>\n      <td>-1.682640</td>\n      <td>-0.762371</td>\n      <td>-1.225033</td>\n    </tr>\n    <tr>\n      <th>4</th>\n      <td>-1.616654</td>\n      <td>1.244671</td>\n      <td>0.985244</td>\n    </tr>\n    <tr>\n      <th>...</th>\n      <td>...</td>\n      <td>...</td>\n      <td>...</td>\n    </tr>\n    <tr>\n      <th>203</th>\n      <td>1.616654</td>\n      <td>1.819052</td>\n      <td>-0.501150</td>\n    </tr>\n    <tr>\n      <th>204</th>\n      <td>1.682640</td>\n      <td>0.200753</td>\n      <td>-0.238745</td>\n    </tr>\n    <tr>\n      <th>205</th>\n      <td>1.682640</td>\n      <td>-1.050103</td>\n      <td>-1.219650</td>\n    </tr>\n    <tr>\n      <th>206</th>\n      <td>1.682640</td>\n      <td>-1.287773</td>\n      <td>-0.994060</td>\n    </tr>\n    <tr>\n      <th>207</th>\n      <td>1.682640</td>\n      <td>1.450277</td>\n      <td>-1.406004</td>\n    </tr>\n  </tbody>\n</table>\n<p>208 rows × 3 columns</p>\n</div>"
     },
     "metadata": {}
    }
   ]
  },
  {
   "cell_type": "markdown",
   "source": "### Filtration",
   "metadata": {
    "tags": [],
    "is_collapsed": false,
    "cell_id": "00057-59db3a44-298b-4bae-97a4-ea4e477b3754",
    "deepnote_cell_type": "text-cell-h3"
   }
  },
  {
   "cell_type": "markdown",
   "source": "Filtration is the process in which we usually discard some groups, according to a group-wise computation that evaluates True or False. For example, discarding data that belongs to groups with only a few members and filtering out data based on the group sum or mean. ",
   "metadata": {
    "tags": [],
    "is_collapsed": false,
    "cell_id": "00059-5d2eb37d-d0d9-4ccc-93a0-24da8c364542",
    "deepnote_cell_type": "text-cell-p"
   }
  },
  {
   "cell_type": "code",
   "metadata": {
    "tags": [],
    "cell_id": "00060-67f0e2f6-f33e-4ea0-bcf0-a540fc60bf6d",
    "deepnote_to_be_reexecuted": false,
    "source_hash": "e19973c3",
    "execution_start": 1637404190457,
    "execution_millis": 19,
    "deepnote_cell_type": "code"
   },
   "source": "#filter data\nflavors_grp=flavors.groupby(['Flavor'])\nflavors_grp.filter(lambda x: (x['Flavor']=='chocolate').any())",
   "execution_count": 19,
   "outputs": [
    {
     "output_type": "execute_result",
     "execution_count": 19,
     "data": {
      "application/vnd.deepnote.dataframe.v2+json": {
       "row_count": 52,
       "column_count": 4,
       "columns": [
        {
         "name": "week",
         "dtype": "int64",
         "stats": {
          "unique_count": 52,
          "nan_count": 0,
          "min": "1",
          "max": "52",
          "histogram": [
           {
            "bin_start": 1,
            "bin_end": 6.1,
            "count": 6
           },
           {
            "bin_start": 6.1,
            "bin_end": 11.2,
            "count": 5
           },
           {
            "bin_start": 11.2,
            "bin_end": 16.299999999999997,
            "count": 5
           },
           {
            "bin_start": 16.299999999999997,
            "bin_end": 21.4,
            "count": 5
           },
           {
            "bin_start": 21.4,
            "bin_end": 26.5,
            "count": 5
           },
           {
            "bin_start": 26.5,
            "bin_end": 31.599999999999998,
            "count": 5
           },
           {
            "bin_start": 31.599999999999998,
            "bin_end": 36.699999999999996,
            "count": 5
           },
           {
            "bin_start": 36.699999999999996,
            "bin_end": 41.8,
            "count": 5
           },
           {
            "bin_start": 41.8,
            "bin_end": 46.9,
            "count": 5
           },
           {
            "bin_start": 46.9,
            "bin_end": 52,
            "count": 6
           }
          ]
         }
        },
        {
         "name": "Flavor",
         "dtype": "object",
         "stats": {
          "unique_count": 1,
          "nan_count": 0,
          "categories": [
           {
            "name": "chocolate",
            "count": 52
           }
          ]
         }
        },
        {
         "name": "icreamsold",
         "dtype": "int64",
         "stats": {
          "unique_count": 19,
          "nan_count": 0,
          "min": "1",
          "max": "20",
          "histogram": [
           {
            "bin_start": 1,
            "bin_end": 2.9,
            "count": 9
           },
           {
            "bin_start": 2.9,
            "bin_end": 4.8,
            "count": 6
           },
           {
            "bin_start": 4.8,
            "bin_end": 6.699999999999999,
            "count": 9
           },
           {
            "bin_start": 6.699999999999999,
            "bin_end": 8.6,
            "count": 3
           },
           {
            "bin_start": 8.6,
            "bin_end": 10.5,
            "count": 3
           },
           {
            "bin_start": 10.5,
            "bin_end": 12.399999999999999,
            "count": 5
           },
           {
            "bin_start": 12.399999999999999,
            "bin_end": 14.299999999999999,
            "count": 5
           },
           {
            "bin_start": 14.299999999999999,
            "bin_end": 16.2,
            "count": 6
           },
           {
            "bin_start": 16.2,
            "bin_end": 18.099999999999998,
            "count": 3
           },
           {
            "bin_start": 18.099999999999998,
            "bin_end": 20,
            "count": 3
           }
          ]
         }
        },
        {
         "name": "smoothesold",
         "dtype": "int64",
         "stats": {
          "unique_count": 18,
          "nan_count": 0,
          "min": "1",
          "max": "21",
          "histogram": [
           {
            "bin_start": 1,
            "bin_end": 3,
            "count": 11
           },
           {
            "bin_start": 3,
            "bin_end": 5,
            "count": 8
           },
           {
            "bin_start": 5,
            "bin_end": 7,
            "count": 3
           },
           {
            "bin_start": 7,
            "bin_end": 9,
            "count": 4
           },
           {
            "bin_start": 9,
            "bin_end": 11,
            "count": 7
           },
           {
            "bin_start": 11,
            "bin_end": 13,
            "count": 8
           },
           {
            "bin_start": 13,
            "bin_end": 15,
            "count": 4
           },
           {
            "bin_start": 15,
            "bin_end": 17,
            "count": 1
           },
           {
            "bin_start": 17,
            "bin_end": 19,
            "count": 3
           },
           {
            "bin_start": 19,
            "bin_end": 21,
            "count": 3
           }
          ]
         }
        },
        {
         "name": "_deepnote_index_column",
         "dtype": "int64"
        }
       ],
       "rows_top": [
        {
         "week": 1,
         "Flavor": "chocolate",
         "icreamsold": 6,
         "smoothesold": 5,
         "_deepnote_index_column": 0
        },
        {
         "week": 2,
         "Flavor": "chocolate",
         "icreamsold": 16,
         "smoothesold": 14,
         "_deepnote_index_column": 4
        },
        {
         "week": 3,
         "Flavor": "chocolate",
         "icreamsold": 5,
         "smoothesold": 4,
         "_deepnote_index_column": 8
        },
        {
         "week": 4,
         "Flavor": "chocolate",
         "icreamsold": 20,
         "smoothesold": 11,
         "_deepnote_index_column": 12
        },
        {
         "week": 5,
         "Flavor": "chocolate",
         "icreamsold": 4,
         "smoothesold": 3,
         "_deepnote_index_column": 16
        },
        {
         "week": 6,
         "Flavor": "chocolate",
         "icreamsold": 5,
         "smoothesold": 4,
         "_deepnote_index_column": 20
        },
        {
         "week": 7,
         "Flavor": "chocolate",
         "icreamsold": 13,
         "smoothesold": 11,
         "_deepnote_index_column": 24
        },
        {
         "week": 8,
         "Flavor": "chocolate",
         "icreamsold": 5,
         "smoothesold": 5,
         "_deepnote_index_column": 28
        },
        {
         "week": 9,
         "Flavor": "chocolate",
         "icreamsold": 2,
         "smoothesold": 21,
         "_deepnote_index_column": 32
        },
        {
         "week": 10,
         "Flavor": "chocolate",
         "icreamsold": 7,
         "smoothesold": 2,
         "_deepnote_index_column": 36
        },
        {
         "week": 11,
         "Flavor": "chocolate",
         "icreamsold": 13,
         "smoothesold": 9,
         "_deepnote_index_column": 40
        },
        {
         "week": 12,
         "Flavor": "chocolate",
         "icreamsold": 6,
         "smoothesold": 5,
         "_deepnote_index_column": 44
        },
        {
         "week": 13,
         "Flavor": "chocolate",
         "icreamsold": 1,
         "smoothesold": 1,
         "_deepnote_index_column": 48
        },
        {
         "week": 14,
         "Flavor": "chocolate",
         "icreamsold": 4,
         "smoothesold": 1,
         "_deepnote_index_column": 52
        },
        {
         "week": 15,
         "Flavor": "chocolate",
         "icreamsold": 20,
         "smoothesold": 12,
         "_deepnote_index_column": 56
        },
        {
         "week": 16,
         "Flavor": "chocolate",
         "icreamsold": 2,
         "smoothesold": 8,
         "_deepnote_index_column": 60
        },
        {
         "week": 17,
         "Flavor": "chocolate",
         "icreamsold": 5,
         "smoothesold": 2,
         "_deepnote_index_column": 64
        },
        {
         "week": 18,
         "Flavor": "chocolate",
         "icreamsold": 1,
         "smoothesold": 10,
         "_deepnote_index_column": 68
        },
        {
         "week": 19,
         "Flavor": "chocolate",
         "icreamsold": 2,
         "smoothesold": 4,
         "_deepnote_index_column": 72
        },
        {
         "week": 20,
         "Flavor": "chocolate",
         "icreamsold": 11,
         "smoothesold": 9,
         "_deepnote_index_column": 76
        },
        {
         "week": 21,
         "Flavor": "chocolate",
         "icreamsold": 6,
         "smoothesold": 9,
         "_deepnote_index_column": 80
        },
        {
         "week": 22,
         "Flavor": "chocolate",
         "icreamsold": 3,
         "smoothesold": 11,
         "_deepnote_index_column": 84
        },
        {
         "week": 23,
         "Flavor": "chocolate",
         "icreamsold": 15,
         "smoothesold": 19,
         "_deepnote_index_column": 88
        },
        {
         "week": 24,
         "Flavor": "chocolate",
         "icreamsold": 19,
         "smoothesold": 18,
         "_deepnote_index_column": 92
        },
        {
         "week": 25,
         "Flavor": "chocolate",
         "icreamsold": 13,
         "smoothesold": 12,
         "_deepnote_index_column": 96
        },
        {
         "week": 26,
         "Flavor": "chocolate",
         "icreamsold": 11,
         "smoothesold": 3,
         "_deepnote_index_column": 100
        },
        {
         "week": 27,
         "Flavor": "chocolate",
         "icreamsold": 9,
         "smoothesold": 18,
         "_deepnote_index_column": 104
        },
        {
         "week": 28,
         "Flavor": "chocolate",
         "icreamsold": 4,
         "smoothesold": 8,
         "_deepnote_index_column": 108
        },
        {
         "week": 29,
         "Flavor": "chocolate",
         "icreamsold": 15,
         "smoothesold": 4,
         "_deepnote_index_column": 112
        },
        {
         "week": 30,
         "Flavor": "chocolate",
         "icreamsold": 17,
         "smoothesold": 20,
         "_deepnote_index_column": 116
        },
        {
         "week": 31,
         "Flavor": "chocolate",
         "icreamsold": 1,
         "smoothesold": 13,
         "_deepnote_index_column": 120
        },
        {
         "week": 32,
         "Flavor": "chocolate",
         "icreamsold": 2,
         "smoothesold": 4,
         "_deepnote_index_column": 124
        },
        {
         "week": 33,
         "Flavor": "chocolate",
         "icreamsold": 11,
         "smoothesold": 8,
         "_deepnote_index_column": 128
        },
        {
         "week": 34,
         "Flavor": "chocolate",
         "icreamsold": 15,
         "smoothesold": 18,
         "_deepnote_index_column": 132
        },
        {
         "week": 35,
         "Flavor": "chocolate",
         "icreamsold": 18,
         "smoothesold": 14,
         "_deepnote_index_column": 136
        },
        {
         "week": 36,
         "Flavor": "chocolate",
         "icreamsold": 15,
         "smoothesold": 12,
         "_deepnote_index_column": 140
        },
        {
         "week": 37,
         "Flavor": "chocolate",
         "icreamsold": 6,
         "smoothesold": 1,
         "_deepnote_index_column": 144
        },
        {
         "week": 38,
         "Flavor": "chocolate",
         "icreamsold": 1,
         "smoothesold": 1,
         "_deepnote_index_column": 148
        },
        {
         "week": 39,
         "Flavor": "chocolate",
         "icreamsold": 15,
         "smoothesold": 2,
         "_deepnote_index_column": 152
        },
        {
         "week": 40,
         "Flavor": "chocolate",
         "icreamsold": 2,
         "smoothesold": 10,
         "_deepnote_index_column": 156
        },
        {
         "week": 41,
         "Flavor": "chocolate",
         "icreamsold": 4,
         "smoothesold": 1,
         "_deepnote_index_column": 160
        },
        {
         "week": 42,
         "Flavor": "chocolate",
         "icreamsold": 12,
         "smoothesold": 12,
         "_deepnote_index_column": 164
        },
        {
         "week": 43,
         "Flavor": "chocolate",
         "icreamsold": 4,
         "smoothesold": 2,
         "_deepnote_index_column": 168
        },
        {
         "week": 44,
         "Flavor": "chocolate",
         "icreamsold": 7,
         "smoothesold": 10,
         "_deepnote_index_column": 172
        },
        {
         "week": 45,
         "Flavor": "chocolate",
         "icreamsold": 10,
         "smoothesold": 12,
         "_deepnote_index_column": 176
        },
        {
         "week": 46,
         "Flavor": "chocolate",
         "icreamsold": 13,
         "smoothesold": 13,
         "_deepnote_index_column": 180
        },
        {
         "week": 47,
         "Flavor": "chocolate",
         "icreamsold": 14,
         "smoothesold": 2,
         "_deepnote_index_column": 184
        },
        {
         "week": 48,
         "Flavor": "chocolate",
         "icreamsold": 7,
         "smoothesold": 15,
         "_deepnote_index_column": 188
        },
        {
         "week": 49,
         "Flavor": "chocolate",
         "icreamsold": 17,
         "smoothesold": 10,
         "_deepnote_index_column": 192
        },
        {
         "week": 50,
         "Flavor": "chocolate",
         "icreamsold": 5,
         "smoothesold": 3,
         "_deepnote_index_column": 196
        },
        {
         "week": 51,
         "Flavor": "chocolate",
         "icreamsold": 11,
         "smoothesold": 2,
         "_deepnote_index_column": 200
        },
        {
         "week": 52,
         "Flavor": "chocolate",
         "icreamsold": 10,
         "smoothesold": 7,
         "_deepnote_index_column": 204
        }
       ],
       "rows_bottom": null
      },
      "text/plain": "     week     Flavor  icreamsold  smoothesold\n0       1  chocolate           6            5\n4       2  chocolate          16           14\n8       3  chocolate           5            4\n12      4  chocolate          20           11\n16      5  chocolate           4            3\n20      6  chocolate           5            4\n24      7  chocolate          13           11\n28      8  chocolate           5            5\n32      9  chocolate           2           21\n36     10  chocolate           7            2\n40     11  chocolate          13            9\n44     12  chocolate           6            5\n48     13  chocolate           1            1\n52     14  chocolate           4            1\n56     15  chocolate          20           12\n60     16  chocolate           2            8\n64     17  chocolate           5            2\n68     18  chocolate           1           10\n72     19  chocolate           2            4\n76     20  chocolate          11            9\n80     21  chocolate           6            9\n84     22  chocolate           3           11\n88     23  chocolate          15           19\n92     24  chocolate          19           18\n96     25  chocolate          13           12\n100    26  chocolate          11            3\n104    27  chocolate           9           18\n108    28  chocolate           4            8\n112    29  chocolate          15            4\n116    30  chocolate          17           20\n120    31  chocolate           1           13\n124    32  chocolate           2            4\n128    33  chocolate          11            8\n132    34  chocolate          15           18\n136    35  chocolate          18           14\n140    36  chocolate          15           12\n144    37  chocolate           6            1\n148    38  chocolate           1            1\n152    39  chocolate          15            2\n156    40  chocolate           2           10\n160    41  chocolate           4            1\n164    42  chocolate          12           12\n168    43  chocolate           4            2\n172    44  chocolate           7           10\n176    45  chocolate          10           12\n180    46  chocolate          13           13\n184    47  chocolate          14            2\n188    48  chocolate           7           15\n192    49  chocolate          17           10\n196    50  chocolate           5            3\n200    51  chocolate          11            2\n204    52  chocolate          10            7",
      "text/html": "<div>\n<style scoped>\n    .dataframe tbody tr th:only-of-type {\n        vertical-align: middle;\n    }\n\n    .dataframe tbody tr th {\n        vertical-align: top;\n    }\n\n    .dataframe thead th {\n        text-align: right;\n    }\n</style>\n<table border=\"1\" class=\"dataframe\">\n  <thead>\n    <tr style=\"text-align: right;\">\n      <th></th>\n      <th>week</th>\n      <th>Flavor</th>\n      <th>icreamsold</th>\n      <th>smoothesold</th>\n    </tr>\n  </thead>\n  <tbody>\n    <tr>\n      <th>0</th>\n      <td>1</td>\n      <td>chocolate</td>\n      <td>6</td>\n      <td>5</td>\n    </tr>\n    <tr>\n      <th>4</th>\n      <td>2</td>\n      <td>chocolate</td>\n      <td>16</td>\n      <td>14</td>\n    </tr>\n    <tr>\n      <th>8</th>\n      <td>3</td>\n      <td>chocolate</td>\n      <td>5</td>\n      <td>4</td>\n    </tr>\n    <tr>\n      <th>12</th>\n      <td>4</td>\n      <td>chocolate</td>\n      <td>20</td>\n      <td>11</td>\n    </tr>\n    <tr>\n      <th>16</th>\n      <td>5</td>\n      <td>chocolate</td>\n      <td>4</td>\n      <td>3</td>\n    </tr>\n    <tr>\n      <th>20</th>\n      <td>6</td>\n      <td>chocolate</td>\n      <td>5</td>\n      <td>4</td>\n    </tr>\n    <tr>\n      <th>24</th>\n      <td>7</td>\n      <td>chocolate</td>\n      <td>13</td>\n      <td>11</td>\n    </tr>\n    <tr>\n      <th>28</th>\n      <td>8</td>\n      <td>chocolate</td>\n      <td>5</td>\n      <td>5</td>\n    </tr>\n    <tr>\n      <th>32</th>\n      <td>9</td>\n      <td>chocolate</td>\n      <td>2</td>\n      <td>21</td>\n    </tr>\n    <tr>\n      <th>36</th>\n      <td>10</td>\n      <td>chocolate</td>\n      <td>7</td>\n      <td>2</td>\n    </tr>\n    <tr>\n      <th>40</th>\n      <td>11</td>\n      <td>chocolate</td>\n      <td>13</td>\n      <td>9</td>\n    </tr>\n    <tr>\n      <th>44</th>\n      <td>12</td>\n      <td>chocolate</td>\n      <td>6</td>\n      <td>5</td>\n    </tr>\n    <tr>\n      <th>48</th>\n      <td>13</td>\n      <td>chocolate</td>\n      <td>1</td>\n      <td>1</td>\n    </tr>\n    <tr>\n      <th>52</th>\n      <td>14</td>\n      <td>chocolate</td>\n      <td>4</td>\n      <td>1</td>\n    </tr>\n    <tr>\n      <th>56</th>\n      <td>15</td>\n      <td>chocolate</td>\n      <td>20</td>\n      <td>12</td>\n    </tr>\n    <tr>\n      <th>60</th>\n      <td>16</td>\n      <td>chocolate</td>\n      <td>2</td>\n      <td>8</td>\n    </tr>\n    <tr>\n      <th>64</th>\n      <td>17</td>\n      <td>chocolate</td>\n      <td>5</td>\n      <td>2</td>\n    </tr>\n    <tr>\n      <th>68</th>\n      <td>18</td>\n      <td>chocolate</td>\n      <td>1</td>\n      <td>10</td>\n    </tr>\n    <tr>\n      <th>72</th>\n      <td>19</td>\n      <td>chocolate</td>\n      <td>2</td>\n      <td>4</td>\n    </tr>\n    <tr>\n      <th>76</th>\n      <td>20</td>\n      <td>chocolate</td>\n      <td>11</td>\n      <td>9</td>\n    </tr>\n    <tr>\n      <th>80</th>\n      <td>21</td>\n      <td>chocolate</td>\n      <td>6</td>\n      <td>9</td>\n    </tr>\n    <tr>\n      <th>84</th>\n      <td>22</td>\n      <td>chocolate</td>\n      <td>3</td>\n      <td>11</td>\n    </tr>\n    <tr>\n      <th>88</th>\n      <td>23</td>\n      <td>chocolate</td>\n      <td>15</td>\n      <td>19</td>\n    </tr>\n    <tr>\n      <th>92</th>\n      <td>24</td>\n      <td>chocolate</td>\n      <td>19</td>\n      <td>18</td>\n    </tr>\n    <tr>\n      <th>96</th>\n      <td>25</td>\n      <td>chocolate</td>\n      <td>13</td>\n      <td>12</td>\n    </tr>\n    <tr>\n      <th>100</th>\n      <td>26</td>\n      <td>chocolate</td>\n      <td>11</td>\n      <td>3</td>\n    </tr>\n    <tr>\n      <th>104</th>\n      <td>27</td>\n      <td>chocolate</td>\n      <td>9</td>\n      <td>18</td>\n    </tr>\n    <tr>\n      <th>108</th>\n      <td>28</td>\n      <td>chocolate</td>\n      <td>4</td>\n      <td>8</td>\n    </tr>\n    <tr>\n      <th>112</th>\n      <td>29</td>\n      <td>chocolate</td>\n      <td>15</td>\n      <td>4</td>\n    </tr>\n    <tr>\n      <th>116</th>\n      <td>30</td>\n      <td>chocolate</td>\n      <td>17</td>\n      <td>20</td>\n    </tr>\n    <tr>\n      <th>120</th>\n      <td>31</td>\n      <td>chocolate</td>\n      <td>1</td>\n      <td>13</td>\n    </tr>\n    <tr>\n      <th>124</th>\n      <td>32</td>\n      <td>chocolate</td>\n      <td>2</td>\n      <td>4</td>\n    </tr>\n    <tr>\n      <th>128</th>\n      <td>33</td>\n      <td>chocolate</td>\n      <td>11</td>\n      <td>8</td>\n    </tr>\n    <tr>\n      <th>132</th>\n      <td>34</td>\n      <td>chocolate</td>\n      <td>15</td>\n      <td>18</td>\n    </tr>\n    <tr>\n      <th>136</th>\n      <td>35</td>\n      <td>chocolate</td>\n      <td>18</td>\n      <td>14</td>\n    </tr>\n    <tr>\n      <th>140</th>\n      <td>36</td>\n      <td>chocolate</td>\n      <td>15</td>\n      <td>12</td>\n    </tr>\n    <tr>\n      <th>144</th>\n      <td>37</td>\n      <td>chocolate</td>\n      <td>6</td>\n      <td>1</td>\n    </tr>\n    <tr>\n      <th>148</th>\n      <td>38</td>\n      <td>chocolate</td>\n      <td>1</td>\n      <td>1</td>\n    </tr>\n    <tr>\n      <th>152</th>\n      <td>39</td>\n      <td>chocolate</td>\n      <td>15</td>\n      <td>2</td>\n    </tr>\n    <tr>\n      <th>156</th>\n      <td>40</td>\n      <td>chocolate</td>\n      <td>2</td>\n      <td>10</td>\n    </tr>\n    <tr>\n      <th>160</th>\n      <td>41</td>\n      <td>chocolate</td>\n      <td>4</td>\n      <td>1</td>\n    </tr>\n    <tr>\n      <th>164</th>\n      <td>42</td>\n      <td>chocolate</td>\n      <td>12</td>\n      <td>12</td>\n    </tr>\n    <tr>\n      <th>168</th>\n      <td>43</td>\n      <td>chocolate</td>\n      <td>4</td>\n      <td>2</td>\n    </tr>\n    <tr>\n      <th>172</th>\n      <td>44</td>\n      <td>chocolate</td>\n      <td>7</td>\n      <td>10</td>\n    </tr>\n    <tr>\n      <th>176</th>\n      <td>45</td>\n      <td>chocolate</td>\n      <td>10</td>\n      <td>12</td>\n    </tr>\n    <tr>\n      <th>180</th>\n      <td>46</td>\n      <td>chocolate</td>\n      <td>13</td>\n      <td>13</td>\n    </tr>\n    <tr>\n      <th>184</th>\n      <td>47</td>\n      <td>chocolate</td>\n      <td>14</td>\n      <td>2</td>\n    </tr>\n    <tr>\n      <th>188</th>\n      <td>48</td>\n      <td>chocolate</td>\n      <td>7</td>\n      <td>15</td>\n    </tr>\n    <tr>\n      <th>192</th>\n      <td>49</td>\n      <td>chocolate</td>\n      <td>17</td>\n      <td>10</td>\n    </tr>\n    <tr>\n      <th>196</th>\n      <td>50</td>\n      <td>chocolate</td>\n      <td>5</td>\n      <td>3</td>\n    </tr>\n    <tr>\n      <th>200</th>\n      <td>51</td>\n      <td>chocolate</td>\n      <td>11</td>\n      <td>2</td>\n    </tr>\n    <tr>\n      <th>204</th>\n      <td>52</td>\n      <td>chocolate</td>\n      <td>10</td>\n      <td>7</td>\n    </tr>\n  </tbody>\n</table>\n</div>"
     },
     "metadata": {}
    }
   ]
  },
  {
   "cell_type": "markdown",
   "source": "# Pivoting",
   "metadata": {
    "tags": [],
    "is_collapsed": false,
    "cell_id": "00063-1d671086-de9f-4b54-85b4-c678ff7cd590",
    "deepnote_cell_type": "text-cell-h1"
   }
  },
  {
   "cell_type": "markdown",
   "source": "A pivot table is a table of statistics that summarizes the data of a more extensive table (such as from a database, spreadsheet, or business intelligence program). This summary might include sums, averages, or other statistics, which the pivot table groups together in a meaningful way. IPandas support s&nbsp;pivot() funciton which&nbsp;provides general purpose pivoting with various data types (strings, numerics, etc.), pandas also provides&nbsp;pivot_table()&nbsp;for pivoting with aggregation of numeric data. The function&nbsp;pivot_table()&nbsp;can be used to create spreadsheet-style pivot tables.",
   "metadata": {
    "tags": [],
    "is_collapsed": false,
    "cell_id": "00064-edb7845c-ea2f-4edd-86fa-d16d807e6ef6",
    "deepnote_cell_type": "text-cell-p"
   }
  },
  {
   "cell_type": "markdown",
   "source": "### pivot() function example",
   "metadata": {
    "tags": [],
    "is_collapsed": false,
    "cell_id": "00065-7f039d44-09ff-4925-b954-dae92151cc56",
    "deepnote_cell_type": "text-cell-h3"
   }
  },
  {
   "cell_type": "code",
   "metadata": {
    "tags": [],
    "cell_id": "00066-f6cf4c2a-2c1a-48d3-a6d4-6c1c19428a23",
    "deepnote_to_be_reexecuted": false,
    "source_hash": "7fa82a26",
    "execution_start": 1637404190536,
    "execution_millis": 2,
    "deepnote_cell_type": "code"
   },
   "source": "#check flavors dataset\nflavors.head()",
   "execution_count": 20,
   "outputs": [
    {
     "output_type": "execute_result",
     "execution_count": 20,
     "data": {
      "application/vnd.deepnote.dataframe.v2+json": {
       "row_count": 5,
       "column_count": 4,
       "columns": [
        {
         "name": "week",
         "dtype": "int64",
         "stats": {
          "unique_count": 2,
          "nan_count": 0,
          "min": "1",
          "max": "2",
          "histogram": [
           {
            "bin_start": 1,
            "bin_end": 1.1,
            "count": 4
           },
           {
            "bin_start": 1.1,
            "bin_end": 1.2,
            "count": 0
           },
           {
            "bin_start": 1.2,
            "bin_end": 1.3,
            "count": 0
           },
           {
            "bin_start": 1.3,
            "bin_end": 1.4,
            "count": 0
           },
           {
            "bin_start": 1.4,
            "bin_end": 1.5,
            "count": 0
           },
           {
            "bin_start": 1.5,
            "bin_end": 1.6,
            "count": 0
           },
           {
            "bin_start": 1.6,
            "bin_end": 1.7000000000000002,
            "count": 0
           },
           {
            "bin_start": 1.7000000000000002,
            "bin_end": 1.8,
            "count": 0
           },
           {
            "bin_start": 1.8,
            "bin_end": 1.9,
            "count": 0
           },
           {
            "bin_start": 1.9,
            "bin_end": 2,
            "count": 1
           }
          ]
         }
        },
        {
         "name": "Flavor",
         "dtype": "object",
         "stats": {
          "unique_count": 4,
          "nan_count": 0,
          "categories": [
           {
            "name": "chocolate",
            "count": 2
           },
           {
            "name": "lemon",
            "count": 1
           },
           {
            "name": "2 others",
            "count": 2
           }
          ]
         }
        },
        {
         "name": "icreamsold",
         "dtype": "int64",
         "stats": {
          "unique_count": 4,
          "nan_count": 0,
          "min": "6",
          "max": "16",
          "histogram": [
           {
            "bin_start": 6,
            "bin_end": 7,
            "count": 2
           },
           {
            "bin_start": 7,
            "bin_end": 8,
            "count": 0
           },
           {
            "bin_start": 8,
            "bin_end": 9,
            "count": 0
           },
           {
            "bin_start": 9,
            "bin_end": 10,
            "count": 0
           },
           {
            "bin_start": 10,
            "bin_end": 11,
            "count": 0
           },
           {
            "bin_start": 11,
            "bin_end": 12,
            "count": 0
           },
           {
            "bin_start": 12,
            "bin_end": 13,
            "count": 1
           },
           {
            "bin_start": 13,
            "bin_end": 14,
            "count": 0
           },
           {
            "bin_start": 14,
            "bin_end": 15,
            "count": 0
           },
           {
            "bin_start": 15,
            "bin_end": 16,
            "count": 2
           }
          ]
         }
        },
        {
         "name": "smoothesold",
         "dtype": "int64",
         "stats": {
          "unique_count": 5,
          "nan_count": 0,
          "min": "2",
          "max": "14",
          "histogram": [
           {
            "bin_start": 2,
            "bin_end": 3.2,
            "count": 2
           },
           {
            "bin_start": 3.2,
            "bin_end": 4.4,
            "count": 0
           },
           {
            "bin_start": 4.4,
            "bin_end": 5.6,
            "count": 1
           },
           {
            "bin_start": 5.6,
            "bin_end": 6.8,
            "count": 0
           },
           {
            "bin_start": 6.8,
            "bin_end": 8,
            "count": 0
           },
           {
            "bin_start": 8,
            "bin_end": 9.2,
            "count": 0
           },
           {
            "bin_start": 9.2,
            "bin_end": 10.4,
            "count": 1
           },
           {
            "bin_start": 10.4,
            "bin_end": 11.6,
            "count": 0
           },
           {
            "bin_start": 11.6,
            "bin_end": 12.799999999999999,
            "count": 0
           },
           {
            "bin_start": 12.799999999999999,
            "bin_end": 14,
            "count": 1
           }
          ]
         }
        },
        {
         "name": "_deepnote_index_column",
         "dtype": "int64"
        }
       ],
       "rows_top": [
        {
         "week": 1,
         "Flavor": "chocolate",
         "icreamsold": 6,
         "smoothesold": 5,
         "_deepnote_index_column": 0
        },
        {
         "week": 1,
         "Flavor": "lemon",
         "icreamsold": 15,
         "smoothesold": 3,
         "_deepnote_index_column": 1
        },
        {
         "week": 1,
         "Flavor": "strawberry",
         "icreamsold": 12,
         "smoothesold": 10,
         "_deepnote_index_column": 2
        },
        {
         "week": 1,
         "Flavor": "vanilla",
         "icreamsold": 6,
         "smoothesold": 2,
         "_deepnote_index_column": 3
        },
        {
         "week": 2,
         "Flavor": "chocolate",
         "icreamsold": 16,
         "smoothesold": 14,
         "_deepnote_index_column": 4
        }
       ],
       "rows_bottom": null
      },
      "text/plain": "   week      Flavor  icreamsold  smoothesold\n0     1   chocolate           6            5\n1     1       lemon          15            3\n2     1  strawberry          12           10\n3     1     vanilla           6            2\n4     2   chocolate          16           14",
      "text/html": "<div>\n<style scoped>\n    .dataframe tbody tr th:only-of-type {\n        vertical-align: middle;\n    }\n\n    .dataframe tbody tr th {\n        vertical-align: top;\n    }\n\n    .dataframe thead th {\n        text-align: right;\n    }\n</style>\n<table border=\"1\" class=\"dataframe\">\n  <thead>\n    <tr style=\"text-align: right;\">\n      <th></th>\n      <th>week</th>\n      <th>Flavor</th>\n      <th>icreamsold</th>\n      <th>smoothesold</th>\n    </tr>\n  </thead>\n  <tbody>\n    <tr>\n      <th>0</th>\n      <td>1</td>\n      <td>chocolate</td>\n      <td>6</td>\n      <td>5</td>\n    </tr>\n    <tr>\n      <th>1</th>\n      <td>1</td>\n      <td>lemon</td>\n      <td>15</td>\n      <td>3</td>\n    </tr>\n    <tr>\n      <th>2</th>\n      <td>1</td>\n      <td>strawberry</td>\n      <td>12</td>\n      <td>10</td>\n    </tr>\n    <tr>\n      <th>3</th>\n      <td>1</td>\n      <td>vanilla</td>\n      <td>6</td>\n      <td>2</td>\n    </tr>\n    <tr>\n      <th>4</th>\n      <td>2</td>\n      <td>chocolate</td>\n      <td>16</td>\n      <td>14</td>\n    </tr>\n  </tbody>\n</table>\n</div>"
     },
     "metadata": {}
    }
   ]
  },
  {
   "cell_type": "code",
   "metadata": {
    "tags": [],
    "cell_id": "00067-4a21dcef-d5ef-4cea-9386-32a91d43fbe6",
    "deepnote_to_be_reexecuted": false,
    "source_hash": "bd01f8a2",
    "execution_start": 1637404190537,
    "execution_millis": 15,
    "deepnote_cell_type": "code"
   },
   "source": "new_df=flavors.pivot(index='week',columns='Flavor',values=['icreamsold','smoothesold'])\nprint(new_df.head())",
   "execution_count": 21,
   "outputs": [
    {
     "name": "stdout",
     "text": "       icreamsold                          smoothesold                   \\\nFlavor  chocolate lemon strawberry vanilla   chocolate lemon strawberry   \nweek                                                                      \n1               6    15         12       6           5     3         10   \n2              16     7          7      18          14     2          2   \n3               5     8          4       9           4     5          3   \n4              20    12          1      14          11    18          2   \n5               4    20         18       7           3     2         10   \n\n                \nFlavor vanilla  \nweek            \n1            2  \n2           12  \n3            2  \n4           20  \n5           15  \n",
     "output_type": "stream"
    }
   ]
  },
  {
   "cell_type": "markdown",
   "source": "Now, we can see four flavors sold of ice-cream and smoothe for each week.",
   "metadata": {
    "tags": [],
    "is_collapsed": false,
    "cell_id": "00078-e49920dc-f2bf-458d-acea-b8ce146cafd3",
    "deepnote_cell_type": "text-cell-p"
   }
  },
  {
   "cell_type": "markdown",
   "source": "### pivot_table() function example",
   "metadata": {
    "tags": [],
    "is_collapsed": false,
    "cell_id": "00068-f3ed0186-3e44-4bdd-bea0-4330dd83c7e6",
    "deepnote_cell_type": "text-cell-h3"
   }
  },
  {
   "cell_type": "markdown",
   "source": "Let's try to pivot according to flavors. ",
   "metadata": {
    "tags": [],
    "is_collapsed": false,
    "cell_id": "00080-ba1acfb1-6d04-4bc1-818e-f2ae311148ae",
    "deepnote_cell_type": "text-cell-p"
   }
  },
  {
   "cell_type": "code",
   "metadata": {
    "tags": [],
    "cell_id": "00069-f68c55e2-f85e-44f3-b23f-64d4eb339a10",
    "deepnote_to_be_reexecuted": false,
    "source_hash": "cf743505",
    "execution_start": 1637404190559,
    "execution_millis": 63,
    "deepnote_cell_type": "code"
   },
   "source": "pd.pivot_table(flavors,index=['Flavor'],values=['icreamsold','smoothesold'])",
   "execution_count": 22,
   "outputs": [
    {
     "output_type": "execute_result",
     "execution_count": 22,
     "data": {
      "application/vnd.deepnote.dataframe.v2+json": {
       "row_count": 4,
       "column_count": 2,
       "columns": [
        {
         "name": "icreamsold",
         "dtype": "float64",
         "stats": {
          "unique_count": 4,
          "nan_count": 0,
          "min": "7.673076923076923",
          "max": "13.711538461538462",
          "histogram": [
           {
            "bin_start": 7.673076923076923,
            "bin_end": 8.276923076923078,
            "count": 1
           },
           {
            "bin_start": 8.276923076923078,
            "bin_end": 8.88076923076923,
            "count": 1
           },
           {
            "bin_start": 8.88076923076923,
            "bin_end": 9.484615384615385,
            "count": 0
           },
           {
            "bin_start": 9.484615384615385,
            "bin_end": 10.088461538461539,
            "count": 0
           },
           {
            "bin_start": 10.088461538461539,
            "bin_end": 10.692307692307693,
            "count": 1
           },
           {
            "bin_start": 10.692307692307693,
            "bin_end": 11.296153846153846,
            "count": 0
           },
           {
            "bin_start": 11.296153846153846,
            "bin_end": 11.9,
            "count": 0
           },
           {
            "bin_start": 11.9,
            "bin_end": 12.503846153846155,
            "count": 0
           },
           {
            "bin_start": 12.503846153846155,
            "bin_end": 13.107692307692307,
            "count": 0
           },
           {
            "bin_start": 13.107692307692307,
            "bin_end": 13.711538461538462,
            "count": 1
           }
          ]
         }
        },
        {
         "name": "smoothesold",
         "dtype": "float64",
         "stats": {
          "unique_count": 4,
          "nan_count": 0,
          "min": "8.365384615384615",
          "max": "8.826923076923077",
          "histogram": [
           {
            "bin_start": 8.365384615384615,
            "bin_end": 8.411538461538461,
            "count": 1
           },
           {
            "bin_start": 8.411538461538461,
            "bin_end": 8.457692307692307,
            "count": 0
           },
           {
            "bin_start": 8.457692307692307,
            "bin_end": 8.503846153846153,
            "count": 0
           },
           {
            "bin_start": 8.503846153846153,
            "bin_end": 8.549999999999999,
            "count": 0
           },
           {
            "bin_start": 8.549999999999999,
            "bin_end": 8.596153846153847,
            "count": 0
           },
           {
            "bin_start": 8.596153846153847,
            "bin_end": 8.642307692307693,
            "count": 1
           },
           {
            "bin_start": 8.642307692307693,
            "bin_end": 8.688461538461539,
            "count": 0
           },
           {
            "bin_start": 8.688461538461539,
            "bin_end": 8.734615384615385,
            "count": 0
           },
           {
            "bin_start": 8.734615384615385,
            "bin_end": 8.78076923076923,
            "count": 1
           },
           {
            "bin_start": 8.78076923076923,
            "bin_end": 8.826923076923077,
            "count": 1
           }
          ]
         }
        },
        {
         "name": "_deepnote_index_column",
         "dtype": "object"
        }
       ],
       "rows_top": [
        {
         "icreamsold": 8.846153846153847,
         "smoothesold": 8.365384615384615,
         "_deepnote_index_column": "chocolate"
        },
        {
         "icreamsold": 13.711538461538462,
         "smoothesold": 8.615384615384615,
         "_deepnote_index_column": "lemon"
        },
        {
         "icreamsold": 7.673076923076923,
         "smoothesold": 8.826923076923077,
         "_deepnote_index_column": "strawberry"
        },
        {
         "icreamsold": 10.134615384615385,
         "smoothesold": 8.76923076923077,
         "_deepnote_index_column": "vanilla"
        }
       ],
       "rows_bottom": null
      },
      "text/plain": "            icreamsold  smoothesold\nFlavor                             \nchocolate     8.846154     8.365385\nlemon        13.711538     8.615385\nstrawberry    7.673077     8.826923\nvanilla      10.134615     8.769231",
      "text/html": "<div>\n<style scoped>\n    .dataframe tbody tr th:only-of-type {\n        vertical-align: middle;\n    }\n\n    .dataframe tbody tr th {\n        vertical-align: top;\n    }\n\n    .dataframe thead th {\n        text-align: right;\n    }\n</style>\n<table border=\"1\" class=\"dataframe\">\n  <thead>\n    <tr style=\"text-align: right;\">\n      <th></th>\n      <th>icreamsold</th>\n      <th>smoothesold</th>\n    </tr>\n    <tr>\n      <th>Flavor</th>\n      <th></th>\n      <th></th>\n    </tr>\n  </thead>\n  <tbody>\n    <tr>\n      <th>chocolate</th>\n      <td>8.846154</td>\n      <td>8.365385</td>\n    </tr>\n    <tr>\n      <th>lemon</th>\n      <td>13.711538</td>\n      <td>8.615385</td>\n    </tr>\n    <tr>\n      <th>strawberry</th>\n      <td>7.673077</td>\n      <td>8.826923</td>\n    </tr>\n    <tr>\n      <th>vanilla</th>\n      <td>10.134615</td>\n      <td>8.769231</td>\n    </tr>\n  </tbody>\n</table>\n</div>"
     },
     "metadata": {}
    }
   ]
  },
  {
   "cell_type": "markdown",
   "source": "Now, we can see the mean value of ice-cream and smoothe sold for each flavor. pivot_table() function has aggfunc argument for aggregation. If we did not mention any specified function, it will apply the default function which is mean. ",
   "metadata": {
    "tags": [],
    "is_collapsed": false,
    "cell_id": "00082-5f48310c-2767-42f8-b3ac-8f22e413db35",
    "deepnote_cell_type": "text-cell-p"
   }
  },
  {
   "cell_type": "markdown",
   "source": "Now, let's pivot with aggregate function.",
   "metadata": {
    "tags": [],
    "is_collapsed": false,
    "cell_id": "00070-79327a1e-1b1f-423e-aa47-f23c57a8a44e",
    "deepnote_cell_type": "text-cell-p"
   }
  },
  {
   "cell_type": "code",
   "metadata": {
    "tags": [],
    "cell_id": "00071-d9346f6b-bb40-49aa-8b57-0206f9802055",
    "deepnote_to_be_reexecuted": false,
    "source_hash": "af07d1c0",
    "execution_start": 1637404190632,
    "execution_millis": 31,
    "deepnote_cell_type": "code"
   },
   "source": "pd.pivot_table(flavors,index=['Flavor'],values=['icreamsold','smoothesold'],aggfunc=np.sum)",
   "execution_count": 23,
   "outputs": [
    {
     "output_type": "execute_result",
     "execution_count": 23,
     "data": {
      "application/vnd.deepnote.dataframe.v2+json": {
       "row_count": 4,
       "column_count": 2,
       "columns": [
        {
         "name": "icreamsold",
         "dtype": "int64",
         "stats": {
          "unique_count": 4,
          "nan_count": 0,
          "min": "399",
          "max": "713",
          "histogram": [
           {
            "bin_start": 399,
            "bin_end": 430.4,
            "count": 1
           },
           {
            "bin_start": 430.4,
            "bin_end": 461.8,
            "count": 1
           },
           {
            "bin_start": 461.8,
            "bin_end": 493.2,
            "count": 0
           },
           {
            "bin_start": 493.2,
            "bin_end": 524.6,
            "count": 0
           },
           {
            "bin_start": 524.6,
            "bin_end": 556,
            "count": 1
           },
           {
            "bin_start": 556,
            "bin_end": 587.4,
            "count": 0
           },
           {
            "bin_start": 587.4,
            "bin_end": 618.8,
            "count": 0
           },
           {
            "bin_start": 618.8,
            "bin_end": 650.2,
            "count": 0
           },
           {
            "bin_start": 650.2,
            "bin_end": 681.5999999999999,
            "count": 0
           },
           {
            "bin_start": 681.5999999999999,
            "bin_end": 713,
            "count": 1
           }
          ]
         }
        },
        {
         "name": "smoothesold",
         "dtype": "int64",
         "stats": {
          "unique_count": 4,
          "nan_count": 0,
          "min": "435",
          "max": "459",
          "histogram": [
           {
            "bin_start": 435,
            "bin_end": 437.4,
            "count": 1
           },
           {
            "bin_start": 437.4,
            "bin_end": 439.8,
            "count": 0
           },
           {
            "bin_start": 439.8,
            "bin_end": 442.2,
            "count": 0
           },
           {
            "bin_start": 442.2,
            "bin_end": 444.6,
            "count": 0
           },
           {
            "bin_start": 444.6,
            "bin_end": 447,
            "count": 0
           },
           {
            "bin_start": 447,
            "bin_end": 449.4,
            "count": 1
           },
           {
            "bin_start": 449.4,
            "bin_end": 451.8,
            "count": 0
           },
           {
            "bin_start": 451.8,
            "bin_end": 454.2,
            "count": 0
           },
           {
            "bin_start": 454.2,
            "bin_end": 456.6,
            "count": 1
           },
           {
            "bin_start": 456.6,
            "bin_end": 459,
            "count": 1
           }
          ]
         }
        },
        {
         "name": "_deepnote_index_column",
         "dtype": "object"
        }
       ],
       "rows_top": [
        {
         "icreamsold": 460,
         "smoothesold": 435,
         "_deepnote_index_column": "chocolate"
        },
        {
         "icreamsold": 713,
         "smoothesold": 448,
         "_deepnote_index_column": "lemon"
        },
        {
         "icreamsold": 399,
         "smoothesold": 459,
         "_deepnote_index_column": "strawberry"
        },
        {
         "icreamsold": 527,
         "smoothesold": 456,
         "_deepnote_index_column": "vanilla"
        }
       ],
       "rows_bottom": null
      },
      "text/plain": "            icreamsold  smoothesold\nFlavor                             \nchocolate          460          435\nlemon              713          448\nstrawberry         399          459\nvanilla            527          456",
      "text/html": "<div>\n<style scoped>\n    .dataframe tbody tr th:only-of-type {\n        vertical-align: middle;\n    }\n\n    .dataframe tbody tr th {\n        vertical-align: top;\n    }\n\n    .dataframe thead th {\n        text-align: right;\n    }\n</style>\n<table border=\"1\" class=\"dataframe\">\n  <thead>\n    <tr style=\"text-align: right;\">\n      <th></th>\n      <th>icreamsold</th>\n      <th>smoothesold</th>\n    </tr>\n    <tr>\n      <th>Flavor</th>\n      <th></th>\n      <th></th>\n    </tr>\n  </thead>\n  <tbody>\n    <tr>\n      <th>chocolate</th>\n      <td>460</td>\n      <td>435</td>\n    </tr>\n    <tr>\n      <th>lemon</th>\n      <td>713</td>\n      <td>448</td>\n    </tr>\n    <tr>\n      <th>strawberry</th>\n      <td>399</td>\n      <td>459</td>\n    </tr>\n    <tr>\n      <th>vanilla</th>\n      <td>527</td>\n      <td>456</td>\n    </tr>\n  </tbody>\n</table>\n</div>"
     },
     "metadata": {}
    }
   ]
  },
  {
   "cell_type": "markdown",
   "source": "Here again, we pivoted to check the total sold of ice-cream and smoothe for each flavor.",
   "metadata": {
    "tags": [],
    "is_collapsed": false,
    "cell_id": "00085-c60756b6-d595-4f1b-90d2-20e86c42cdb3",
    "deepnote_cell_type": "text-cell-p"
   }
  },
  {
   "cell_type": "markdown",
   "source": "# Categorical",
   "metadata": {
    "tags": [],
    "is_collapsed": false,
    "cell_id": "00072-2cf58349-bae4-47ea-8dfe-bc8b5968fe23",
    "deepnote_cell_type": "text-cell-h1"
   }
  },
  {
   "cell_type": "markdown",
   "source": "Panda has categorical data type which corresponds to the categorical variables in statistics. Such variables take on a fixed and limited number of possible values. For examples - grades, gender, blood group type etc. ",
   "metadata": {
    "tags": [],
    "is_collapsed": false,
    "cell_id": "00073-3fc02613-53d2-4816-aa8f-da691b15298f",
    "deepnote_cell_type": "text-cell-p"
   }
  },
  {
   "cell_type": "markdown",
   "source": "### astype()",
   "metadata": {
    "tags": [],
    "is_collapsed": false,
    "cell_id": "00073-3adc8253-6520-42a7-a5e4-ba0ad781c324",
    "deepnote_cell_type": "text-cell-h3"
   }
  },
  {
   "cell_type": "markdown",
   "source": "We can covert column data into categorical data type using astype() function.",
   "metadata": {
    "tags": [],
    "is_collapsed": false,
    "cell_id": "00075-9e6dcd33-c040-4c40-bee8-f89bd402fe1c",
    "deepnote_cell_type": "text-cell-p"
   }
  },
  {
   "cell_type": "code",
   "source": "#copy data set\nflavors_cpy=flavors.copy()\nprint(flavors_cpy.head())",
   "metadata": {
    "tags": [],
    "cell_id": "00076-d832356b-0add-40b4-84b7-24143aeb901e",
    "deepnote_to_be_reexecuted": false,
    "source_hash": "d9c28983",
    "execution_start": 1637404190713,
    "execution_millis": 0,
    "deepnote_cell_type": "code"
   },
   "outputs": [
    {
     "name": "stdout",
     "text": "   week      Flavor  icreamsold  smoothesold\n0     1   chocolate           6            5\n1     1       lemon          15            3\n2     1  strawberry          12           10\n3     1     vanilla           6            2\n4     2   chocolate          16           14\n",
     "output_type": "stream"
    }
   ],
   "execution_count": 24
  },
  {
   "cell_type": "code",
   "source": "#convert Flavor to categorical type\nflavors_cpy['Flavor']= flavors_cpy['Flavor'].astype('category')\nflavors_cpy['Flavor']",
   "metadata": {
    "tags": [],
    "cell_id": "00077-3b197cde-fb83-456f-842e-43c5f1f158ab",
    "deepnote_to_be_reexecuted": false,
    "source_hash": "9c1894a4",
    "execution_start": 1637404190714,
    "execution_millis": 2,
    "deepnote_cell_type": "code"
   },
   "outputs": [
    {
     "output_type": "execute_result",
     "execution_count": 25,
     "data": {
      "text/plain": "0       chocolate\n1           lemon\n2      strawberry\n3         vanilla\n4       chocolate\n          ...    \n203       vanilla\n204     chocolate\n205         lemon\n206    strawberry\n207       vanilla\nName: Flavor, Length: 208, dtype: category\nCategories (4, object): ['chocolate', 'lemon', 'strawberry', 'vanilla']"
     },
     "metadata": {}
    }
   ],
   "execution_count": 25
  },
  {
   "cell_type": "markdown",
   "source": "Now, we can se that the Flavor column changed to categorical data type and there are a total of four categories: chocolate, lemon, strawberry and vanilla.",
   "metadata": {
    "tags": [],
    "is_collapsed": false,
    "cell_id": "00092-f272e46b-63f9-42e8-a769-76eb6dea5d4c",
    "deepnote_cell_type": "text-cell-p"
   }
  },
  {
   "cell_type": "markdown",
   "source": "We can also rename our categories if we want like below.",
   "metadata": {
    "tags": [],
    "is_collapsed": false,
    "cell_id": "00093-5f90ed78-fbfc-4d0a-ac39-954c03dceca5",
    "deepnote_cell_type": "text-cell-p"
   }
  },
  {
   "cell_type": "code",
   "source": "# rename categories\nflavors_cpy['Flavor'].cat.categories=['CHOCO','LMON','STBERRY','VNILLA']\nflavors_cpy['Flavor']",
   "metadata": {
    "tags": [],
    "cell_id": "00078-802a8c6b-0d88-42a2-8168-c27569701d42",
    "deepnote_to_be_reexecuted": false,
    "source_hash": "66516349",
    "execution_start": 1637404190715,
    "execution_millis": 43,
    "deepnote_cell_type": "code"
   },
   "outputs": [
    {
     "output_type": "execute_result",
     "execution_count": 26,
     "data": {
      "text/plain": "0        CHOCO\n1         LMON\n2      STBERRY\n3       VNILLA\n4        CHOCO\n        ...   \n203     VNILLA\n204      CHOCO\n205       LMON\n206    STBERRY\n207     VNILLA\nName: Flavor, Length: 208, dtype: category\nCategories (4, object): ['CHOCO', 'LMON', 'STBERRY', 'VNILLA']"
     },
     "metadata": {}
    }
   ],
   "execution_count": 26
  },
  {
   "cell_type": "markdown",
   "source": "### pd.Categorical()",
   "metadata": {
    "tags": [],
    "is_collapsed": false,
    "cell_id": "00074-60fae0d5-3b44-4694-8da7-3f314e5799a5",
    "deepnote_cell_type": "text-cell-h3"
   }
  },
  {
   "cell_type": "markdown",
   "source": "We can also use Categorical() function to convert to categorical data type in pandas.",
   "metadata": {
    "tags": [],
    "is_collapsed": false,
    "cell_id": "00080-c0a2b808-3d14-45af-abff-1e1c5c0171b5",
    "deepnote_cell_type": "text-cell-p"
   }
  },
  {
   "cell_type": "code",
   "source": "# copy data\nflavors_cpy_1=flavors.copy()\nflavors_cpy_1.head()",
   "metadata": {
    "tags": [],
    "cell_id": "00081-63c2dc35-cef0-402c-a674-267bb8bfb783",
    "deepnote_to_be_reexecuted": false,
    "source_hash": "5ce1583a",
    "execution_start": 1637404190758,
    "execution_millis": 45,
    "deepnote_cell_type": "code"
   },
   "outputs": [
    {
     "output_type": "execute_result",
     "execution_count": 27,
     "data": {
      "application/vnd.deepnote.dataframe.v2+json": {
       "row_count": 5,
       "column_count": 4,
       "columns": [
        {
         "name": "week",
         "dtype": "int64",
         "stats": {
          "unique_count": 2,
          "nan_count": 0,
          "min": "1",
          "max": "2",
          "histogram": [
           {
            "bin_start": 1,
            "bin_end": 1.1,
            "count": 4
           },
           {
            "bin_start": 1.1,
            "bin_end": 1.2,
            "count": 0
           },
           {
            "bin_start": 1.2,
            "bin_end": 1.3,
            "count": 0
           },
           {
            "bin_start": 1.3,
            "bin_end": 1.4,
            "count": 0
           },
           {
            "bin_start": 1.4,
            "bin_end": 1.5,
            "count": 0
           },
           {
            "bin_start": 1.5,
            "bin_end": 1.6,
            "count": 0
           },
           {
            "bin_start": 1.6,
            "bin_end": 1.7000000000000002,
            "count": 0
           },
           {
            "bin_start": 1.7000000000000002,
            "bin_end": 1.8,
            "count": 0
           },
           {
            "bin_start": 1.8,
            "bin_end": 1.9,
            "count": 0
           },
           {
            "bin_start": 1.9,
            "bin_end": 2,
            "count": 1
           }
          ]
         }
        },
        {
         "name": "Flavor",
         "dtype": "object",
         "stats": {
          "unique_count": 4,
          "nan_count": 0,
          "categories": [
           {
            "name": "chocolate",
            "count": 2
           },
           {
            "name": "lemon",
            "count": 1
           },
           {
            "name": "2 others",
            "count": 2
           }
          ]
         }
        },
        {
         "name": "icreamsold",
         "dtype": "int64",
         "stats": {
          "unique_count": 4,
          "nan_count": 0,
          "min": "6",
          "max": "16",
          "histogram": [
           {
            "bin_start": 6,
            "bin_end": 7,
            "count": 2
           },
           {
            "bin_start": 7,
            "bin_end": 8,
            "count": 0
           },
           {
            "bin_start": 8,
            "bin_end": 9,
            "count": 0
           },
           {
            "bin_start": 9,
            "bin_end": 10,
            "count": 0
           },
           {
            "bin_start": 10,
            "bin_end": 11,
            "count": 0
           },
           {
            "bin_start": 11,
            "bin_end": 12,
            "count": 0
           },
           {
            "bin_start": 12,
            "bin_end": 13,
            "count": 1
           },
           {
            "bin_start": 13,
            "bin_end": 14,
            "count": 0
           },
           {
            "bin_start": 14,
            "bin_end": 15,
            "count": 0
           },
           {
            "bin_start": 15,
            "bin_end": 16,
            "count": 2
           }
          ]
         }
        },
        {
         "name": "smoothesold",
         "dtype": "int64",
         "stats": {
          "unique_count": 5,
          "nan_count": 0,
          "min": "2",
          "max": "14",
          "histogram": [
           {
            "bin_start": 2,
            "bin_end": 3.2,
            "count": 2
           },
           {
            "bin_start": 3.2,
            "bin_end": 4.4,
            "count": 0
           },
           {
            "bin_start": 4.4,
            "bin_end": 5.6,
            "count": 1
           },
           {
            "bin_start": 5.6,
            "bin_end": 6.8,
            "count": 0
           },
           {
            "bin_start": 6.8,
            "bin_end": 8,
            "count": 0
           },
           {
            "bin_start": 8,
            "bin_end": 9.2,
            "count": 0
           },
           {
            "bin_start": 9.2,
            "bin_end": 10.4,
            "count": 1
           },
           {
            "bin_start": 10.4,
            "bin_end": 11.6,
            "count": 0
           },
           {
            "bin_start": 11.6,
            "bin_end": 12.799999999999999,
            "count": 0
           },
           {
            "bin_start": 12.799999999999999,
            "bin_end": 14,
            "count": 1
           }
          ]
         }
        },
        {
         "name": "_deepnote_index_column",
         "dtype": "int64"
        }
       ],
       "rows_top": [
        {
         "week": 1,
         "Flavor": "chocolate",
         "icreamsold": 6,
         "smoothesold": 5,
         "_deepnote_index_column": 0
        },
        {
         "week": 1,
         "Flavor": "lemon",
         "icreamsold": 15,
         "smoothesold": 3,
         "_deepnote_index_column": 1
        },
        {
         "week": 1,
         "Flavor": "strawberry",
         "icreamsold": 12,
         "smoothesold": 10,
         "_deepnote_index_column": 2
        },
        {
         "week": 1,
         "Flavor": "vanilla",
         "icreamsold": 6,
         "smoothesold": 2,
         "_deepnote_index_column": 3
        },
        {
         "week": 2,
         "Flavor": "chocolate",
         "icreamsold": 16,
         "smoothesold": 14,
         "_deepnote_index_column": 4
        }
       ],
       "rows_bottom": null
      },
      "text/plain": "   week      Flavor  icreamsold  smoothesold\n0     1   chocolate           6            5\n1     1       lemon          15            3\n2     1  strawberry          12           10\n3     1     vanilla           6            2\n4     2   chocolate          16           14",
      "text/html": "<div>\n<style scoped>\n    .dataframe tbody tr th:only-of-type {\n        vertical-align: middle;\n    }\n\n    .dataframe tbody tr th {\n        vertical-align: top;\n    }\n\n    .dataframe thead th {\n        text-align: right;\n    }\n</style>\n<table border=\"1\" class=\"dataframe\">\n  <thead>\n    <tr style=\"text-align: right;\">\n      <th></th>\n      <th>week</th>\n      <th>Flavor</th>\n      <th>icreamsold</th>\n      <th>smoothesold</th>\n    </tr>\n  </thead>\n  <tbody>\n    <tr>\n      <th>0</th>\n      <td>1</td>\n      <td>chocolate</td>\n      <td>6</td>\n      <td>5</td>\n    </tr>\n    <tr>\n      <th>1</th>\n      <td>1</td>\n      <td>lemon</td>\n      <td>15</td>\n      <td>3</td>\n    </tr>\n    <tr>\n      <th>2</th>\n      <td>1</td>\n      <td>strawberry</td>\n      <td>12</td>\n      <td>10</td>\n    </tr>\n    <tr>\n      <th>3</th>\n      <td>1</td>\n      <td>vanilla</td>\n      <td>6</td>\n      <td>2</td>\n    </tr>\n    <tr>\n      <th>4</th>\n      <td>2</td>\n      <td>chocolate</td>\n      <td>16</td>\n      <td>14</td>\n    </tr>\n  </tbody>\n</table>\n</div>"
     },
     "metadata": {}
    }
   ],
   "execution_count": 27
  },
  {
   "cell_type": "code",
   "source": "# convert Flavor to categorical data type\nflv= pd.Categorical(flavors_cpy_1['Flavor'])\nprint(flv)",
   "metadata": {
    "tags": [],
    "cell_id": "00082-4a67772c-03ad-4a63-aefb-8e7b0093228c",
    "deepnote_to_be_reexecuted": false,
    "source_hash": "9410dd49",
    "execution_start": 1637404190802,
    "execution_millis": 1,
    "deepnote_cell_type": "code"
   },
   "outputs": [
    {
     "name": "stdout",
     "text": "['chocolate', 'lemon', 'strawberry', 'vanilla', 'chocolate', ..., 'vanilla', 'chocolate', 'lemon', 'strawberry', 'vanilla']\nLength: 208\nCategories (4, object): ['chocolate', 'lemon', 'strawberry', 'vanilla']\n",
     "output_type": "stream"
    }
   ],
   "execution_count": 28
  },
  {
   "cell_type": "markdown",
   "source": "# Working with missing values",
   "metadata": {
    "tags": [],
    "is_collapsed": false,
    "cell_id": "00072-476017bc-1175-402a-885d-934bfea99a65",
    "deepnote_cell_type": "text-cell-h1"
   }
  },
  {
   "cell_type": "markdown",
   "source": " It is a very big problem in a real-life scenarios. There may be missing values in a dataset because it exists and was not collected or it never existed. For example, some users may choose not to share their income or some users may choose not to share the address. In this way, many datasets went missing. In pandas, missing data can be represented by two values: None and NaN",
   "metadata": {
    "tags": [],
    "is_collapsed": false,
    "cell_id": "00074-689b8247-3b57-4d71-bc8c-612a1387c5b3",
    "deepnote_cell_type": "text-cell-p"
   }
  },
  {
   "cell_type": "markdown",
   "source": "None is a Python singleton object that is often used for missing data in Python code.",
   "metadata": {
    "tags": [],
    "is_collapsed": false,
    "cell_id": "00077-abeb8bf4-f90f-4b9d-90ca-2e4e787fa45a",
    "deepnote_cell_type": "text-cell-p"
   }
  },
  {
   "cell_type": "markdown",
   "source": "&nbsp;NaN (an acronym for Not a Number), is a special floating-point value recognized by all systems that use the standard IEEE floating-point representation.",
   "metadata": {
    "tags": [],
    "is_collapsed": false,
    "cell_id": "00078-34ae29f4-bdd4-4f4b-98b4-929a0c7277c5",
    "deepnote_cell_type": "text-cell-p"
   }
  },
  {
   "cell_type": "markdown",
   "source": "We can handle the missing values generally in these methods: filling or dropping. And pandas supports functions for these. Pandas also support to check whether the data sets has missing values or not.",
   "metadata": {
    "tags": [],
    "is_collapsed": false,
    "cell_id": "00076-aeeb0594-18f6-4c18-a296-4ad4cef2826e",
    "deepnote_cell_type": "text-cell-p"
   }
  },
  {
   "cell_type": "markdown",
   "source": "There are several useful functions for detecting, removing, and replacing null values in Pandas DataFrame :isnull(),notnull(),dropna(),fillna(),replace(),nterpolate(). ",
   "metadata": {
    "tags": [],
    "is_collapsed": false,
    "cell_id": "00076-5f44d5e4-8b75-43d5-9dda-d16c2059a4cb",
    "deepnote_cell_type": "text-cell-p"
   }
  },
  {
   "cell_type": "markdown",
   "source": "### Checking for missing values uisng isnull() and notnull()",
   "metadata": {
    "tags": [],
    "is_collapsed": false,
    "cell_id": "00079-72151ba5-9f6a-4c6c-bebe-d7c4391149c1",
    "deepnote_cell_type": "text-cell-h3"
   }
  },
  {
   "cell_type": "markdown",
   "source": "To check missing values in Pandas DataFrame, pandas suppports isnull() and notnull() functions. Both functions can help in checking whether a value is NaN or not. ",
   "metadata": {
    "tags": [],
    "is_collapsed": false,
    "cell_id": "00106-fdb7e6e9-a655-459e-862d-a1b1a5c45798",
    "deepnote_cell_type": "text-cell-p"
   }
  },
  {
   "cell_type": "markdown",
   "source": "Now, let's create the dataset first.",
   "metadata": {
    "tags": [],
    "is_collapsed": false,
    "cell_id": "00107-9f17e78d-a07f-4286-90f5-7efc51fae1a6",
    "deepnote_cell_type": "text-cell-p"
   }
  },
  {
   "cell_type": "code",
   "source": "#import libraries\nimport pandas as pd\nimport numpy as np\n\n#dictionary lists\ndict={'Day1':[50,100,np.nan,75],'Day2':[30,25,40,np.nan],'Day3':[np.nan,40,70,95]}\n\n# change to dataframe\nDF=pd.DataFrame(dict)\n\nDF",
   "metadata": {
    "tags": [],
    "cell_id": "00108-afb5ad20-999a-4f52-8a48-0b7c632a8ed5",
    "deepnote_to_be_reexecuted": false,
    "source_hash": "993f2472",
    "execution_start": 1637404652723,
    "execution_millis": 4,
    "deepnote_cell_type": "code"
   },
   "outputs": [
    {
     "output_type": "execute_result",
     "execution_count": 29,
     "data": {
      "application/vnd.deepnote.dataframe.v2+json": {
       "row_count": 4,
       "column_count": 3,
       "columns": [
        {
         "name": "Day1",
         "dtype": "float64",
         "stats": {
          "unique_count": 3,
          "nan_count": 1,
          "min": "50.0",
          "max": "100.0",
          "histogram": [
           {
            "bin_start": 50,
            "bin_end": 55,
            "count": 1
           },
           {
            "bin_start": 55,
            "bin_end": 60,
            "count": 0
           },
           {
            "bin_start": 60,
            "bin_end": 65,
            "count": 0
           },
           {
            "bin_start": 65,
            "bin_end": 70,
            "count": 0
           },
           {
            "bin_start": 70,
            "bin_end": 75,
            "count": 0
           },
           {
            "bin_start": 75,
            "bin_end": 80,
            "count": 1
           },
           {
            "bin_start": 80,
            "bin_end": 85,
            "count": 0
           },
           {
            "bin_start": 85,
            "bin_end": 90,
            "count": 0
           },
           {
            "bin_start": 90,
            "bin_end": 95,
            "count": 0
           },
           {
            "bin_start": 95,
            "bin_end": 100,
            "count": 1
           }
          ]
         }
        },
        {
         "name": "Day2",
         "dtype": "float64",
         "stats": {
          "unique_count": 3,
          "nan_count": 1,
          "min": "25.0",
          "max": "40.0",
          "histogram": [
           {
            "bin_start": 25,
            "bin_end": 26.5,
            "count": 1
           },
           {
            "bin_start": 26.5,
            "bin_end": 28,
            "count": 0
           },
           {
            "bin_start": 28,
            "bin_end": 29.5,
            "count": 0
           },
           {
            "bin_start": 29.5,
            "bin_end": 31,
            "count": 1
           },
           {
            "bin_start": 31,
            "bin_end": 32.5,
            "count": 0
           },
           {
            "bin_start": 32.5,
            "bin_end": 34,
            "count": 0
           },
           {
            "bin_start": 34,
            "bin_end": 35.5,
            "count": 0
           },
           {
            "bin_start": 35.5,
            "bin_end": 37,
            "count": 0
           },
           {
            "bin_start": 37,
            "bin_end": 38.5,
            "count": 0
           },
           {
            "bin_start": 38.5,
            "bin_end": 40,
            "count": 1
           }
          ]
         }
        },
        {
         "name": "Day3",
         "dtype": "float64",
         "stats": {
          "unique_count": 3,
          "nan_count": 1,
          "min": "40.0",
          "max": "95.0",
          "histogram": [
           {
            "bin_start": 40,
            "bin_end": 45.5,
            "count": 1
           },
           {
            "bin_start": 45.5,
            "bin_end": 51,
            "count": 0
           },
           {
            "bin_start": 51,
            "bin_end": 56.5,
            "count": 0
           },
           {
            "bin_start": 56.5,
            "bin_end": 62,
            "count": 0
           },
           {
            "bin_start": 62,
            "bin_end": 67.5,
            "count": 0
           },
           {
            "bin_start": 67.5,
            "bin_end": 73,
            "count": 1
           },
           {
            "bin_start": 73,
            "bin_end": 78.5,
            "count": 0
           },
           {
            "bin_start": 78.5,
            "bin_end": 84,
            "count": 0
           },
           {
            "bin_start": 84,
            "bin_end": 89.5,
            "count": 0
           },
           {
            "bin_start": 89.5,
            "bin_end": 95,
            "count": 1
           }
          ]
         }
        },
        {
         "name": "_deepnote_index_column",
         "dtype": "int64"
        }
       ],
       "rows_top": [
        {
         "Day1": 50,
         "Day2": 30,
         "Day3": "nan",
         "_deepnote_index_column": 0
        },
        {
         "Day1": 100,
         "Day2": 25,
         "Day3": 40,
         "_deepnote_index_column": 1
        },
        {
         "Day1": "nan",
         "Day2": 40,
         "Day3": 70,
         "_deepnote_index_column": 2
        },
        {
         "Day1": 75,
         "Day2": "nan",
         "Day3": 95,
         "_deepnote_index_column": 3
        }
       ],
       "rows_bottom": null
      },
      "text/plain": "    Day1  Day2  Day3\n0   50.0  30.0   NaN\n1  100.0  25.0  40.0\n2    NaN  40.0  70.0\n3   75.0   NaN  95.0",
      "text/html": "<div>\n<style scoped>\n    .dataframe tbody tr th:only-of-type {\n        vertical-align: middle;\n    }\n\n    .dataframe tbody tr th {\n        vertical-align: top;\n    }\n\n    .dataframe thead th {\n        text-align: right;\n    }\n</style>\n<table border=\"1\" class=\"dataframe\">\n  <thead>\n    <tr style=\"text-align: right;\">\n      <th></th>\n      <th>Day1</th>\n      <th>Day2</th>\n      <th>Day3</th>\n    </tr>\n  </thead>\n  <tbody>\n    <tr>\n      <th>0</th>\n      <td>50.0</td>\n      <td>30.0</td>\n      <td>NaN</td>\n    </tr>\n    <tr>\n      <th>1</th>\n      <td>100.0</td>\n      <td>25.0</td>\n      <td>40.0</td>\n    </tr>\n    <tr>\n      <th>2</th>\n      <td>NaN</td>\n      <td>40.0</td>\n      <td>70.0</td>\n    </tr>\n    <tr>\n      <th>3</th>\n      <td>75.0</td>\n      <td>NaN</td>\n      <td>95.0</td>\n    </tr>\n  </tbody>\n</table>\n</div>"
     },
     "metadata": {}
    }
   ],
   "execution_count": 29
  },
  {
   "cell_type": "code",
   "source": "#checking null values\nDF.isnull()",
   "metadata": {
    "tags": [],
    "cell_id": "00109-d1b6c005-661f-43ae-a3d5-67435ffd51b2",
    "deepnote_to_be_reexecuted": false,
    "source_hash": "e9bd2fe8",
    "execution_start": 1637404736327,
    "execution_millis": 4,
    "deepnote_cell_type": "code"
   },
   "outputs": [
    {
     "output_type": "execute_result",
     "execution_count": 30,
     "data": {
      "application/vnd.deepnote.dataframe.v2+json": {
       "row_count": 4,
       "column_count": 3,
       "columns": [
        {
         "name": "Day1",
         "dtype": "bool",
         "stats": {
          "unique_count": 2,
          "nan_count": 0,
          "categories": [
           {
            "name": "False",
            "count": 3
           },
           {
            "name": "True",
            "count": 1
           }
          ]
         }
        },
        {
         "name": "Day2",
         "dtype": "bool",
         "stats": {
          "unique_count": 2,
          "nan_count": 0,
          "categories": [
           {
            "name": "False",
            "count": 3
           },
           {
            "name": "True",
            "count": 1
           }
          ]
         }
        },
        {
         "name": "Day3",
         "dtype": "bool",
         "stats": {
          "unique_count": 2,
          "nan_count": 0,
          "categories": [
           {
            "name": "False",
            "count": 3
           },
           {
            "name": "True",
            "count": 1
           }
          ]
         }
        },
        {
         "name": "_deepnote_index_column",
         "dtype": "int64"
        }
       ],
       "rows_top": [
        {
         "Day1": false,
         "Day2": false,
         "Day3": true,
         "_deepnote_index_column": 0
        },
        {
         "Day1": false,
         "Day2": false,
         "Day3": false,
         "_deepnote_index_column": 1
        },
        {
         "Day1": true,
         "Day2": false,
         "Day3": false,
         "_deepnote_index_column": 2
        },
        {
         "Day1": false,
         "Day2": true,
         "Day3": false,
         "_deepnote_index_column": 3
        }
       ],
       "rows_bottom": null
      },
      "text/plain": "    Day1   Day2   Day3\n0  False  False   True\n1  False  False  False\n2   True  False  False\n3  False   True  False",
      "text/html": "<div>\n<style scoped>\n    .dataframe tbody tr th:only-of-type {\n        vertical-align: middle;\n    }\n\n    .dataframe tbody tr th {\n        vertical-align: top;\n    }\n\n    .dataframe thead th {\n        text-align: right;\n    }\n</style>\n<table border=\"1\" class=\"dataframe\">\n  <thead>\n    <tr style=\"text-align: right;\">\n      <th></th>\n      <th>Day1</th>\n      <th>Day2</th>\n      <th>Day3</th>\n    </tr>\n  </thead>\n  <tbody>\n    <tr>\n      <th>0</th>\n      <td>False</td>\n      <td>False</td>\n      <td>True</td>\n    </tr>\n    <tr>\n      <th>1</th>\n      <td>False</td>\n      <td>False</td>\n      <td>False</td>\n    </tr>\n    <tr>\n      <th>2</th>\n      <td>True</td>\n      <td>False</td>\n      <td>False</td>\n    </tr>\n    <tr>\n      <th>3</th>\n      <td>False</td>\n      <td>True</td>\n      <td>False</td>\n    </tr>\n  </tbody>\n</table>\n</div>"
     },
     "metadata": {}
    }
   ],
   "execution_count": 30
  },
  {
   "cell_type": "markdown",
   "source": "Here, we can see  if the data is not null, it said 'false' and if it is null, it shows 'true'/",
   "metadata": {
    "tags": [],
    "is_collapsed": false,
    "cell_id": "00110-55c0c043-9ec2-4772-9c03-831304206661",
    "deepnote_cell_type": "text-cell-p"
   }
  },
  {
   "cell_type": "code",
   "source": "# checking the values are not null\nDF.notnull()",
   "metadata": {
    "tags": [],
    "cell_id": "00110-4793e0f4-b99b-4a53-be0c-804a4a292cf7",
    "deepnote_to_be_reexecuted": false,
    "source_hash": "e505dcda",
    "execution_start": 1637404818198,
    "execution_millis": 2,
    "deepnote_cell_type": "code"
   },
   "outputs": [
    {
     "output_type": "execute_result",
     "execution_count": 31,
     "data": {
      "application/vnd.deepnote.dataframe.v2+json": {
       "row_count": 4,
       "column_count": 3,
       "columns": [
        {
         "name": "Day1",
         "dtype": "bool",
         "stats": {
          "unique_count": 2,
          "nan_count": 0,
          "categories": [
           {
            "name": "True",
            "count": 3
           },
           {
            "name": "False",
            "count": 1
           }
          ]
         }
        },
        {
         "name": "Day2",
         "dtype": "bool",
         "stats": {
          "unique_count": 2,
          "nan_count": 0,
          "categories": [
           {
            "name": "True",
            "count": 3
           },
           {
            "name": "False",
            "count": 1
           }
          ]
         }
        },
        {
         "name": "Day3",
         "dtype": "bool",
         "stats": {
          "unique_count": 2,
          "nan_count": 0,
          "categories": [
           {
            "name": "True",
            "count": 3
           },
           {
            "name": "False",
            "count": 1
           }
          ]
         }
        },
        {
         "name": "_deepnote_index_column",
         "dtype": "int64"
        }
       ],
       "rows_top": [
        {
         "Day1": true,
         "Day2": true,
         "Day3": false,
         "_deepnote_index_column": 0
        },
        {
         "Day1": true,
         "Day2": true,
         "Day3": true,
         "_deepnote_index_column": 1
        },
        {
         "Day1": false,
         "Day2": true,
         "Day3": true,
         "_deepnote_index_column": 2
        },
        {
         "Day1": true,
         "Day2": false,
         "Day3": true,
         "_deepnote_index_column": 3
        }
       ],
       "rows_bottom": null
      },
      "text/plain": "    Day1   Day2   Day3\n0   True   True  False\n1   True   True   True\n2  False   True   True\n3   True  False   True",
      "text/html": "<div>\n<style scoped>\n    .dataframe tbody tr th:only-of-type {\n        vertical-align: middle;\n    }\n\n    .dataframe tbody tr th {\n        vertical-align: top;\n    }\n\n    .dataframe thead th {\n        text-align: right;\n    }\n</style>\n<table border=\"1\" class=\"dataframe\">\n  <thead>\n    <tr style=\"text-align: right;\">\n      <th></th>\n      <th>Day1</th>\n      <th>Day2</th>\n      <th>Day3</th>\n    </tr>\n  </thead>\n  <tbody>\n    <tr>\n      <th>0</th>\n      <td>True</td>\n      <td>True</td>\n      <td>False</td>\n    </tr>\n    <tr>\n      <th>1</th>\n      <td>True</td>\n      <td>True</td>\n      <td>True</td>\n    </tr>\n    <tr>\n      <th>2</th>\n      <td>False</td>\n      <td>True</td>\n      <td>True</td>\n    </tr>\n    <tr>\n      <th>3</th>\n      <td>True</td>\n      <td>False</td>\n      <td>True</td>\n    </tr>\n  </tbody>\n</table>\n</div>"
     },
     "metadata": {}
    }
   ],
   "execution_count": 31
  },
  {
   "cell_type": "markdown",
   "source": "notnull() function works reverse from isnull(). It returns 'true' if the value is not null and returns 'false' if it is null.",
   "metadata": {
    "tags": [],
    "is_collapsed": false,
    "cell_id": "00112-cdb34b98-09b1-4de4-8b51-39353659e345",
    "deepnote_cell_type": "text-cell-p"
   }
  },
  {
   "cell_type": "markdown",
   "source": "### Dropping missing values using dropna()",
   "metadata": {
    "tags": [],
    "is_collapsed": false,
    "cell_id": "00079-8137ad3a-23e0-4004-966b-2f5c1ed7d6c2",
    "deepnote_cell_type": "text-cell-h3"
   }
  },
  {
   "cell_type": "markdown",
   "source": "We can drop rows which has at least one missing values by using dropna() function. ",
   "metadata": {
    "tags": [],
    "is_collapsed": false,
    "cell_id": "00114-d3427410-51a0-46d2-bff1-c547a8aa8a80",
    "deepnote_cell_type": "text-cell-p"
   }
  },
  {
   "cell_type": "code",
   "source": "#copy dataset\nDF1=DF.copy()\nDF1",
   "metadata": {
    "tags": [],
    "cell_id": "00115-4d408490-b52b-432f-8c4f-79e3e9653e06",
    "deepnote_to_be_reexecuted": false,
    "source_hash": "37fff429",
    "execution_start": 1637405181189,
    "execution_millis": 9,
    "deepnote_cell_type": "code"
   },
   "outputs": [
    {
     "output_type": "execute_result",
     "execution_count": 33,
     "data": {
      "application/vnd.deepnote.dataframe.v2+json": {
       "row_count": 4,
       "column_count": 3,
       "columns": [
        {
         "name": "Day1",
         "dtype": "float64",
         "stats": {
          "unique_count": 3,
          "nan_count": 1,
          "min": "50.0",
          "max": "100.0",
          "histogram": [
           {
            "bin_start": 50,
            "bin_end": 55,
            "count": 1
           },
           {
            "bin_start": 55,
            "bin_end": 60,
            "count": 0
           },
           {
            "bin_start": 60,
            "bin_end": 65,
            "count": 0
           },
           {
            "bin_start": 65,
            "bin_end": 70,
            "count": 0
           },
           {
            "bin_start": 70,
            "bin_end": 75,
            "count": 0
           },
           {
            "bin_start": 75,
            "bin_end": 80,
            "count": 1
           },
           {
            "bin_start": 80,
            "bin_end": 85,
            "count": 0
           },
           {
            "bin_start": 85,
            "bin_end": 90,
            "count": 0
           },
           {
            "bin_start": 90,
            "bin_end": 95,
            "count": 0
           },
           {
            "bin_start": 95,
            "bin_end": 100,
            "count": 1
           }
          ]
         }
        },
        {
         "name": "Day2",
         "dtype": "float64",
         "stats": {
          "unique_count": 3,
          "nan_count": 1,
          "min": "25.0",
          "max": "40.0",
          "histogram": [
           {
            "bin_start": 25,
            "bin_end": 26.5,
            "count": 1
           },
           {
            "bin_start": 26.5,
            "bin_end": 28,
            "count": 0
           },
           {
            "bin_start": 28,
            "bin_end": 29.5,
            "count": 0
           },
           {
            "bin_start": 29.5,
            "bin_end": 31,
            "count": 1
           },
           {
            "bin_start": 31,
            "bin_end": 32.5,
            "count": 0
           },
           {
            "bin_start": 32.5,
            "bin_end": 34,
            "count": 0
           },
           {
            "bin_start": 34,
            "bin_end": 35.5,
            "count": 0
           },
           {
            "bin_start": 35.5,
            "bin_end": 37,
            "count": 0
           },
           {
            "bin_start": 37,
            "bin_end": 38.5,
            "count": 0
           },
           {
            "bin_start": 38.5,
            "bin_end": 40,
            "count": 1
           }
          ]
         }
        },
        {
         "name": "Day3",
         "dtype": "float64",
         "stats": {
          "unique_count": 3,
          "nan_count": 1,
          "min": "40.0",
          "max": "95.0",
          "histogram": [
           {
            "bin_start": 40,
            "bin_end": 45.5,
            "count": 1
           },
           {
            "bin_start": 45.5,
            "bin_end": 51,
            "count": 0
           },
           {
            "bin_start": 51,
            "bin_end": 56.5,
            "count": 0
           },
           {
            "bin_start": 56.5,
            "bin_end": 62,
            "count": 0
           },
           {
            "bin_start": 62,
            "bin_end": 67.5,
            "count": 0
           },
           {
            "bin_start": 67.5,
            "bin_end": 73,
            "count": 1
           },
           {
            "bin_start": 73,
            "bin_end": 78.5,
            "count": 0
           },
           {
            "bin_start": 78.5,
            "bin_end": 84,
            "count": 0
           },
           {
            "bin_start": 84,
            "bin_end": 89.5,
            "count": 0
           },
           {
            "bin_start": 89.5,
            "bin_end": 95,
            "count": 1
           }
          ]
         }
        },
        {
         "name": "_deepnote_index_column",
         "dtype": "int64"
        }
       ],
       "rows_top": [
        {
         "Day1": 50,
         "Day2": 30,
         "Day3": "nan",
         "_deepnote_index_column": 0
        },
        {
         "Day1": 100,
         "Day2": 25,
         "Day3": 40,
         "_deepnote_index_column": 1
        },
        {
         "Day1": "nan",
         "Day2": 40,
         "Day3": 70,
         "_deepnote_index_column": 2
        },
        {
         "Day1": 75,
         "Day2": "nan",
         "Day3": 95,
         "_deepnote_index_column": 3
        }
       ],
       "rows_bottom": null
      },
      "text/plain": "    Day1  Day2  Day3\n0   50.0  30.0   NaN\n1  100.0  25.0  40.0\n2    NaN  40.0  70.0\n3   75.0   NaN  95.0",
      "text/html": "<div>\n<style scoped>\n    .dataframe tbody tr th:only-of-type {\n        vertical-align: middle;\n    }\n\n    .dataframe tbody tr th {\n        vertical-align: top;\n    }\n\n    .dataframe thead th {\n        text-align: right;\n    }\n</style>\n<table border=\"1\" class=\"dataframe\">\n  <thead>\n    <tr style=\"text-align: right;\">\n      <th></th>\n      <th>Day1</th>\n      <th>Day2</th>\n      <th>Day3</th>\n    </tr>\n  </thead>\n  <tbody>\n    <tr>\n      <th>0</th>\n      <td>50.0</td>\n      <td>30.0</td>\n      <td>NaN</td>\n    </tr>\n    <tr>\n      <th>1</th>\n      <td>100.0</td>\n      <td>25.0</td>\n      <td>40.0</td>\n    </tr>\n    <tr>\n      <th>2</th>\n      <td>NaN</td>\n      <td>40.0</td>\n      <td>70.0</td>\n    </tr>\n    <tr>\n      <th>3</th>\n      <td>75.0</td>\n      <td>NaN</td>\n      <td>95.0</td>\n    </tr>\n  </tbody>\n</table>\n</div>"
     },
     "metadata": {}
    }
   ],
   "execution_count": 33
  },
  {
   "cell_type": "code",
   "source": "DF1.dropna()",
   "metadata": {
    "tags": [],
    "cell_id": "00116-0aa2e9e0-da7e-45ae-9ebc-91a5b6c1c8a2",
    "deepnote_to_be_reexecuted": false,
    "source_hash": "2358797",
    "execution_start": 1637405219516,
    "execution_millis": 7,
    "deepnote_cell_type": "code"
   },
   "outputs": [
    {
     "output_type": "execute_result",
     "execution_count": 34,
     "data": {
      "application/vnd.deepnote.dataframe.v2+json": {
       "row_count": 1,
       "column_count": 3,
       "columns": [
        {
         "name": "Day1",
         "dtype": "float64",
         "stats": {
          "unique_count": 1,
          "nan_count": 0,
          "min": "100.0",
          "max": "100.0",
          "histogram": [
           {
            "bin_start": 99.5,
            "bin_end": 99.6,
            "count": 0
           },
           {
            "bin_start": 99.6,
            "bin_end": 99.7,
            "count": 0
           },
           {
            "bin_start": 99.7,
            "bin_end": 99.8,
            "count": 0
           },
           {
            "bin_start": 99.8,
            "bin_end": 99.9,
            "count": 0
           },
           {
            "bin_start": 99.9,
            "bin_end": 100,
            "count": 0
           },
           {
            "bin_start": 100,
            "bin_end": 100.1,
            "count": 1
           },
           {
            "bin_start": 100.1,
            "bin_end": 100.2,
            "count": 0
           },
           {
            "bin_start": 100.2,
            "bin_end": 100.3,
            "count": 0
           },
           {
            "bin_start": 100.3,
            "bin_end": 100.4,
            "count": 0
           },
           {
            "bin_start": 100.4,
            "bin_end": 100.5,
            "count": 0
           }
          ]
         }
        },
        {
         "name": "Day2",
         "dtype": "float64",
         "stats": {
          "unique_count": 1,
          "nan_count": 0,
          "min": "25.0",
          "max": "25.0",
          "histogram": [
           {
            "bin_start": 24.5,
            "bin_end": 24.6,
            "count": 0
           },
           {
            "bin_start": 24.6,
            "bin_end": 24.7,
            "count": 0
           },
           {
            "bin_start": 24.7,
            "bin_end": 24.8,
            "count": 0
           },
           {
            "bin_start": 24.8,
            "bin_end": 24.9,
            "count": 0
           },
           {
            "bin_start": 24.9,
            "bin_end": 25,
            "count": 0
           },
           {
            "bin_start": 25,
            "bin_end": 25.1,
            "count": 1
           },
           {
            "bin_start": 25.1,
            "bin_end": 25.2,
            "count": 0
           },
           {
            "bin_start": 25.2,
            "bin_end": 25.3,
            "count": 0
           },
           {
            "bin_start": 25.3,
            "bin_end": 25.4,
            "count": 0
           },
           {
            "bin_start": 25.4,
            "bin_end": 25.5,
            "count": 0
           }
          ]
         }
        },
        {
         "name": "Day3",
         "dtype": "float64",
         "stats": {
          "unique_count": 1,
          "nan_count": 0,
          "min": "40.0",
          "max": "40.0",
          "histogram": [
           {
            "bin_start": 39.5,
            "bin_end": 39.6,
            "count": 0
           },
           {
            "bin_start": 39.6,
            "bin_end": 39.7,
            "count": 0
           },
           {
            "bin_start": 39.7,
            "bin_end": 39.8,
            "count": 0
           },
           {
            "bin_start": 39.8,
            "bin_end": 39.9,
            "count": 0
           },
           {
            "bin_start": 39.9,
            "bin_end": 40,
            "count": 0
           },
           {
            "bin_start": 40,
            "bin_end": 40.1,
            "count": 1
           },
           {
            "bin_start": 40.1,
            "bin_end": 40.2,
            "count": 0
           },
           {
            "bin_start": 40.2,
            "bin_end": 40.3,
            "count": 0
           },
           {
            "bin_start": 40.3,
            "bin_end": 40.4,
            "count": 0
           },
           {
            "bin_start": 40.4,
            "bin_end": 40.5,
            "count": 0
           }
          ]
         }
        },
        {
         "name": "_deepnote_index_column",
         "dtype": "int64"
        }
       ],
       "rows_top": [
        {
         "Day1": 100,
         "Day2": 25,
         "Day3": 40,
         "_deepnote_index_column": 1
        }
       ],
       "rows_bottom": null
      },
      "text/plain": "    Day1  Day2  Day3\n1  100.0  25.0  40.0",
      "text/html": "<div>\n<style scoped>\n    .dataframe tbody tr th:only-of-type {\n        vertical-align: middle;\n    }\n\n    .dataframe tbody tr th {\n        vertical-align: top;\n    }\n\n    .dataframe thead th {\n        text-align: right;\n    }\n</style>\n<table border=\"1\" class=\"dataframe\">\n  <thead>\n    <tr style=\"text-align: right;\">\n      <th></th>\n      <th>Day1</th>\n      <th>Day2</th>\n      <th>Day3</th>\n    </tr>\n  </thead>\n  <tbody>\n    <tr>\n      <th>1</th>\n      <td>100.0</td>\n      <td>25.0</td>\n      <td>40.0</td>\n    </tr>\n  </tbody>\n</table>\n</div>"
     },
     "metadata": {}
    }
   ],
   "execution_count": 34
  },
  {
   "cell_type": "markdown",
   "source": "Now, we can see that three rows which has nan values are dropped.",
   "metadata": {
    "tags": [],
    "is_collapsed": false,
    "cell_id": "00117-c967dd67-b04e-4539-9cb2-5288d1be995b",
    "deepnote_cell_type": "text-cell-p"
   }
  },
  {
   "cell_type": "markdown",
   "source": "### Filling missing values using fillna(), replace() and interpolate()",
   "metadata": {
    "tags": [],
    "is_collapsed": false,
    "cell_id": "00081-3599d8bb-7e70-403e-8415-a0341500e25c",
    "deepnote_cell_type": "text-cell-h3"
   }
  },
  {
   "cell_type": "markdown",
   "source": "However, dropping missing values is not a good idea for some cases. Sometimes, we might encounter a situation where we need to fill missing values to the dataset. For this case, we can use fillna(), replace() and interpolate() function. All of these function can replace NaN values with some value of their own. interpolate() function is basically used to fill NA values in the dataframe but it uses various interpolation technique to fill the missing values rather than hard-coding the value.",
   "metadata": {
    "tags": [],
    "is_collapsed": false,
    "cell_id": "00119-1e8d2432-fc15-43f0-a3ea-f7c95665ab00",
    "deepnote_cell_type": "text-cell-p"
   }
  },
  {
   "cell_type": "markdown",
   "source": "Using fillna() to filll with a single value",
   "metadata": {
    "tags": [],
    "is_collapsed": false,
    "cell_id": "00120-3716165b-289d-417b-843f-7c8137e622cf",
    "deepnote_cell_type": "text-cell-p"
   }
  },
  {
   "cell_type": "code",
   "source": "DF.fillna(0)\n",
   "metadata": {
    "tags": [],
    "cell_id": "00121-2f87bee3-7ed6-4a38-9c5f-779099351457",
    "deepnote_to_be_reexecuted": false,
    "source_hash": "5d5284be",
    "execution_start": 1637406127933,
    "execution_millis": 2,
    "deepnote_cell_type": "code"
   },
   "outputs": [
    {
     "output_type": "execute_result",
     "execution_count": 36,
     "data": {
      "application/vnd.deepnote.dataframe.v2+json": {
       "row_count": 4,
       "column_count": 3,
       "columns": [
        {
         "name": "Day1",
         "dtype": "float64",
         "stats": {
          "unique_count": 4,
          "nan_count": 0,
          "min": "0.0",
          "max": "100.0",
          "histogram": [
           {
            "bin_start": 0,
            "bin_end": 10,
            "count": 1
           },
           {
            "bin_start": 10,
            "bin_end": 20,
            "count": 0
           },
           {
            "bin_start": 20,
            "bin_end": 30,
            "count": 0
           },
           {
            "bin_start": 30,
            "bin_end": 40,
            "count": 0
           },
           {
            "bin_start": 40,
            "bin_end": 50,
            "count": 0
           },
           {
            "bin_start": 50,
            "bin_end": 60,
            "count": 1
           },
           {
            "bin_start": 60,
            "bin_end": 70,
            "count": 0
           },
           {
            "bin_start": 70,
            "bin_end": 80,
            "count": 1
           },
           {
            "bin_start": 80,
            "bin_end": 90,
            "count": 0
           },
           {
            "bin_start": 90,
            "bin_end": 100,
            "count": 1
           }
          ]
         }
        },
        {
         "name": "Day2",
         "dtype": "float64",
         "stats": {
          "unique_count": 4,
          "nan_count": 0,
          "min": "0.0",
          "max": "40.0",
          "histogram": [
           {
            "bin_start": 0,
            "bin_end": 4,
            "count": 1
           },
           {
            "bin_start": 4,
            "bin_end": 8,
            "count": 0
           },
           {
            "bin_start": 8,
            "bin_end": 12,
            "count": 0
           },
           {
            "bin_start": 12,
            "bin_end": 16,
            "count": 0
           },
           {
            "bin_start": 16,
            "bin_end": 20,
            "count": 0
           },
           {
            "bin_start": 20,
            "bin_end": 24,
            "count": 0
           },
           {
            "bin_start": 24,
            "bin_end": 28,
            "count": 1
           },
           {
            "bin_start": 28,
            "bin_end": 32,
            "count": 1
           },
           {
            "bin_start": 32,
            "bin_end": 36,
            "count": 0
           },
           {
            "bin_start": 36,
            "bin_end": 40,
            "count": 1
           }
          ]
         }
        },
        {
         "name": "Day3",
         "dtype": "float64",
         "stats": {
          "unique_count": 4,
          "nan_count": 0,
          "min": "0.0",
          "max": "95.0",
          "histogram": [
           {
            "bin_start": 0,
            "bin_end": 9.5,
            "count": 1
           },
           {
            "bin_start": 9.5,
            "bin_end": 19,
            "count": 0
           },
           {
            "bin_start": 19,
            "bin_end": 28.5,
            "count": 0
           },
           {
            "bin_start": 28.5,
            "bin_end": 38,
            "count": 0
           },
           {
            "bin_start": 38,
            "bin_end": 47.5,
            "count": 1
           },
           {
            "bin_start": 47.5,
            "bin_end": 57,
            "count": 0
           },
           {
            "bin_start": 57,
            "bin_end": 66.5,
            "count": 0
           },
           {
            "bin_start": 66.5,
            "bin_end": 76,
            "count": 1
           },
           {
            "bin_start": 76,
            "bin_end": 85.5,
            "count": 0
           },
           {
            "bin_start": 85.5,
            "bin_end": 95,
            "count": 1
           }
          ]
         }
        },
        {
         "name": "_deepnote_index_column",
         "dtype": "int64"
        }
       ],
       "rows_top": [
        {
         "Day1": 50,
         "Day2": 30,
         "Day3": 0,
         "_deepnote_index_column": 0
        },
        {
         "Day1": 100,
         "Day2": 25,
         "Day3": 40,
         "_deepnote_index_column": 1
        },
        {
         "Day1": 0,
         "Day2": 40,
         "Day3": 70,
         "_deepnote_index_column": 2
        },
        {
         "Day1": 75,
         "Day2": 0,
         "Day3": 95,
         "_deepnote_index_column": 3
        }
       ],
       "rows_bottom": null
      },
      "text/plain": "    Day1  Day2  Day3\n0   50.0  30.0   0.0\n1  100.0  25.0  40.0\n2    0.0  40.0  70.0\n3   75.0   0.0  95.0",
      "text/html": "<div>\n<style scoped>\n    .dataframe tbody tr th:only-of-type {\n        vertical-align: middle;\n    }\n\n    .dataframe tbody tr th {\n        vertical-align: top;\n    }\n\n    .dataframe thead th {\n        text-align: right;\n    }\n</style>\n<table border=\"1\" class=\"dataframe\">\n  <thead>\n    <tr style=\"text-align: right;\">\n      <th></th>\n      <th>Day1</th>\n      <th>Day2</th>\n      <th>Day3</th>\n    </tr>\n  </thead>\n  <tbody>\n    <tr>\n      <th>0</th>\n      <td>50.0</td>\n      <td>30.0</td>\n      <td>0.0</td>\n    </tr>\n    <tr>\n      <th>1</th>\n      <td>100.0</td>\n      <td>25.0</td>\n      <td>40.0</td>\n    </tr>\n    <tr>\n      <th>2</th>\n      <td>0.0</td>\n      <td>40.0</td>\n      <td>70.0</td>\n    </tr>\n    <tr>\n      <th>3</th>\n      <td>75.0</td>\n      <td>0.0</td>\n      <td>95.0</td>\n    </tr>\n  </tbody>\n</table>\n</div>"
     },
     "metadata": {}
    }
   ],
   "execution_count": 36
  },
  {
   "cell_type": "markdown",
   "source": "Now, we can see that nan values are now filled with 0.",
   "metadata": {
    "tags": [],
    "is_collapsed": false,
    "cell_id": "00122-6c189fe6-d674-427c-95ed-abac09883c89",
    "deepnote_cell_type": "text-cell-p"
   }
  },
  {
   "cell_type": "markdown",
   "source": "Filling null values with previous one",
   "metadata": {
    "tags": [],
    "is_collapsed": false,
    "cell_id": "00122-12e1444c-b7cb-4c98-bf20-b7e83c2e7b07",
    "deepnote_cell_type": "text-cell-p"
   }
  },
  {
   "cell_type": "code",
   "source": "DF.fillna(method='pad')",
   "metadata": {
    "tags": [],
    "cell_id": "00123-d095c21e-8d90-4b2f-8948-e4ea9fa20943",
    "deepnote_to_be_reexecuted": false,
    "source_hash": "15ab070a",
    "execution_start": 1637406179693,
    "execution_millis": 17,
    "deepnote_cell_type": "code"
   },
   "outputs": [
    {
     "output_type": "execute_result",
     "execution_count": 37,
     "data": {
      "application/vnd.deepnote.dataframe.v2+json": {
       "row_count": 4,
       "column_count": 3,
       "columns": [
        {
         "name": "Day1",
         "dtype": "float64",
         "stats": {
          "unique_count": 3,
          "nan_count": 0,
          "min": "50.0",
          "max": "100.0",
          "histogram": [
           {
            "bin_start": 50,
            "bin_end": 55,
            "count": 1
           },
           {
            "bin_start": 55,
            "bin_end": 60,
            "count": 0
           },
           {
            "bin_start": 60,
            "bin_end": 65,
            "count": 0
           },
           {
            "bin_start": 65,
            "bin_end": 70,
            "count": 0
           },
           {
            "bin_start": 70,
            "bin_end": 75,
            "count": 0
           },
           {
            "bin_start": 75,
            "bin_end": 80,
            "count": 1
           },
           {
            "bin_start": 80,
            "bin_end": 85,
            "count": 0
           },
           {
            "bin_start": 85,
            "bin_end": 90,
            "count": 0
           },
           {
            "bin_start": 90,
            "bin_end": 95,
            "count": 0
           },
           {
            "bin_start": 95,
            "bin_end": 100,
            "count": 2
           }
          ]
         }
        },
        {
         "name": "Day2",
         "dtype": "float64",
         "stats": {
          "unique_count": 3,
          "nan_count": 0,
          "min": "25.0",
          "max": "40.0",
          "histogram": [
           {
            "bin_start": 25,
            "bin_end": 26.5,
            "count": 1
           },
           {
            "bin_start": 26.5,
            "bin_end": 28,
            "count": 0
           },
           {
            "bin_start": 28,
            "bin_end": 29.5,
            "count": 0
           },
           {
            "bin_start": 29.5,
            "bin_end": 31,
            "count": 1
           },
           {
            "bin_start": 31,
            "bin_end": 32.5,
            "count": 0
           },
           {
            "bin_start": 32.5,
            "bin_end": 34,
            "count": 0
           },
           {
            "bin_start": 34,
            "bin_end": 35.5,
            "count": 0
           },
           {
            "bin_start": 35.5,
            "bin_end": 37,
            "count": 0
           },
           {
            "bin_start": 37,
            "bin_end": 38.5,
            "count": 0
           },
           {
            "bin_start": 38.5,
            "bin_end": 40,
            "count": 2
           }
          ]
         }
        },
        {
         "name": "Day3",
         "dtype": "float64",
         "stats": {
          "unique_count": 3,
          "nan_count": 1,
          "min": "40.0",
          "max": "95.0",
          "histogram": [
           {
            "bin_start": 40,
            "bin_end": 45.5,
            "count": 1
           },
           {
            "bin_start": 45.5,
            "bin_end": 51,
            "count": 0
           },
           {
            "bin_start": 51,
            "bin_end": 56.5,
            "count": 0
           },
           {
            "bin_start": 56.5,
            "bin_end": 62,
            "count": 0
           },
           {
            "bin_start": 62,
            "bin_end": 67.5,
            "count": 0
           },
           {
            "bin_start": 67.5,
            "bin_end": 73,
            "count": 1
           },
           {
            "bin_start": 73,
            "bin_end": 78.5,
            "count": 0
           },
           {
            "bin_start": 78.5,
            "bin_end": 84,
            "count": 0
           },
           {
            "bin_start": 84,
            "bin_end": 89.5,
            "count": 0
           },
           {
            "bin_start": 89.5,
            "bin_end": 95,
            "count": 1
           }
          ]
         }
        },
        {
         "name": "_deepnote_index_column",
         "dtype": "int64"
        }
       ],
       "rows_top": [
        {
         "Day1": 50,
         "Day2": 30,
         "Day3": "nan",
         "_deepnote_index_column": 0
        },
        {
         "Day1": 100,
         "Day2": 25,
         "Day3": 40,
         "_deepnote_index_column": 1
        },
        {
         "Day1": 100,
         "Day2": 40,
         "Day3": 70,
         "_deepnote_index_column": 2
        },
        {
         "Day1": 75,
         "Day2": 40,
         "Day3": 95,
         "_deepnote_index_column": 3
        }
       ],
       "rows_bottom": null
      },
      "text/plain": "    Day1  Day2  Day3\n0   50.0  30.0   NaN\n1  100.0  25.0  40.0\n2  100.0  40.0  70.0\n3   75.0  40.0  95.0",
      "text/html": "<div>\n<style scoped>\n    .dataframe tbody tr th:only-of-type {\n        vertical-align: middle;\n    }\n\n    .dataframe tbody tr th {\n        vertical-align: top;\n    }\n\n    .dataframe thead th {\n        text-align: right;\n    }\n</style>\n<table border=\"1\" class=\"dataframe\">\n  <thead>\n    <tr style=\"text-align: right;\">\n      <th></th>\n      <th>Day1</th>\n      <th>Day2</th>\n      <th>Day3</th>\n    </tr>\n  </thead>\n  <tbody>\n    <tr>\n      <th>0</th>\n      <td>50.0</td>\n      <td>30.0</td>\n      <td>NaN</td>\n    </tr>\n    <tr>\n      <th>1</th>\n      <td>100.0</td>\n      <td>25.0</td>\n      <td>40.0</td>\n    </tr>\n    <tr>\n      <th>2</th>\n      <td>100.0</td>\n      <td>40.0</td>\n      <td>70.0</td>\n    </tr>\n    <tr>\n      <th>3</th>\n      <td>75.0</td>\n      <td>40.0</td>\n      <td>95.0</td>\n    </tr>\n  </tbody>\n</table>\n</div>"
     },
     "metadata": {}
    }
   ],
   "execution_count": 37
  },
  {
   "cell_type": "markdown",
   "source": "method argument can be used to describe fill method. 'pad' will fill nan values with its previous values. nan value of the first row is not filled because it is at the top of the column and  has no previous value.",
   "metadata": {
    "tags": [],
    "is_collapsed": false,
    "cell_id": "00125-8bd7c7d1-e19c-44d1-b6a2-c49ef0338a92",
    "deepnote_cell_type": "text-cell-p"
   }
  },
  {
   "cell_type": "markdown",
   "source": "Now, let's see more how to fill with next values.",
   "metadata": {
    "tags": [],
    "is_collapsed": false,
    "cell_id": "00126-c9b94097-69a6-4ec9-9959-2b2d5d4f59ef",
    "deepnote_cell_type": "text-cell-p"
   }
  },
  {
   "cell_type": "code",
   "source": "DF.fillna(method='bfill')",
   "metadata": {
    "tags": [],
    "cell_id": "00127-b9747ec5-75e9-4d2f-a9c7-25350bb867e6",
    "deepnote_to_be_reexecuted": false,
    "source_hash": "a278569b",
    "execution_start": 1637406462883,
    "execution_millis": 10,
    "deepnote_cell_type": "code"
   },
   "outputs": [
    {
     "output_type": "execute_result",
     "execution_count": 38,
     "data": {
      "application/vnd.deepnote.dataframe.v2+json": {
       "row_count": 4,
       "column_count": 3,
       "columns": [
        {
         "name": "Day1",
         "dtype": "float64",
         "stats": {
          "unique_count": 3,
          "nan_count": 0,
          "min": "50.0",
          "max": "100.0",
          "histogram": [
           {
            "bin_start": 50,
            "bin_end": 55,
            "count": 1
           },
           {
            "bin_start": 55,
            "bin_end": 60,
            "count": 0
           },
           {
            "bin_start": 60,
            "bin_end": 65,
            "count": 0
           },
           {
            "bin_start": 65,
            "bin_end": 70,
            "count": 0
           },
           {
            "bin_start": 70,
            "bin_end": 75,
            "count": 0
           },
           {
            "bin_start": 75,
            "bin_end": 80,
            "count": 2
           },
           {
            "bin_start": 80,
            "bin_end": 85,
            "count": 0
           },
           {
            "bin_start": 85,
            "bin_end": 90,
            "count": 0
           },
           {
            "bin_start": 90,
            "bin_end": 95,
            "count": 0
           },
           {
            "bin_start": 95,
            "bin_end": 100,
            "count": 1
           }
          ]
         }
        },
        {
         "name": "Day2",
         "dtype": "float64",
         "stats": {
          "unique_count": 3,
          "nan_count": 1,
          "min": "25.0",
          "max": "40.0",
          "histogram": [
           {
            "bin_start": 25,
            "bin_end": 26.5,
            "count": 1
           },
           {
            "bin_start": 26.5,
            "bin_end": 28,
            "count": 0
           },
           {
            "bin_start": 28,
            "bin_end": 29.5,
            "count": 0
           },
           {
            "bin_start": 29.5,
            "bin_end": 31,
            "count": 1
           },
           {
            "bin_start": 31,
            "bin_end": 32.5,
            "count": 0
           },
           {
            "bin_start": 32.5,
            "bin_end": 34,
            "count": 0
           },
           {
            "bin_start": 34,
            "bin_end": 35.5,
            "count": 0
           },
           {
            "bin_start": 35.5,
            "bin_end": 37,
            "count": 0
           },
           {
            "bin_start": 37,
            "bin_end": 38.5,
            "count": 0
           },
           {
            "bin_start": 38.5,
            "bin_end": 40,
            "count": 1
           }
          ]
         }
        },
        {
         "name": "Day3",
         "dtype": "float64",
         "stats": {
          "unique_count": 3,
          "nan_count": 0,
          "min": "40.0",
          "max": "95.0",
          "histogram": [
           {
            "bin_start": 40,
            "bin_end": 45.5,
            "count": 2
           },
           {
            "bin_start": 45.5,
            "bin_end": 51,
            "count": 0
           },
           {
            "bin_start": 51,
            "bin_end": 56.5,
            "count": 0
           },
           {
            "bin_start": 56.5,
            "bin_end": 62,
            "count": 0
           },
           {
            "bin_start": 62,
            "bin_end": 67.5,
            "count": 0
           },
           {
            "bin_start": 67.5,
            "bin_end": 73,
            "count": 1
           },
           {
            "bin_start": 73,
            "bin_end": 78.5,
            "count": 0
           },
           {
            "bin_start": 78.5,
            "bin_end": 84,
            "count": 0
           },
           {
            "bin_start": 84,
            "bin_end": 89.5,
            "count": 0
           },
           {
            "bin_start": 89.5,
            "bin_end": 95,
            "count": 1
           }
          ]
         }
        },
        {
         "name": "_deepnote_index_column",
         "dtype": "int64"
        }
       ],
       "rows_top": [
        {
         "Day1": 50,
         "Day2": 30,
         "Day3": 40,
         "_deepnote_index_column": 0
        },
        {
         "Day1": 100,
         "Day2": 25,
         "Day3": 40,
         "_deepnote_index_column": 1
        },
        {
         "Day1": 75,
         "Day2": 40,
         "Day3": 70,
         "_deepnote_index_column": 2
        },
        {
         "Day1": 75,
         "Day2": "nan",
         "Day3": 95,
         "_deepnote_index_column": 3
        }
       ],
       "rows_bottom": null
      },
      "text/plain": "    Day1  Day2  Day3\n0   50.0  30.0  40.0\n1  100.0  25.0  40.0\n2   75.0  40.0  70.0\n3   75.0   NaN  95.0",
      "text/html": "<div>\n<style scoped>\n    .dataframe tbody tr th:only-of-type {\n        vertical-align: middle;\n    }\n\n    .dataframe tbody tr th {\n        vertical-align: top;\n    }\n\n    .dataframe thead th {\n        text-align: right;\n    }\n</style>\n<table border=\"1\" class=\"dataframe\">\n  <thead>\n    <tr style=\"text-align: right;\">\n      <th></th>\n      <th>Day1</th>\n      <th>Day2</th>\n      <th>Day3</th>\n    </tr>\n  </thead>\n  <tbody>\n    <tr>\n      <th>0</th>\n      <td>50.0</td>\n      <td>30.0</td>\n      <td>40.0</td>\n    </tr>\n    <tr>\n      <th>1</th>\n      <td>100.0</td>\n      <td>25.0</td>\n      <td>40.0</td>\n    </tr>\n    <tr>\n      <th>2</th>\n      <td>75.0</td>\n      <td>40.0</td>\n      <td>70.0</td>\n    </tr>\n    <tr>\n      <th>3</th>\n      <td>75.0</td>\n      <td>NaN</td>\n      <td>95.0</td>\n    </tr>\n  </tbody>\n</table>\n</div>"
     },
     "metadata": {}
    }
   ],
   "execution_count": 38
  },
  {
   "cell_type": "markdown",
   "source": "Then, let's use another method which is replace() to fill missing values.",
   "metadata": {
    "tags": [],
    "is_collapsed": false,
    "cell_id": "00128-2e5308d7-b61e-484e-a022-ddb3eaa2d985",
    "deepnote_cell_type": "text-cell-p"
   }
  },
  {
   "cell_type": "code",
   "source": "# will replace Nan value in dataframe with value -99\nDF.replace(to_replace=np.nan,value=-99)",
   "metadata": {
    "tags": [],
    "cell_id": "00129-3d47df56-2e64-421f-a581-ac29bcb904d2",
    "deepnote_to_be_reexecuted": false,
    "source_hash": "21fa9d61",
    "execution_start": 1637406580941,
    "execution_millis": 162,
    "deepnote_cell_type": "code"
   },
   "outputs": [
    {
     "output_type": "execute_result",
     "execution_count": 39,
     "data": {
      "application/vnd.deepnote.dataframe.v2+json": {
       "row_count": 4,
       "column_count": 3,
       "columns": [
        {
         "name": "Day1",
         "dtype": "float64",
         "stats": {
          "unique_count": 4,
          "nan_count": 0,
          "min": "-99.0",
          "max": "100.0",
          "histogram": [
           {
            "bin_start": -99,
            "bin_end": -79.1,
            "count": 1
           },
           {
            "bin_start": -79.1,
            "bin_end": -59.2,
            "count": 0
           },
           {
            "bin_start": -59.2,
            "bin_end": -39.300000000000004,
            "count": 0
           },
           {
            "bin_start": -39.300000000000004,
            "bin_end": -19.400000000000006,
            "count": 0
           },
           {
            "bin_start": -19.400000000000006,
            "bin_end": 0.5,
            "count": 0
           },
           {
            "bin_start": 0.5,
            "bin_end": 20.39999999999999,
            "count": 0
           },
           {
            "bin_start": 20.39999999999999,
            "bin_end": 40.29999999999998,
            "count": 0
           },
           {
            "bin_start": 40.29999999999998,
            "bin_end": 60.19999999999999,
            "count": 1
           },
           {
            "bin_start": 60.19999999999999,
            "bin_end": 80.1,
            "count": 1
           },
           {
            "bin_start": 80.1,
            "bin_end": 100,
            "count": 1
           }
          ]
         }
        },
        {
         "name": "Day2",
         "dtype": "float64",
         "stats": {
          "unique_count": 4,
          "nan_count": 0,
          "min": "-99.0",
          "max": "40.0",
          "histogram": [
           {
            "bin_start": -99,
            "bin_end": -85.1,
            "count": 1
           },
           {
            "bin_start": -85.1,
            "bin_end": -71.2,
            "count": 0
           },
           {
            "bin_start": -71.2,
            "bin_end": -57.3,
            "count": 0
           },
           {
            "bin_start": -57.3,
            "bin_end": -43.4,
            "count": 0
           },
           {
            "bin_start": -43.4,
            "bin_end": -29.5,
            "count": 0
           },
           {
            "bin_start": -29.5,
            "bin_end": -15.599999999999994,
            "count": 0
           },
           {
            "bin_start": -15.599999999999994,
            "bin_end": -1.7000000000000028,
            "count": 0
           },
           {
            "bin_start": -1.7000000000000028,
            "bin_end": 12.200000000000003,
            "count": 0
           },
           {
            "bin_start": 12.200000000000003,
            "bin_end": 26.10000000000001,
            "count": 1
           },
           {
            "bin_start": 26.10000000000001,
            "bin_end": 40,
            "count": 2
           }
          ]
         }
        },
        {
         "name": "Day3",
         "dtype": "float64",
         "stats": {
          "unique_count": 4,
          "nan_count": 0,
          "min": "-99.0",
          "max": "95.0",
          "histogram": [
           {
            "bin_start": -99,
            "bin_end": -79.6,
            "count": 1
           },
           {
            "bin_start": -79.6,
            "bin_end": -60.2,
            "count": 0
           },
           {
            "bin_start": -60.2,
            "bin_end": -40.800000000000004,
            "count": 0
           },
           {
            "bin_start": -40.800000000000004,
            "bin_end": -21.400000000000006,
            "count": 0
           },
           {
            "bin_start": -21.400000000000006,
            "bin_end": -2,
            "count": 0
           },
           {
            "bin_start": -2,
            "bin_end": 17.39999999999999,
            "count": 0
           },
           {
            "bin_start": 17.39999999999999,
            "bin_end": 36.79999999999998,
            "count": 0
           },
           {
            "bin_start": 36.79999999999998,
            "bin_end": 56.19999999999999,
            "count": 1
           },
           {
            "bin_start": 56.19999999999999,
            "bin_end": 75.6,
            "count": 1
           },
           {
            "bin_start": 75.6,
            "bin_end": 95,
            "count": 1
           }
          ]
         }
        },
        {
         "name": "_deepnote_index_column",
         "dtype": "int64"
        }
       ],
       "rows_top": [
        {
         "Day1": 50,
         "Day2": 30,
         "Day3": -99,
         "_deepnote_index_column": 0
        },
        {
         "Day1": 100,
         "Day2": 25,
         "Day3": 40,
         "_deepnote_index_column": 1
        },
        {
         "Day1": -99,
         "Day2": 40,
         "Day3": 70,
         "_deepnote_index_column": 2
        },
        {
         "Day1": 75,
         "Day2": -99,
         "Day3": 95,
         "_deepnote_index_column": 3
        }
       ],
       "rows_bottom": null
      },
      "text/plain": "    Day1  Day2  Day3\n0   50.0  30.0 -99.0\n1  100.0  25.0  40.0\n2  -99.0  40.0  70.0\n3   75.0 -99.0  95.0",
      "text/html": "<div>\n<style scoped>\n    .dataframe tbody tr th:only-of-type {\n        vertical-align: middle;\n    }\n\n    .dataframe tbody tr th {\n        vertical-align: top;\n    }\n\n    .dataframe thead th {\n        text-align: right;\n    }\n</style>\n<table border=\"1\" class=\"dataframe\">\n  <thead>\n    <tr style=\"text-align: right;\">\n      <th></th>\n      <th>Day1</th>\n      <th>Day2</th>\n      <th>Day3</th>\n    </tr>\n  </thead>\n  <tbody>\n    <tr>\n      <th>0</th>\n      <td>50.0</td>\n      <td>30.0</td>\n      <td>-99.0</td>\n    </tr>\n    <tr>\n      <th>1</th>\n      <td>100.0</td>\n      <td>25.0</td>\n      <td>40.0</td>\n    </tr>\n    <tr>\n      <th>2</th>\n      <td>-99.0</td>\n      <td>40.0</td>\n      <td>70.0</td>\n    </tr>\n    <tr>\n      <th>3</th>\n      <td>75.0</td>\n      <td>-99.0</td>\n      <td>95.0</td>\n    </tr>\n  </tbody>\n</table>\n</div>"
     },
     "metadata": {}
    }
   ],
   "execution_count": 39
  },
  {
   "cell_type": "markdown",
   "source": "Three missing values are now filled with -99. ",
   "metadata": {
    "tags": [],
    "is_collapsed": false,
    "cell_id": "00130-26162a42-370a-40de-a876-31ac704a879b",
    "deepnote_cell_type": "text-cell-p"
   }
  },
  {
   "cell_type": "markdown",
   "source": "It is time for interpolation now. We can use interpolate() function to fill the missing values linear method. The linear method ignores the index and treat the values as equally spaced. ",
   "metadata": {
    "tags": [],
    "is_collapsed": false,
    "cell_id": "00131-9951fcd1-5196-48dc-91ad-a08b8956bed2",
    "deepnote_cell_type": "text-cell-p"
   }
  },
  {
   "cell_type": "code",
   "source": "DF.interpolate(method='linear',limit_direction='forward')",
   "metadata": {
    "tags": [],
    "cell_id": "00132-aee8218a-32c3-42cb-997d-87f10e5add06",
    "deepnote_to_be_reexecuted": false,
    "source_hash": "2407c083",
    "execution_start": 1637406739945,
    "execution_millis": 5,
    "deepnote_cell_type": "code"
   },
   "outputs": [
    {
     "output_type": "execute_result",
     "execution_count": 40,
     "data": {
      "application/vnd.deepnote.dataframe.v2+json": {
       "row_count": 4,
       "column_count": 3,
       "columns": [
        {
         "name": "Day1",
         "dtype": "float64",
         "stats": {
          "unique_count": 4,
          "nan_count": 0,
          "min": "50.0",
          "max": "100.0",
          "histogram": [
           {
            "bin_start": 50,
            "bin_end": 55,
            "count": 1
           },
           {
            "bin_start": 55,
            "bin_end": 60,
            "count": 0
           },
           {
            "bin_start": 60,
            "bin_end": 65,
            "count": 0
           },
           {
            "bin_start": 65,
            "bin_end": 70,
            "count": 0
           },
           {
            "bin_start": 70,
            "bin_end": 75,
            "count": 0
           },
           {
            "bin_start": 75,
            "bin_end": 80,
            "count": 1
           },
           {
            "bin_start": 80,
            "bin_end": 85,
            "count": 0
           },
           {
            "bin_start": 85,
            "bin_end": 90,
            "count": 1
           },
           {
            "bin_start": 90,
            "bin_end": 95,
            "count": 0
           },
           {
            "bin_start": 95,
            "bin_end": 100,
            "count": 1
           }
          ]
         }
        },
        {
         "name": "Day2",
         "dtype": "float64",
         "stats": {
          "unique_count": 3,
          "nan_count": 0,
          "min": "25.0",
          "max": "40.0",
          "histogram": [
           {
            "bin_start": 25,
            "bin_end": 26.5,
            "count": 1
           },
           {
            "bin_start": 26.5,
            "bin_end": 28,
            "count": 0
           },
           {
            "bin_start": 28,
            "bin_end": 29.5,
            "count": 0
           },
           {
            "bin_start": 29.5,
            "bin_end": 31,
            "count": 1
           },
           {
            "bin_start": 31,
            "bin_end": 32.5,
            "count": 0
           },
           {
            "bin_start": 32.5,
            "bin_end": 34,
            "count": 0
           },
           {
            "bin_start": 34,
            "bin_end": 35.5,
            "count": 0
           },
           {
            "bin_start": 35.5,
            "bin_end": 37,
            "count": 0
           },
           {
            "bin_start": 37,
            "bin_end": 38.5,
            "count": 0
           },
           {
            "bin_start": 38.5,
            "bin_end": 40,
            "count": 2
           }
          ]
         }
        },
        {
         "name": "Day3",
         "dtype": "float64",
         "stats": {
          "unique_count": 3,
          "nan_count": 1,
          "min": "40.0",
          "max": "95.0",
          "histogram": [
           {
            "bin_start": 40,
            "bin_end": 45.5,
            "count": 1
           },
           {
            "bin_start": 45.5,
            "bin_end": 51,
            "count": 0
           },
           {
            "bin_start": 51,
            "bin_end": 56.5,
            "count": 0
           },
           {
            "bin_start": 56.5,
            "bin_end": 62,
            "count": 0
           },
           {
            "bin_start": 62,
            "bin_end": 67.5,
            "count": 0
           },
           {
            "bin_start": 67.5,
            "bin_end": 73,
            "count": 1
           },
           {
            "bin_start": 73,
            "bin_end": 78.5,
            "count": 0
           },
           {
            "bin_start": 78.5,
            "bin_end": 84,
            "count": 0
           },
           {
            "bin_start": 84,
            "bin_end": 89.5,
            "count": 0
           },
           {
            "bin_start": 89.5,
            "bin_end": 95,
            "count": 1
           }
          ]
         }
        },
        {
         "name": "_deepnote_index_column",
         "dtype": "int64"
        }
       ],
       "rows_top": [
        {
         "Day1": 50,
         "Day2": 30,
         "Day3": "nan",
         "_deepnote_index_column": 0
        },
        {
         "Day1": 100,
         "Day2": 25,
         "Day3": 40,
         "_deepnote_index_column": 1
        },
        {
         "Day1": 87.5,
         "Day2": 40,
         "Day3": 70,
         "_deepnote_index_column": 2
        },
        {
         "Day1": 75,
         "Day2": 40,
         "Day3": 95,
         "_deepnote_index_column": 3
        }
       ],
       "rows_bottom": null
      },
      "text/plain": "    Day1  Day2  Day3\n0   50.0  30.0   NaN\n1  100.0  25.0  40.0\n2   87.5  40.0  70.0\n3   75.0  40.0  95.0",
      "text/html": "<div>\n<style scoped>\n    .dataframe tbody tr th:only-of-type {\n        vertical-align: middle;\n    }\n\n    .dataframe tbody tr th {\n        vertical-align: top;\n    }\n\n    .dataframe thead th {\n        text-align: right;\n    }\n</style>\n<table border=\"1\" class=\"dataframe\">\n  <thead>\n    <tr style=\"text-align: right;\">\n      <th></th>\n      <th>Day1</th>\n      <th>Day2</th>\n      <th>Day3</th>\n    </tr>\n  </thead>\n  <tbody>\n    <tr>\n      <th>0</th>\n      <td>50.0</td>\n      <td>30.0</td>\n      <td>NaN</td>\n    </tr>\n    <tr>\n      <th>1</th>\n      <td>100.0</td>\n      <td>25.0</td>\n      <td>40.0</td>\n    </tr>\n    <tr>\n      <th>2</th>\n      <td>87.5</td>\n      <td>40.0</td>\n      <td>70.0</td>\n    </tr>\n    <tr>\n      <th>3</th>\n      <td>75.0</td>\n      <td>40.0</td>\n      <td>95.0</td>\n    </tr>\n  </tbody>\n</table>\n</div>"
     },
     "metadata": {}
    }
   ],
   "execution_count": 40
  },
  {
   "cell_type": "markdown",
   "source": "As we can see the output, values in the first row could not get filled because the direction of filling of values is forward and there is no previous value which could have been used in interpolation.",
   "metadata": {
    "tags": [],
    "is_collapsed": false,
    "cell_id": "00133-b3ecce73-cbfd-459d-a9d0-f43d48a94af2",
    "deepnote_cell_type": "text-cell-p"
   }
  },
  {
   "cell_type": "markdown",
   "source": "# Conclusion",
   "metadata": {
    "tags": [],
    "is_collapsed": false,
    "cell_id": "00134-90a05b47-0315-4ba9-9ff3-3eef585baf73",
    "deepnote_cell_type": "text-cell-h1"
   }
  },
  {
   "cell_type": "markdown",
   "source": "In this tutorial, I introduced some basic useful techniques of Pandas for data manipulation. Kindly referenced to Data Camp Pandas Tutorial, Python Documentation and https://www.geeksforgeeks.org/.",
   "metadata": {
    "tags": [],
    "is_collapsed": false,
    "cell_id": "00135-82b604a3-aa95-4de0-8d89-31e94683ad8d",
    "deepnote_cell_type": "text-cell-p"
   }
  },
  {
   "cell_type": "markdown",
   "source": "<a style='text-decoration:none;line-height:16px;display:flex;color:#5B5B62;padding:10px;justify-content:end;' href='https://deepnote.com?utm_source=created-in-deepnote-cell&projectId=6f6e2c88-220d-4c67-914f-94e653a267a2' target=\"_blank\">\n<img alt='Created in deepnote.com' style='display:inline;max-height:16px;margin:0px;margin-right:7.5px;' src='data:image/svg+xml;base64,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' > </img>\nCreated in <span style='font-weight:600;margin-left:4px;'>Deepnote</span></a>",
   "metadata": {
    "tags": [],
    "created_in_deepnote_cell": true,
    "deepnote_cell_type": "markdown"
   }
  }
 ],
 "nbformat": 4,
 "nbformat_minor": 2,
 "metadata": {
  "orig_nbformat": 2,
  "deepnote": {
   "is_reactive": false
  },
  "deepnote_notebook_id": "fdbb9c9e-035e-4762-90bc-74957f536f71",
  "deepnote_execution_queue": []
 }
}